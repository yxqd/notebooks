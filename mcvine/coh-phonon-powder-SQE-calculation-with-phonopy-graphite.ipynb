{
 "cells": [
  {
   "cell_type": "code",
   "execution_count": 1,
   "metadata": {
    "collapsed": true
   },
   "outputs": [],
   "source": [
    "import numpy as np, os\n",
    "import matplotlib as mpl\n",
    "%matplotlib notebook"
   ]
  },
  {
   "cell_type": "code",
   "execution_count": 2,
   "metadata": {
    "collapsed": true
   },
   "outputs": [],
   "source": [
    "from matplotlib import pyplot as plt"
   ]
  },
  {
   "cell_type": "code",
   "execution_count": 3,
   "metadata": {},
   "outputs": [
    {
     "name": "stdout",
     "output_type": "stream",
     "text": [
      "/home/lj7/dv/mcvine/phonon/tests/phonon/_tmp.explore-random-sampling-big-Qspace-box\n"
     ]
    }
   ],
   "source": [
    "workdir = '_tmp.explore-random-sampling-big-Qspace-box'\n",
    "!mkdir -p {workdir}\n",
    "%cd {workdir}"
   ]
  },
  {
   "cell_type": "code",
   "execution_count": 4,
   "metadata": {
    "collapsed": true
   },
   "outputs": [],
   "source": [
    "from mcvine.phonon.from_phonopy import call_phonopy"
   ]
  },
  {
   "cell_type": "code",
   "execution_count": 5,
   "metadata": {
    "collapsed": true
   },
   "outputs": [],
   "source": [
    "supercell = 6,6,1\n",
    "sc_mat = np.diag(supercell)"
   ]
  },
  {
   "cell_type": "code",
   "execution_count": 6,
   "metadata": {
    "collapsed": true
   },
   "outputs": [],
   "source": [
    "graphite_datadir = os.path.abspath('../../data/graphite/')"
   ]
  },
  {
   "cell_type": "code",
   "execution_count": 7,
   "metadata": {
    "collapsed": true
   },
   "outputs": [],
   "source": [
    "from phonopy import file_IO\n",
    "force_constants=file_IO.parse_FORCE_CONSTANTS(os.path.join(graphite_datadir, 'FORCE_CONSTANTS'))"
   ]
  },
  {
   "cell_type": "code",
   "execution_count": 8,
   "metadata": {
    "collapsed": true
   },
   "outputs": [],
   "source": [
    "poscar = os.path.join(graphite_datadir, 'POSCAR')"
   ]
  },
  {
   "cell_type": "code",
   "execution_count": 9,
   "metadata": {
    "collapsed": true
   },
   "outputs": [],
   "source": [
    "species = ['C']"
   ]
  },
  {
   "cell_type": "code",
   "execution_count": 10,
   "metadata": {
    "collapsed": true
   },
   "outputs": [],
   "source": [
    "qpoints = [[0.,0.,0.], [1,0,0], [0,1,0], [0,0,1], [1,1,0], [1,0,1], [0, 1,1], [1,1,1]]"
   ]
  },
  {
   "cell_type": "code",
   "execution_count": 11,
   "metadata": {
    "collapsed": true
   },
   "outputs": [],
   "source": [
    "qs, freqs, pols = call_phonopy.onGrid(\n",
    "    species, qpoints, sc_mat, \n",
    "    force_constants = force_constants,\n",
    "    poscar = poscar,\n",
    "    freq2omega=1\n",
    ")"
   ]
  },
  {
   "cell_type": "code",
   "execution_count": 12,
   "metadata": {},
   "outputs": [
    {
     "data": {
      "text/plain": [
       "(8, 12)"
      ]
     },
     "execution_count": 12,
     "metadata": {},
     "output_type": "execute_result"
    }
   ],
   "source": [
    "freqs.shape"
   ]
  },
  {
   "cell_type": "code",
   "execution_count": 13,
   "metadata": {},
   "outputs": [
    {
     "data": {
      "text/plain": [
       "array([  3.34225831e-02,   3.34225831e-02,   9.28652901e-02,\n",
       "         1.52100901e+00,   1.52100901e+00,   2.61040097e+00,\n",
       "         2.63887591e+01,   2.65558347e+01,   4.76904068e+01,\n",
       "         4.76904068e+01,   4.78045328e+01,   4.78045328e+01])"
      ]
     },
     "execution_count": 13,
     "metadata": {},
     "output_type": "execute_result"
    }
   ],
   "source": [
    "freqs[0]"
   ]
  },
  {
   "cell_type": "code",
   "execution_count": 14,
   "metadata": {},
   "outputs": [
    {
     "data": {
      "text/plain": [
       "(8, 12, 4, 3)"
      ]
     },
     "execution_count": 14,
     "metadata": {},
     "output_type": "execute_result"
    }
   ],
   "source": [
    "pols.shape"
   ]
  },
  {
   "cell_type": "code",
   "execution_count": 15,
   "metadata": {
    "collapsed": true
   },
   "outputs": [],
   "source": [
    "norms = np.linalg.norm(pols, axis=-1)"
   ]
  },
  {
   "cell_type": "code",
   "execution_count": 16,
   "metadata": {
    "collapsed": true
   },
   "outputs": [],
   "source": [
    "pols/=norms[:, :, :, np.newaxis]"
   ]
  },
  {
   "cell_type": "code",
   "execution_count": 17,
   "metadata": {},
   "outputs": [
    {
     "data": {
      "text/plain": [
       "array([[ -1.38736765e-11+0.j,   8.71603397e-12+0.j,  -1.00000000e+00+0.j],\n",
       "       [ -1.37925833e-11+0.j,   8.75866422e-12+0.j,  -1.00000000e+00+0.j],\n",
       "       [ -1.38740305e-11+0.j,   8.71665564e-12+0.j,  -1.00000000e+00+0.j],\n",
       "       [ -1.37932231e-11+0.j,   8.75860894e-12+0.j,  -1.00000000e+00+0.j]])"
      ]
     },
     "execution_count": 17,
     "metadata": {},
     "output_type": "execute_result"
    }
   ],
   "source": [
    "pols[0][2]"
   ]
  },
  {
   "cell_type": "code",
   "execution_count": 18,
   "metadata": {},
   "outputs": [
    {
     "name": "stdout",
     "output_type": "stream",
     "text": [
      "C\r\n",
      "    1.0\r\n",
      "       2.44618916393 0.00000000000   0.00000000000           \r\n",
      "      -1.22309458197 2.11846195843   0.00000000000\r\n",
      "       0.00000000000   0.00000000000 6.65422904762 \r\n",
      "  4\r\n",
      "Direct\r\n",
      "        0.00000000 0.00000000 0.25000000\r\n",
      "        0.00000000 0.00000000 0.75000000\r\n",
      "        0.33333333 0.66666667 0.25000000\r\n",
      "        0.66666667 0.33333333 0.75000000\r\n"
     ]
    }
   ],
   "source": [
    "cat {poscar}"
   ]
  },
  {
   "cell_type": "markdown",
   "metadata": {},
   "source": [
    "# random Q points"
   ]
  },
  {
   "cell_type": "code",
   "execution_count": 20,
   "metadata": {
    "collapsed": true
   },
   "outputs": [],
   "source": [
    "Q_bins = np.arange(0,22, 0.1)\n",
    "E_bins = np.arange(0,250, 1.)\n",
    "bins = Q_bins, E_bins\n",
    "# max Q of requested Q axis                                                                                                                                                                                                                                                                                     \n",
    "max_Q = Q_bins[-1]"
   ]
  },
  {
   "cell_type": "code",
   "execution_count": 21,
   "metadata": {},
   "outputs": [
    {
     "name": "stdout",
     "output_type": "stream",
     "text": [
      "CPU times: user 324 ms, sys: 40 ms, total: 364 ms\n",
      "Wall time: 361 ms\n"
     ]
    }
   ],
   "source": [
    "%%time\n",
    "N = int(1e7)\n",
    "N = int(1e6)\n",
    "Qmag = np.random.rand(N)*max_Q\n",
    "cos_theta = np.random.rand(N)*2-1  # -1 -- 1\n",
    "phi = np.random.rand(N) * 2 * np.pi\n",
    "sin_theta = np.sqrt(1-cos_theta*cos_theta)\n",
    "sin_phi = np.sin(phi); cos_phi = np.cos(phi)\n",
    "Qx = Qmag*sin_theta*cos_phi\n",
    "Qy = Qmag*sin_theta*sin_phi\n",
    "Qz = Qmag*cos_theta\n",
    "Qpoints = np.array([Qx,Qy,Qz]).T"
   ]
  },
  {
   "cell_type": "markdown",
   "metadata": {},
   "source": [
    "# Cartesian to hkl"
   ]
  },
  {
   "cell_type": "code",
   "execution_count": 23,
   "metadata": {
    "collapsed": true
   },
   "outputs": [],
   "source": [
    "from mcvine.phonon import from_phonopy"
   ]
  },
  {
   "cell_type": "code",
   "execution_count": 24,
   "metadata": {
    "collapsed": true
   },
   "outputs": [],
   "source": [
    "from_phonopy.make_crystal_xyz('graphite.xyz', species, poscar)"
   ]
  },
  {
   "cell_type": "code",
   "execution_count": 25,
   "metadata": {
    "collapsed": true
   },
   "outputs": [],
   "source": [
    "from sampleassembly.crystal.ioutils import xyzfile2unitcell"
   ]
  },
  {
   "cell_type": "code",
   "execution_count": 26,
   "metadata": {
    "collapsed": true
   },
   "outputs": [],
   "source": [
    "uc = xyzfile2unitcell('graphite.xyz')"
   ]
  },
  {
   "cell_type": "markdown",
   "metadata": {},
   "source": [
    "rows are reciprocal lattice vectors"
   ]
  },
  {
   "cell_type": "code",
   "execution_count": 35,
   "metadata": {
    "collapsed": true
   },
   "outputs": [],
   "source": [
    "Q_basis = np.linalg.inv(uc.lattice.base).T*np.pi*2"
   ]
  },
  {
   "cell_type": "code",
   "execution_count": 37,
   "metadata": {},
   "outputs": [
    {
     "data": {
      "text/plain": [
       "True"
      ]
     },
     "execution_count": 37,
     "metadata": {},
     "output_type": "execute_result"
    }
   ],
   "source": [
    "np.allclose(np.dot(uc.lattice.base, Q_basis.T), np.eye(3)*2*np.pi)"
   ]
  },
  {
   "cell_type": "markdown",
   "metadata": {},
   "source": [
    "```\n",
    "Q = h b1 + k b2 + l b3\n",
    "h = (Q . a1) / 2pi\n",
    "...\n",
    "```"
   ]
  },
  {
   "cell_type": "code",
   "execution_count": 42,
   "metadata": {
    "collapsed": true
   },
   "outputs": [],
   "source": [
    "hkls = np.dot(Qpoints, uc.lattice.base.T)/(2*np.pi)"
   ]
  },
  {
   "cell_type": "code",
   "execution_count": 44,
   "metadata": {},
   "outputs": [
    {
     "data": {
      "text/plain": [
       "(array([-11.59429045,   9.9059891 ,  14.28528929]),\n",
       " array([ -4.51392507,   5.5969024 ,  15.12888484]))"
      ]
     },
     "execution_count": 44,
     "metadata": {},
     "output_type": "execute_result"
    }
   ],
   "source": [
    "Qpoints[0], hkls[0]"
   ]
  },
  {
   "cell_type": "code",
   "execution_count": 45,
   "metadata": {},
   "outputs": [
    {
     "data": {
      "text/plain": [
       "(1000000, 3)"
      ]
     },
     "execution_count": 45,
     "metadata": {},
     "output_type": "execute_result"
    }
   ],
   "source": [
    "hkls.shape"
   ]
  },
  {
   "cell_type": "markdown",
   "metadata": {},
   "source": [
    "about an hour for 1e7 at heetuu; 6.5minutes for 1e6"
   ]
  },
  {
   "cell_type": "code",
   "execution_count": 46,
   "metadata": {},
   "outputs": [
    {
     "name": "stdout",
     "output_type": "stream",
     "text": [
      "CPU times: user 30min 49s, sys: 47min 5s, total: 1h 17min 55s\n",
      "Wall time: 6min 32s\n"
     ]
    }
   ],
   "source": [
    "%%time\n",
    "qs, freqs, pols = call_phonopy.onGrid(\n",
    "    ['C'], hkls, sc_mat, \n",
    "    force_constants = force_constants,\n",
    "    poscar = os.path.join(graphite_datadir, 'POSCAR'),\n",
    "    freq2omega=1\n",
    ")"
   ]
  },
  {
   "cell_type": "code",
   "execution_count": 61,
   "metadata": {
    "collapsed": true
   },
   "outputs": [],
   "source": [
    "good = freqs > 0"
   ]
  },
  {
   "cell_type": "code",
   "execution_count": 151,
   "metadata": {
    "collapsed": true
   },
   "outputs": [],
   "source": [
    "# omega2 = freqs**2 * 1e24 * (2*np.pi)**2"
   ]
  },
  {
   "cell_type": "code",
   "execution_count": 48,
   "metadata": {
    "collapsed": true
   },
   "outputs": [],
   "source": [
    "omega = freqs*1e12*2*np.pi"
   ]
  },
  {
   "cell_type": "code",
   "execution_count": 49,
   "metadata": {
    "collapsed": true
   },
   "outputs": [],
   "source": [
    "nq, nbr, natoms, three = pols.shape"
   ]
  },
  {
   "cell_type": "code",
   "execution_count": 50,
   "metadata": {
    "collapsed": true
   },
   "outputs": [],
   "source": [
    "assert three is 3"
   ]
  },
  {
   "cell_type": "code",
   "execution_count": 51,
   "metadata": {
    "collapsed": true
   },
   "outputs": [],
   "source": [
    "from phonopy.interface import vasp\n",
    "atoms = vasp.read_vasp(poscar, species)\n",
    "positions = atoms.get_scaled_positions()"
   ]
  },
  {
   "cell_type": "code",
   "execution_count": 52,
   "metadata": {},
   "outputs": [
    {
     "name": "stdout",
     "output_type": "stream",
     "text": [
      "CPU times: user 15.4 s, sys: 13.5 s, total: 28.9 s\n",
      "Wall time: 16 s\n"
     ]
    }
   ],
   "source": [
    "%%time\n",
    "for iatom in range(natoms):\n",
    "    qdotr = np.dot(qs, positions[iatom]) * 2 * np.pi\n",
    "    phase = np.exp(-1j * qdotr)\n",
    "    pols[:, :, iatom, :] *= phase[:, np.newaxis, np.newaxis]\n",
    "    norms = np.linalg.norm(pols, axis=-1)\n",
    "    pols/=norms[:, :, :, np.newaxis]\n",
    "    continue"
   ]
  },
  {
   "cell_type": "code",
   "execution_count": null,
   "metadata": {
    "collapsed": true
   },
   "outputs": [],
   "source": []
  },
  {
   "cell_type": "markdown",
   "metadata": {},
   "source": [
    "# Compute"
   ]
  },
  {
   "cell_type": "code",
   "execution_count": 53,
   "metadata": {
    "collapsed": true
   },
   "outputs": [],
   "source": [
    "from mccomponents.sample.idf import units"
   ]
  },
  {
   "cell_type": "code",
   "execution_count": 54,
   "metadata": {
    "collapsed": true
   },
   "outputs": [],
   "source": [
    "omega *= units.hertz2mev"
   ]
  },
  {
   "cell_type": "code",
   "execution_count": 55,
   "metadata": {},
   "outputs": [
    {
     "data": {
      "text/plain": [
       "array([  53.0531853 ,   54.18369985,   81.26206706,   81.71465696,\n",
       "         82.91038891,   82.92725304,  154.75438265,  155.07393221,\n",
       "        176.64705923,  176.77454254,  178.45586239,  178.56558458])"
      ]
     },
     "execution_count": 55,
     "metadata": {},
     "output_type": "execute_result"
    }
   ],
   "source": [
    "omega[0]"
   ]
  },
  {
   "cell_type": "code",
   "execution_count": 56,
   "metadata": {},
   "outputs": [
    {
     "data": {
      "text/plain": [
       "(1000000, 12)"
      ]
     },
     "execution_count": 56,
     "metadata": {},
     "output_type": "execute_result"
    }
   ],
   "source": [
    "omega.shape"
   ]
  },
  {
   "cell_type": "code",
   "execution_count": 57,
   "metadata": {},
   "outputs": [
    {
     "data": {
      "text/plain": [
       "(1000000, 12, 4, 3)"
      ]
     },
     "execution_count": 57,
     "metadata": {},
     "output_type": "execute_result"
    }
   ],
   "source": [
    "pols.shape"
   ]
  },
  {
   "cell_type": "code",
   "execution_count": 58,
   "metadata": {
    "collapsed": true
   },
   "outputs": [],
   "source": [
    "nbranches = nbr"
   ]
  },
  {
   "cell_type": "code",
   "execution_count": 59,
   "metadata": {
    "collapsed": true
   },
   "outputs": [],
   "source": [
    "import tqdm"
   ]
  },
  {
   "cell_type": "code",
   "execution_count": 64,
   "metadata": {
    "collapsed": true
   },
   "outputs": [],
   "source": [
    "Q_mag = np.linalg.norm(Qpoints, axis=-1)"
   ]
  },
  {
   "cell_type": "code",
   "execution_count": 65,
   "metadata": {},
   "outputs": [
    {
     "name": "stderr",
     "output_type": "stream",
     "text": [
      "100%|██████████| 12/12 [00:12<00:00,  1.03s/it]"
     ]
    },
    {
     "name": "stdout",
     "output_type": "stream",
     "text": [
      "CPU times: user 11 s, sys: 1.45 s, total: 12.4 s\n",
      "Wall time: 12.4 s\n"
     ]
    },
    {
     "name": "stderr",
     "output_type": "stream",
     "text": [
      "\n"
     ]
    }
   ],
   "source": [
    "%%time\n",
    "I = 0\n",
    "for ibr in tqdm.tqdm(range(nbranches)):\n",
    "    good1 = good[:, ibr]\n",
    "    Q_mag_good = Q_mag[good1]\n",
    "    omega_good = omega[good1, ibr]\n",
    "    Q_cart = Qpoints[good1, :]\n",
    "    #\n",
    "    exp_Q_dot_d = np.exp(1j * np.dot(Q_cart, positions.T)) # nQ, natoms \n",
    "    pols1 = pols[good1, ibr, :, :] # nQ, natoms, 3   \n",
    "    Q_dot_pol = np.sum(np.transpose(pols1, (1,0,2)) * Q_cart, axis=-1).T # nQ, natoms\n",
    "    # \n",
    "    F = np.sum(exp_Q_dot_d * Q_dot_pol, axis=-1) # nQ      \n",
    "    M = np.abs(F)**2 # nQ       \n",
    "    I1, Qbb, Ebb = np.histogram2d(Q_mag_good, omega_good, bins=bins, weights=M)\n",
    "    I = I + I1\n",
    "    continue"
   ]
  },
  {
   "cell_type": "code",
   "execution_count": 66,
   "metadata": {
    "collapsed": true
   },
   "outputs": [],
   "source": [
    "import histogram as H, histogram.hdf as hh"
   ]
  },
  {
   "cell_type": "code",
   "execution_count": 67,
   "metadata": {
    "collapsed": true
   },
   "outputs": [],
   "source": [
    "Q = (Qbb[1:] + Qbb[:-1])/2"
   ]
  },
  {
   "cell_type": "code",
   "execution_count": 68,
   "metadata": {
    "collapsed": true
   },
   "outputs": [],
   "source": [
    "IQEhist = H.histogram(\n",
    "    'IQE',\n",
    "    (H.axis('Q', boundaries=Qbb, unit='1./angstrom'),\n",
    "     H.axis('E', boundaries=Ebb, unit='meV')),\n",
    "    data=I/Q[:, np.newaxis]**2)"
   ]
  },
  {
   "cell_type": "code",
   "execution_count": 69,
   "metadata": {},
   "outputs": [
    {
     "name": "stdout",
     "output_type": "stream",
     "text": [
      "plot z in (0.0, 2792.40094952)\n"
     ]
    },
    {
     "data": {
      "application/javascript": [
       "/* Put everything inside the global mpl namespace */\n",
       "window.mpl = {};\n",
       "\n",
       "\n",
       "mpl.get_websocket_type = function() {\n",
       "    if (typeof(WebSocket) !== 'undefined') {\n",
       "        return WebSocket;\n",
       "    } else if (typeof(MozWebSocket) !== 'undefined') {\n",
       "        return MozWebSocket;\n",
       "    } else {\n",
       "        alert('Your browser does not have WebSocket support.' +\n",
       "              'Please try Chrome, Safari or Firefox ≥ 6. ' +\n",
       "              'Firefox 4 and 5 are also supported but you ' +\n",
       "              'have to enable WebSockets in about:config.');\n",
       "    };\n",
       "}\n",
       "\n",
       "mpl.figure = function(figure_id, websocket, ondownload, parent_element) {\n",
       "    this.id = figure_id;\n",
       "\n",
       "    this.ws = websocket;\n",
       "\n",
       "    this.supports_binary = (this.ws.binaryType != undefined);\n",
       "\n",
       "    if (!this.supports_binary) {\n",
       "        var warnings = document.getElementById(\"mpl-warnings\");\n",
       "        if (warnings) {\n",
       "            warnings.style.display = 'block';\n",
       "            warnings.textContent = (\n",
       "                \"This browser does not support binary websocket messages. \" +\n",
       "                    \"Performance may be slow.\");\n",
       "        }\n",
       "    }\n",
       "\n",
       "    this.imageObj = new Image();\n",
       "\n",
       "    this.context = undefined;\n",
       "    this.message = undefined;\n",
       "    this.canvas = undefined;\n",
       "    this.rubberband_canvas = undefined;\n",
       "    this.rubberband_context = undefined;\n",
       "    this.format_dropdown = undefined;\n",
       "\n",
       "    this.image_mode = 'full';\n",
       "\n",
       "    this.root = $('<div/>');\n",
       "    this._root_extra_style(this.root)\n",
       "    this.root.attr('style', 'display: inline-block');\n",
       "\n",
       "    $(parent_element).append(this.root);\n",
       "\n",
       "    this._init_header(this);\n",
       "    this._init_canvas(this);\n",
       "    this._init_toolbar(this);\n",
       "\n",
       "    var fig = this;\n",
       "\n",
       "    this.waiting = false;\n",
       "\n",
       "    this.ws.onopen =  function () {\n",
       "            fig.send_message(\"supports_binary\", {value: fig.supports_binary});\n",
       "            fig.send_message(\"send_image_mode\", {});\n",
       "            if (mpl.ratio != 1) {\n",
       "                fig.send_message(\"set_dpi_ratio\", {'dpi_ratio': mpl.ratio});\n",
       "            }\n",
       "            fig.send_message(\"refresh\", {});\n",
       "        }\n",
       "\n",
       "    this.imageObj.onload = function() {\n",
       "            if (fig.image_mode == 'full') {\n",
       "                // Full images could contain transparency (where diff images\n",
       "                // almost always do), so we need to clear the canvas so that\n",
       "                // there is no ghosting.\n",
       "                fig.context.clearRect(0, 0, fig.canvas.width, fig.canvas.height);\n",
       "            }\n",
       "            fig.context.drawImage(fig.imageObj, 0, 0);\n",
       "        };\n",
       "\n",
       "    this.imageObj.onunload = function() {\n",
       "        this.ws.close();\n",
       "    }\n",
       "\n",
       "    this.ws.onmessage = this._make_on_message_function(this);\n",
       "\n",
       "    this.ondownload = ondownload;\n",
       "}\n",
       "\n",
       "mpl.figure.prototype._init_header = function() {\n",
       "    var titlebar = $(\n",
       "        '<div class=\"ui-dialog-titlebar ui-widget-header ui-corner-all ' +\n",
       "        'ui-helper-clearfix\"/>');\n",
       "    var titletext = $(\n",
       "        '<div class=\"ui-dialog-title\" style=\"width: 100%; ' +\n",
       "        'text-align: center; padding: 3px;\"/>');\n",
       "    titlebar.append(titletext)\n",
       "    this.root.append(titlebar);\n",
       "    this.header = titletext[0];\n",
       "}\n",
       "\n",
       "\n",
       "\n",
       "mpl.figure.prototype._canvas_extra_style = function(canvas_div) {\n",
       "\n",
       "}\n",
       "\n",
       "\n",
       "mpl.figure.prototype._root_extra_style = function(canvas_div) {\n",
       "\n",
       "}\n",
       "\n",
       "mpl.figure.prototype._init_canvas = function() {\n",
       "    var fig = this;\n",
       "\n",
       "    var canvas_div = $('<div/>');\n",
       "\n",
       "    canvas_div.attr('style', 'position: relative; clear: both; outline: 0');\n",
       "\n",
       "    function canvas_keyboard_event(event) {\n",
       "        return fig.key_event(event, event['data']);\n",
       "    }\n",
       "\n",
       "    canvas_div.keydown('key_press', canvas_keyboard_event);\n",
       "    canvas_div.keyup('key_release', canvas_keyboard_event);\n",
       "    this.canvas_div = canvas_div\n",
       "    this._canvas_extra_style(canvas_div)\n",
       "    this.root.append(canvas_div);\n",
       "\n",
       "    var canvas = $('<canvas/>');\n",
       "    canvas.addClass('mpl-canvas');\n",
       "    canvas.attr('style', \"left: 0; top: 0; z-index: 0; outline: 0\")\n",
       "\n",
       "    this.canvas = canvas[0];\n",
       "    this.context = canvas[0].getContext(\"2d\");\n",
       "\n",
       "    var backingStore = this.context.backingStorePixelRatio ||\n",
       "\tthis.context.webkitBackingStorePixelRatio ||\n",
       "\tthis.context.mozBackingStorePixelRatio ||\n",
       "\tthis.context.msBackingStorePixelRatio ||\n",
       "\tthis.context.oBackingStorePixelRatio ||\n",
       "\tthis.context.backingStorePixelRatio || 1;\n",
       "\n",
       "    mpl.ratio = (window.devicePixelRatio || 1) / backingStore;\n",
       "\n",
       "    var rubberband = $('<canvas/>');\n",
       "    rubberband.attr('style', \"position: absolute; left: 0; top: 0; z-index: 1;\")\n",
       "\n",
       "    var pass_mouse_events = true;\n",
       "\n",
       "    canvas_div.resizable({\n",
       "        start: function(event, ui) {\n",
       "            pass_mouse_events = false;\n",
       "        },\n",
       "        resize: function(event, ui) {\n",
       "            fig.request_resize(ui.size.width, ui.size.height);\n",
       "        },\n",
       "        stop: function(event, ui) {\n",
       "            pass_mouse_events = true;\n",
       "            fig.request_resize(ui.size.width, ui.size.height);\n",
       "        },\n",
       "    });\n",
       "\n",
       "    function mouse_event_fn(event) {\n",
       "        if (pass_mouse_events)\n",
       "            return fig.mouse_event(event, event['data']);\n",
       "    }\n",
       "\n",
       "    rubberband.mousedown('button_press', mouse_event_fn);\n",
       "    rubberband.mouseup('button_release', mouse_event_fn);\n",
       "    // Throttle sequential mouse events to 1 every 20ms.\n",
       "    rubberband.mousemove('motion_notify', mouse_event_fn);\n",
       "\n",
       "    rubberband.mouseenter('figure_enter', mouse_event_fn);\n",
       "    rubberband.mouseleave('figure_leave', mouse_event_fn);\n",
       "\n",
       "    canvas_div.on(\"wheel\", function (event) {\n",
       "        event = event.originalEvent;\n",
       "        event['data'] = 'scroll'\n",
       "        if (event.deltaY < 0) {\n",
       "            event.step = 1;\n",
       "        } else {\n",
       "            event.step = -1;\n",
       "        }\n",
       "        mouse_event_fn(event);\n",
       "    });\n",
       "\n",
       "    canvas_div.append(canvas);\n",
       "    canvas_div.append(rubberband);\n",
       "\n",
       "    this.rubberband = rubberband;\n",
       "    this.rubberband_canvas = rubberband[0];\n",
       "    this.rubberband_context = rubberband[0].getContext(\"2d\");\n",
       "    this.rubberband_context.strokeStyle = \"#000000\";\n",
       "\n",
       "    this._resize_canvas = function(width, height) {\n",
       "        // Keep the size of the canvas, canvas container, and rubber band\n",
       "        // canvas in synch.\n",
       "        canvas_div.css('width', width)\n",
       "        canvas_div.css('height', height)\n",
       "\n",
       "        canvas.attr('width', width * mpl.ratio);\n",
       "        canvas.attr('height', height * mpl.ratio);\n",
       "        canvas.attr('style', 'width: ' + width + 'px; height: ' + height + 'px;');\n",
       "\n",
       "        rubberband.attr('width', width);\n",
       "        rubberband.attr('height', height);\n",
       "    }\n",
       "\n",
       "    // Set the figure to an initial 600x600px, this will subsequently be updated\n",
       "    // upon first draw.\n",
       "    this._resize_canvas(600, 600);\n",
       "\n",
       "    // Disable right mouse context menu.\n",
       "    $(this.rubberband_canvas).bind(\"contextmenu\",function(e){\n",
       "        return false;\n",
       "    });\n",
       "\n",
       "    function set_focus () {\n",
       "        canvas.focus();\n",
       "        canvas_div.focus();\n",
       "    }\n",
       "\n",
       "    window.setTimeout(set_focus, 100);\n",
       "}\n",
       "\n",
       "mpl.figure.prototype._init_toolbar = function() {\n",
       "    var fig = this;\n",
       "\n",
       "    var nav_element = $('<div/>')\n",
       "    nav_element.attr('style', 'width: 100%');\n",
       "    this.root.append(nav_element);\n",
       "\n",
       "    // Define a callback function for later on.\n",
       "    function toolbar_event(event) {\n",
       "        return fig.toolbar_button_onclick(event['data']);\n",
       "    }\n",
       "    function toolbar_mouse_event(event) {\n",
       "        return fig.toolbar_button_onmouseover(event['data']);\n",
       "    }\n",
       "\n",
       "    for(var toolbar_ind in mpl.toolbar_items) {\n",
       "        var name = mpl.toolbar_items[toolbar_ind][0];\n",
       "        var tooltip = mpl.toolbar_items[toolbar_ind][1];\n",
       "        var image = mpl.toolbar_items[toolbar_ind][2];\n",
       "        var method_name = mpl.toolbar_items[toolbar_ind][3];\n",
       "\n",
       "        if (!name) {\n",
       "            // put a spacer in here.\n",
       "            continue;\n",
       "        }\n",
       "        var button = $('<button/>');\n",
       "        button.addClass('ui-button ui-widget ui-state-default ui-corner-all ' +\n",
       "                        'ui-button-icon-only');\n",
       "        button.attr('role', 'button');\n",
       "        button.attr('aria-disabled', 'false');\n",
       "        button.click(method_name, toolbar_event);\n",
       "        button.mouseover(tooltip, toolbar_mouse_event);\n",
       "\n",
       "        var icon_img = $('<span/>');\n",
       "        icon_img.addClass('ui-button-icon-primary ui-icon');\n",
       "        icon_img.addClass(image);\n",
       "        icon_img.addClass('ui-corner-all');\n",
       "\n",
       "        var tooltip_span = $('<span/>');\n",
       "        tooltip_span.addClass('ui-button-text');\n",
       "        tooltip_span.html(tooltip);\n",
       "\n",
       "        button.append(icon_img);\n",
       "        button.append(tooltip_span);\n",
       "\n",
       "        nav_element.append(button);\n",
       "    }\n",
       "\n",
       "    var fmt_picker_span = $('<span/>');\n",
       "\n",
       "    var fmt_picker = $('<select/>');\n",
       "    fmt_picker.addClass('mpl-toolbar-option ui-widget ui-widget-content');\n",
       "    fmt_picker_span.append(fmt_picker);\n",
       "    nav_element.append(fmt_picker_span);\n",
       "    this.format_dropdown = fmt_picker[0];\n",
       "\n",
       "    for (var ind in mpl.extensions) {\n",
       "        var fmt = mpl.extensions[ind];\n",
       "        var option = $(\n",
       "            '<option/>', {selected: fmt === mpl.default_extension}).html(fmt);\n",
       "        fmt_picker.append(option)\n",
       "    }\n",
       "\n",
       "    // Add hover states to the ui-buttons\n",
       "    $( \".ui-button\" ).hover(\n",
       "        function() { $(this).addClass(\"ui-state-hover\");},\n",
       "        function() { $(this).removeClass(\"ui-state-hover\");}\n",
       "    );\n",
       "\n",
       "    var status_bar = $('<span class=\"mpl-message\"/>');\n",
       "    nav_element.append(status_bar);\n",
       "    this.message = status_bar[0];\n",
       "}\n",
       "\n",
       "mpl.figure.prototype.request_resize = function(x_pixels, y_pixels) {\n",
       "    // Request matplotlib to resize the figure. Matplotlib will then trigger a resize in the client,\n",
       "    // which will in turn request a refresh of the image.\n",
       "    this.send_message('resize', {'width': x_pixels, 'height': y_pixels});\n",
       "}\n",
       "\n",
       "mpl.figure.prototype.send_message = function(type, properties) {\n",
       "    properties['type'] = type;\n",
       "    properties['figure_id'] = this.id;\n",
       "    this.ws.send(JSON.stringify(properties));\n",
       "}\n",
       "\n",
       "mpl.figure.prototype.send_draw_message = function() {\n",
       "    if (!this.waiting) {\n",
       "        this.waiting = true;\n",
       "        this.ws.send(JSON.stringify({type: \"draw\", figure_id: this.id}));\n",
       "    }\n",
       "}\n",
       "\n",
       "\n",
       "mpl.figure.prototype.handle_save = function(fig, msg) {\n",
       "    var format_dropdown = fig.format_dropdown;\n",
       "    var format = format_dropdown.options[format_dropdown.selectedIndex].value;\n",
       "    fig.ondownload(fig, format);\n",
       "}\n",
       "\n",
       "\n",
       "mpl.figure.prototype.handle_resize = function(fig, msg) {\n",
       "    var size = msg['size'];\n",
       "    if (size[0] != fig.canvas.width || size[1] != fig.canvas.height) {\n",
       "        fig._resize_canvas(size[0], size[1]);\n",
       "        fig.send_message(\"refresh\", {});\n",
       "    };\n",
       "}\n",
       "\n",
       "mpl.figure.prototype.handle_rubberband = function(fig, msg) {\n",
       "    var x0 = msg['x0'] / mpl.ratio;\n",
       "    var y0 = (fig.canvas.height - msg['y0']) / mpl.ratio;\n",
       "    var x1 = msg['x1'] / mpl.ratio;\n",
       "    var y1 = (fig.canvas.height - msg['y1']) / mpl.ratio;\n",
       "    x0 = Math.floor(x0) + 0.5;\n",
       "    y0 = Math.floor(y0) + 0.5;\n",
       "    x1 = Math.floor(x1) + 0.5;\n",
       "    y1 = Math.floor(y1) + 0.5;\n",
       "    var min_x = Math.min(x0, x1);\n",
       "    var min_y = Math.min(y0, y1);\n",
       "    var width = Math.abs(x1 - x0);\n",
       "    var height = Math.abs(y1 - y0);\n",
       "\n",
       "    fig.rubberband_context.clearRect(\n",
       "        0, 0, fig.canvas.width, fig.canvas.height);\n",
       "\n",
       "    fig.rubberband_context.strokeRect(min_x, min_y, width, height);\n",
       "}\n",
       "\n",
       "mpl.figure.prototype.handle_figure_label = function(fig, msg) {\n",
       "    // Updates the figure title.\n",
       "    fig.header.textContent = msg['label'];\n",
       "}\n",
       "\n",
       "mpl.figure.prototype.handle_cursor = function(fig, msg) {\n",
       "    var cursor = msg['cursor'];\n",
       "    switch(cursor)\n",
       "    {\n",
       "    case 0:\n",
       "        cursor = 'pointer';\n",
       "        break;\n",
       "    case 1:\n",
       "        cursor = 'default';\n",
       "        break;\n",
       "    case 2:\n",
       "        cursor = 'crosshair';\n",
       "        break;\n",
       "    case 3:\n",
       "        cursor = 'move';\n",
       "        break;\n",
       "    }\n",
       "    fig.rubberband_canvas.style.cursor = cursor;\n",
       "}\n",
       "\n",
       "mpl.figure.prototype.handle_message = function(fig, msg) {\n",
       "    fig.message.textContent = msg['message'];\n",
       "}\n",
       "\n",
       "mpl.figure.prototype.handle_draw = function(fig, msg) {\n",
       "    // Request the server to send over a new figure.\n",
       "    fig.send_draw_message();\n",
       "}\n",
       "\n",
       "mpl.figure.prototype.handle_image_mode = function(fig, msg) {\n",
       "    fig.image_mode = msg['mode'];\n",
       "}\n",
       "\n",
       "mpl.figure.prototype.updated_canvas_event = function() {\n",
       "    // Called whenever the canvas gets updated.\n",
       "    this.send_message(\"ack\", {});\n",
       "}\n",
       "\n",
       "// A function to construct a web socket function for onmessage handling.\n",
       "// Called in the figure constructor.\n",
       "mpl.figure.prototype._make_on_message_function = function(fig) {\n",
       "    return function socket_on_message(evt) {\n",
       "        if (evt.data instanceof Blob) {\n",
       "            /* FIXME: We get \"Resource interpreted as Image but\n",
       "             * transferred with MIME type text/plain:\" errors on\n",
       "             * Chrome.  But how to set the MIME type?  It doesn't seem\n",
       "             * to be part of the websocket stream */\n",
       "            evt.data.type = \"image/png\";\n",
       "\n",
       "            /* Free the memory for the previous frames */\n",
       "            if (fig.imageObj.src) {\n",
       "                (window.URL || window.webkitURL).revokeObjectURL(\n",
       "                    fig.imageObj.src);\n",
       "            }\n",
       "\n",
       "            fig.imageObj.src = (window.URL || window.webkitURL).createObjectURL(\n",
       "                evt.data);\n",
       "            fig.updated_canvas_event();\n",
       "            fig.waiting = false;\n",
       "            return;\n",
       "        }\n",
       "        else if (typeof evt.data === 'string' && evt.data.slice(0, 21) == \"data:image/png;base64\") {\n",
       "            fig.imageObj.src = evt.data;\n",
       "            fig.updated_canvas_event();\n",
       "            fig.waiting = false;\n",
       "            return;\n",
       "        }\n",
       "\n",
       "        var msg = JSON.parse(evt.data);\n",
       "        var msg_type = msg['type'];\n",
       "\n",
       "        // Call the  \"handle_{type}\" callback, which takes\n",
       "        // the figure and JSON message as its only arguments.\n",
       "        try {\n",
       "            var callback = fig[\"handle_\" + msg_type];\n",
       "        } catch (e) {\n",
       "            console.log(\"No handler for the '\" + msg_type + \"' message type: \", msg);\n",
       "            return;\n",
       "        }\n",
       "\n",
       "        if (callback) {\n",
       "            try {\n",
       "                // console.log(\"Handling '\" + msg_type + \"' message: \", msg);\n",
       "                callback(fig, msg);\n",
       "            } catch (e) {\n",
       "                console.log(\"Exception inside the 'handler_\" + msg_type + \"' callback:\", e, e.stack, msg);\n",
       "            }\n",
       "        }\n",
       "    };\n",
       "}\n",
       "\n",
       "// from http://stackoverflow.com/questions/1114465/getting-mouse-location-in-canvas\n",
       "mpl.findpos = function(e) {\n",
       "    //this section is from http://www.quirksmode.org/js/events_properties.html\n",
       "    var targ;\n",
       "    if (!e)\n",
       "        e = window.event;\n",
       "    if (e.target)\n",
       "        targ = e.target;\n",
       "    else if (e.srcElement)\n",
       "        targ = e.srcElement;\n",
       "    if (targ.nodeType == 3) // defeat Safari bug\n",
       "        targ = targ.parentNode;\n",
       "\n",
       "    // jQuery normalizes the pageX and pageY\n",
       "    // pageX,Y are the mouse positions relative to the document\n",
       "    // offset() returns the position of the element relative to the document\n",
       "    var x = e.pageX - $(targ).offset().left;\n",
       "    var y = e.pageY - $(targ).offset().top;\n",
       "\n",
       "    return {\"x\": x, \"y\": y};\n",
       "};\n",
       "\n",
       "/*\n",
       " * return a copy of an object with only non-object keys\n",
       " * we need this to avoid circular references\n",
       " * http://stackoverflow.com/a/24161582/3208463\n",
       " */\n",
       "function simpleKeys (original) {\n",
       "  return Object.keys(original).reduce(function (obj, key) {\n",
       "    if (typeof original[key] !== 'object')\n",
       "        obj[key] = original[key]\n",
       "    return obj;\n",
       "  }, {});\n",
       "}\n",
       "\n",
       "mpl.figure.prototype.mouse_event = function(event, name) {\n",
       "    var canvas_pos = mpl.findpos(event)\n",
       "\n",
       "    if (name === 'button_press')\n",
       "    {\n",
       "        this.canvas.focus();\n",
       "        this.canvas_div.focus();\n",
       "    }\n",
       "\n",
       "    var x = canvas_pos.x * mpl.ratio;\n",
       "    var y = canvas_pos.y * mpl.ratio;\n",
       "\n",
       "    this.send_message(name, {x: x, y: y, button: event.button,\n",
       "                             step: event.step,\n",
       "                             guiEvent: simpleKeys(event)});\n",
       "\n",
       "    /* This prevents the web browser from automatically changing to\n",
       "     * the text insertion cursor when the button is pressed.  We want\n",
       "     * to control all of the cursor setting manually through the\n",
       "     * 'cursor' event from matplotlib */\n",
       "    event.preventDefault();\n",
       "    return false;\n",
       "}\n",
       "\n",
       "mpl.figure.prototype._key_event_extra = function(event, name) {\n",
       "    // Handle any extra behaviour associated with a key event\n",
       "}\n",
       "\n",
       "mpl.figure.prototype.key_event = function(event, name) {\n",
       "\n",
       "    // Prevent repeat events\n",
       "    if (name == 'key_press')\n",
       "    {\n",
       "        if (event.which === this._key)\n",
       "            return;\n",
       "        else\n",
       "            this._key = event.which;\n",
       "    }\n",
       "    if (name == 'key_release')\n",
       "        this._key = null;\n",
       "\n",
       "    var value = '';\n",
       "    if (event.ctrlKey && event.which != 17)\n",
       "        value += \"ctrl+\";\n",
       "    if (event.altKey && event.which != 18)\n",
       "        value += \"alt+\";\n",
       "    if (event.shiftKey && event.which != 16)\n",
       "        value += \"shift+\";\n",
       "\n",
       "    value += 'k';\n",
       "    value += event.which.toString();\n",
       "\n",
       "    this._key_event_extra(event, name);\n",
       "\n",
       "    this.send_message(name, {key: value,\n",
       "                             guiEvent: simpleKeys(event)});\n",
       "    return false;\n",
       "}\n",
       "\n",
       "mpl.figure.prototype.toolbar_button_onclick = function(name) {\n",
       "    if (name == 'download') {\n",
       "        this.handle_save(this, null);\n",
       "    } else {\n",
       "        this.send_message(\"toolbar_button\", {name: name});\n",
       "    }\n",
       "};\n",
       "\n",
       "mpl.figure.prototype.toolbar_button_onmouseover = function(tooltip) {\n",
       "    this.message.textContent = tooltip;\n",
       "};\n",
       "mpl.toolbar_items = [[\"Home\", \"Reset original view\", \"fa fa-home icon-home\", \"home\"], [\"Back\", \"Back to  previous view\", \"fa fa-arrow-left icon-arrow-left\", \"back\"], [\"Forward\", \"Forward to next view\", \"fa fa-arrow-right icon-arrow-right\", \"forward\"], [\"\", \"\", \"\", \"\"], [\"Pan\", \"Pan axes with left mouse, zoom with right\", \"fa fa-arrows icon-move\", \"pan\"], [\"Zoom\", \"Zoom to rectangle\", \"fa fa-square-o icon-check-empty\", \"zoom\"], [\"\", \"\", \"\", \"\"], [\"Download\", \"Download plot\", \"fa fa-floppy-o icon-save\", \"download\"]];\n",
       "\n",
       "mpl.extensions = [\"eps\", \"jpeg\", \"pdf\", \"png\", \"ps\", \"raw\", \"svg\", \"tif\"];\n",
       "\n",
       "mpl.default_extension = \"png\";var comm_websocket_adapter = function(comm) {\n",
       "    // Create a \"websocket\"-like object which calls the given IPython comm\n",
       "    // object with the appropriate methods. Currently this is a non binary\n",
       "    // socket, so there is still some room for performance tuning.\n",
       "    var ws = {};\n",
       "\n",
       "    ws.close = function() {\n",
       "        comm.close()\n",
       "    };\n",
       "    ws.send = function(m) {\n",
       "        //console.log('sending', m);\n",
       "        comm.send(m);\n",
       "    };\n",
       "    // Register the callback with on_msg.\n",
       "    comm.on_msg(function(msg) {\n",
       "        //console.log('receiving', msg['content']['data'], msg);\n",
       "        // Pass the mpl event to the overriden (by mpl) onmessage function.\n",
       "        ws.onmessage(msg['content']['data'])\n",
       "    });\n",
       "    return ws;\n",
       "}\n",
       "\n",
       "mpl.mpl_figure_comm = function(comm, msg) {\n",
       "    // This is the function which gets called when the mpl process\n",
       "    // starts-up an IPython Comm through the \"matplotlib\" channel.\n",
       "\n",
       "    var id = msg.content.data.id;\n",
       "    // Get hold of the div created by the display call when the Comm\n",
       "    // socket was opened in Python.\n",
       "    var element = $(\"#\" + id);\n",
       "    var ws_proxy = comm_websocket_adapter(comm)\n",
       "\n",
       "    function ondownload(figure, format) {\n",
       "        window.open(figure.imageObj.src);\n",
       "    }\n",
       "\n",
       "    var fig = new mpl.figure(id, ws_proxy,\n",
       "                           ondownload,\n",
       "                           element.get(0));\n",
       "\n",
       "    // Call onopen now - mpl needs it, as it is assuming we've passed it a real\n",
       "    // web socket which is closed, not our websocket->open comm proxy.\n",
       "    ws_proxy.onopen();\n",
       "\n",
       "    fig.parent_element = element.get(0);\n",
       "    fig.cell_info = mpl.find_output_cell(\"<div id='\" + id + \"'></div>\");\n",
       "    if (!fig.cell_info) {\n",
       "        console.error(\"Failed to find cell for figure\", id, fig);\n",
       "        return;\n",
       "    }\n",
       "\n",
       "    var output_index = fig.cell_info[2]\n",
       "    var cell = fig.cell_info[0];\n",
       "\n",
       "};\n",
       "\n",
       "mpl.figure.prototype.handle_close = function(fig, msg) {\n",
       "    var width = fig.canvas.width/mpl.ratio\n",
       "    fig.root.unbind('remove')\n",
       "\n",
       "    // Update the output cell to use the data from the current canvas.\n",
       "    fig.push_to_output();\n",
       "    var dataURL = fig.canvas.toDataURL();\n",
       "    // Re-enable the keyboard manager in IPython - without this line, in FF,\n",
       "    // the notebook keyboard shortcuts fail.\n",
       "    IPython.keyboard_manager.enable()\n",
       "    $(fig.parent_element).html('<img src=\"' + dataURL + '\" width=\"' + width + '\">');\n",
       "    fig.close_ws(fig, msg);\n",
       "}\n",
       "\n",
       "mpl.figure.prototype.close_ws = function(fig, msg){\n",
       "    fig.send_message('closing', msg);\n",
       "    // fig.ws.close()\n",
       "}\n",
       "\n",
       "mpl.figure.prototype.push_to_output = function(remove_interactive) {\n",
       "    // Turn the data on the canvas into data in the output cell.\n",
       "    var width = this.canvas.width/mpl.ratio\n",
       "    var dataURL = this.canvas.toDataURL();\n",
       "    this.cell_info[1]['text/html'] = '<img src=\"' + dataURL + '\" width=\"' + width + '\">';\n",
       "}\n",
       "\n",
       "mpl.figure.prototype.updated_canvas_event = function() {\n",
       "    // Tell IPython that the notebook contents must change.\n",
       "    IPython.notebook.set_dirty(true);\n",
       "    this.send_message(\"ack\", {});\n",
       "    var fig = this;\n",
       "    // Wait a second, then push the new image to the DOM so\n",
       "    // that it is saved nicely (might be nice to debounce this).\n",
       "    setTimeout(function () { fig.push_to_output() }, 1000);\n",
       "}\n",
       "\n",
       "mpl.figure.prototype._init_toolbar = function() {\n",
       "    var fig = this;\n",
       "\n",
       "    var nav_element = $('<div/>')\n",
       "    nav_element.attr('style', 'width: 100%');\n",
       "    this.root.append(nav_element);\n",
       "\n",
       "    // Define a callback function for later on.\n",
       "    function toolbar_event(event) {\n",
       "        return fig.toolbar_button_onclick(event['data']);\n",
       "    }\n",
       "    function toolbar_mouse_event(event) {\n",
       "        return fig.toolbar_button_onmouseover(event['data']);\n",
       "    }\n",
       "\n",
       "    for(var toolbar_ind in mpl.toolbar_items){\n",
       "        var name = mpl.toolbar_items[toolbar_ind][0];\n",
       "        var tooltip = mpl.toolbar_items[toolbar_ind][1];\n",
       "        var image = mpl.toolbar_items[toolbar_ind][2];\n",
       "        var method_name = mpl.toolbar_items[toolbar_ind][3];\n",
       "\n",
       "        if (!name) { continue; };\n",
       "\n",
       "        var button = $('<button class=\"btn btn-default\" href=\"#\" title=\"' + name + '\"><i class=\"fa ' + image + ' fa-lg\"></i></button>');\n",
       "        button.click(method_name, toolbar_event);\n",
       "        button.mouseover(tooltip, toolbar_mouse_event);\n",
       "        nav_element.append(button);\n",
       "    }\n",
       "\n",
       "    // Add the status bar.\n",
       "    var status_bar = $('<span class=\"mpl-message\" style=\"text-align:right; float: right;\"/>');\n",
       "    nav_element.append(status_bar);\n",
       "    this.message = status_bar[0];\n",
       "\n",
       "    // Add the close button to the window.\n",
       "    var buttongrp = $('<div class=\"btn-group inline pull-right\"></div>');\n",
       "    var button = $('<button class=\"btn btn-mini btn-primary\" href=\"#\" title=\"Stop Interaction\"><i class=\"fa fa-power-off icon-remove icon-large\"></i></button>');\n",
       "    button.click(function (evt) { fig.handle_close(fig, {}); } );\n",
       "    button.mouseover('Stop Interaction', toolbar_mouse_event);\n",
       "    buttongrp.append(button);\n",
       "    var titlebar = this.root.find($('.ui-dialog-titlebar'));\n",
       "    titlebar.prepend(buttongrp);\n",
       "}\n",
       "\n",
       "mpl.figure.prototype._root_extra_style = function(el){\n",
       "    var fig = this\n",
       "    el.on(\"remove\", function(){\n",
       "\tfig.close_ws(fig, {});\n",
       "    });\n",
       "}\n",
       "\n",
       "mpl.figure.prototype._canvas_extra_style = function(el){\n",
       "    // this is important to make the div 'focusable\n",
       "    el.attr('tabindex', 0)\n",
       "    // reach out to IPython and tell the keyboard manager to turn it's self\n",
       "    // off when our div gets focus\n",
       "\n",
       "    // location in version 3\n",
       "    if (IPython.notebook.keyboard_manager) {\n",
       "        IPython.notebook.keyboard_manager.register_events(el);\n",
       "    }\n",
       "    else {\n",
       "        // location in version 2\n",
       "        IPython.keyboard_manager.register_events(el);\n",
       "    }\n",
       "\n",
       "}\n",
       "\n",
       "mpl.figure.prototype._key_event_extra = function(event, name) {\n",
       "    var manager = IPython.notebook.keyboard_manager;\n",
       "    if (!manager)\n",
       "        manager = IPython.keyboard_manager;\n",
       "\n",
       "    // Check for shift+enter\n",
       "    if (event.shiftKey && event.which == 13) {\n",
       "        this.canvas_div.blur();\n",
       "        // select the cell after this one\n",
       "        var index = IPython.notebook.find_cell_index(this.cell_info[0]);\n",
       "        IPython.notebook.select(index + 1);\n",
       "    }\n",
       "}\n",
       "\n",
       "mpl.figure.prototype.handle_save = function(fig, msg) {\n",
       "    fig.ondownload(fig, null);\n",
       "}\n",
       "\n",
       "\n",
       "mpl.find_output_cell = function(html_output) {\n",
       "    // Return the cell and output element which can be found *uniquely* in the notebook.\n",
       "    // Note - this is a bit hacky, but it is done because the \"notebook_saving.Notebook\"\n",
       "    // IPython event is triggered only after the cells have been serialised, which for\n",
       "    // our purposes (turning an active figure into a static one), is too late.\n",
       "    var cells = IPython.notebook.get_cells();\n",
       "    var ncells = cells.length;\n",
       "    for (var i=0; i<ncells; i++) {\n",
       "        var cell = cells[i];\n",
       "        if (cell.cell_type === 'code'){\n",
       "            for (var j=0; j<cell.output_area.outputs.length; j++) {\n",
       "                var data = cell.output_area.outputs[j];\n",
       "                if (data.data) {\n",
       "                    // IPython >= 3 moved mimebundle to data attribute of output\n",
       "                    data = data.data;\n",
       "                }\n",
       "                if (data['text/html'] == html_output) {\n",
       "                    return [cell, data, j];\n",
       "                }\n",
       "            }\n",
       "        }\n",
       "    }\n",
       "}\n",
       "\n",
       "// Register the function which deals with the matplotlib target/channel.\n",
       "// The kernel may be null if the page has been refreshed.\n",
       "if (IPython.notebook.kernel != null) {\n",
       "    IPython.notebook.kernel.comm_manager.register_target('matplotlib', mpl.mpl_figure_comm);\n",
       "}\n"
      ],
      "text/plain": [
       "<IPython.core.display.Javascript object>"
      ]
     },
     "metadata": {},
     "output_type": "display_data"
    },
    {
     "data": {
      "text/html": [
       "<img src=\"data:image/png;base64,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\" width=\"640\">"
      ],
      "text/plain": [
       "<IPython.core.display.HTML object>"
      ]
     },
     "metadata": {},
     "output_type": "display_data"
    }
   ],
   "source": [
    "H.plot(IQEhist)"
   ]
  },
  {
   "cell_type": "code",
   "execution_count": null,
   "metadata": {
    "collapsed": true
   },
   "outputs": [],
   "source": []
  }
 ],
 "metadata": {
  "kernelspec": {
   "display_name": "dev-mcvine",
   "language": "python",
   "name": "dev-mcvine"
  },
  "language_info": {
   "codemirror_mode": {
    "name": "ipython",
    "version": 2
   },
   "file_extension": ".py",
   "mimetype": "text/x-python",
   "name": "python",
   "nbconvert_exporter": "python",
   "pygments_lexer": "ipython2",
   "version": "2.7.12"
  }
 },
 "nbformat": 4,
 "nbformat_minor": 2
}
