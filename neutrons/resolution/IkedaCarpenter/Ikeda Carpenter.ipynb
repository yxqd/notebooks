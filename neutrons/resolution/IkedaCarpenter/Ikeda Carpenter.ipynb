{
 "cells": [
  {
   "cell_type": "markdown",
   "metadata": {},
   "source": [
    "Tried sympy but the symbolic integration took too long"
   ]
  },
  {
   "cell_type": "code",
   "execution_count": 1,
   "metadata": {
    "collapsed": true
   },
   "outputs": [],
   "source": [
    "import sympy"
   ]
  },
  {
   "cell_type": "code",
   "execution_count": 2,
   "metadata": {
    "collapsed": true
   },
   "outputs": [],
   "source": [
    "sympy.init_printing()"
   ]
  },
  {
   "cell_type": "code",
   "execution_count": 3,
   "metadata": {
    "collapsed": true
   },
   "outputs": [],
   "source": [
    "from sympy.abc import t, alpha, beta, tau, R"
   ]
  },
  {
   "cell_type": "code",
   "execution_count": 4,
   "metadata": {
    "collapsed": true
   },
   "outputs": [],
   "source": [
    "i_t = lambda t: alpha/2*(\n",
    "    (1-R)*alpha**2*t**2*sympy.exp(-alpha*t)\n",
    "    + 2*R*alpha**2*beta/(alpha-beta)**3*(\n",
    "    sympy.exp(-beta*t) - sympy.exp(-alpha*t)*(\n",
    "        1+(alpha-beta)*t+1./2*(alpha-beta)**2*t**2)\n",
    "    ))"
   ]
  },
  {
   "cell_type": "code",
   "execution_count": 5,
   "metadata": {},
   "outputs": [
    {
     "data": {
      "image/png": "[encoded data removed]",
      "text/latex": [
       "$$\\frac{\\alpha}{2} \\left(\\frac{2 R \\alpha^{2} \\beta}{\\left(\\alpha - \\beta\\right)^{3}} \\left(- \\left(0.5 t^{2} \\left(\\alpha - \\beta\\right)^{2} + t \\left(\\alpha - \\beta\\right) + 1\\right) e^{- \\alpha t} + e^{- \\beta t}\\right) + \\alpha^{2} t^{2} \\left(- R + 1\\right) e^{- \\alpha t}\\right)$$"
      ],
      "text/plain": [
       "  ⎛     2   ⎛  ⎛     2        2                ⎞  -α⋅t    -β⋅t⎞               \n",
       "  ⎜2⋅R⋅α ⋅β⋅⎝- ⎝0.5⋅t ⋅(α - β)  + t⋅(α - β) + 1⎠⋅ℯ     + ℯ    ⎠    2  2       \n",
       "α⋅⎜──────────────────────────────────────────────────────────── + α ⋅t ⋅(-R + \n",
       "  ⎜                                 3                                         \n",
       "  ⎝                          (α - β)                                          \n",
       "──────────────────────────────────────────────────────────────────────────────\n",
       "                                           2                                  \n",
       "\n",
       "        ⎞\n",
       "    -α⋅t⎟\n",
       "1)⋅ℯ    ⎟\n",
       "        ⎟\n",
       "        ⎠\n",
       "─────────\n",
       "         "
      ]
     },
     "execution_count": 5,
     "metadata": {},
     "output_type": "execute_result"
    }
   ],
   "source": [
    "i_t(t)"
   ]
  },
  {
   "cell_type": "code",
   "execution_count": 6,
   "metadata": {
    "collapsed": true
   },
   "outputs": [],
   "source": [
    "sigma_G = sympy.symbols(\"\\sigma_G\")"
   ]
  },
  {
   "cell_type": "code",
   "execution_count": 7,
   "metadata": {
    "collapsed": true
   },
   "outputs": [],
   "source": [
    "G_t = lambda t: 1/sympy.sqrt(2*sympy.pi)/sigma_G * sympy.exp(-t*t/2/sigma_G**2)"
   ]
  },
  {
   "cell_type": "code",
   "execution_count": 8,
   "metadata": {},
   "outputs": [
    {
     "data": {
      "image/png": "[encoded data removed]",
      "text/latex": [
       "$$\\frac{\\sqrt{2} e^{- \\frac{t^{2}}{2 \\sigma_G^{2}}}}{2 \\sqrt{\\pi} \\sigma_G}$$"
      ],
      "text/plain": [
       "          2    \n",
       "        -t     \n",
       "    ───────────\n",
       "              2\n",
       "    2⋅\\sigma_G \n",
       "√2⋅ℯ           \n",
       "───────────────\n",
       " 2⋅√π⋅\\sigma_G "
      ]
     },
     "execution_count": 8,
     "metadata": {},
     "output_type": "execute_result"
    }
   ],
   "source": [
    "G_t(t)"
   ]
  },
  {
   "cell_type": "markdown",
   "metadata": {},
   "source": [
    "The following takes forever, so dont do it!"
   ]
  },
  {
   "cell_type": "code",
   "execution_count": null,
   "metadata": {
    "collapsed": true
   },
   "outputs": [],
   "source": [
    "# i_G_t = sympy.integrate( i_t(t+tau)*G_t(tau), (tau, -t, sympy.oo))"
   ]
  },
  {
   "cell_type": "code",
   "execution_count": null,
   "metadata": {
    "collapsed": true
   },
   "outputs": [],
   "source": []
  },
  {
   "cell_type": "code",
   "execution_count": null,
   "metadata": {
    "collapsed": true
   },
   "outputs": [],
   "source": []
  }
 ],
 "metadata": {
  "kernelspec": {
   "display_name": "Python 2",
   "language": "python",
   "name": "python2"
  },
  "language_info": {
   "codemirror_mode": {
    "name": "ipython",
    "version": 2
   },
   "file_extension": ".py",
   "mimetype": "text/x-python",
   "name": "python",
   "nbconvert_exporter": "python",
   "pygments_lexer": "ipython2",
   "version": "2.7.12"
  }
 },
 "nbformat": 4,
 "nbformat_minor": 2
}
