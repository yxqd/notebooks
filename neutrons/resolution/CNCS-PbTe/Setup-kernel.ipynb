{
 "cells": [
  {
   "cell_type": "code",
   "execution_count": 1,
   "metadata": {
    "collapsed": true
   },
   "outputs": [],
   "source": [
    "import sje\n",
    "sje.add_kernel('mcvine-unstable', '/SNS/software/miniconda2/envs/mcvine-unstable/bin')"
   ]
  }
 ],
 "metadata": {
  "kernelspec": {
   "display_name": "SNS jupyter environment",
   "language": "python",
   "name": "sje"
  },
  "language_info": {
   "codemirror_mode": {
    "name": "ipython",
    "version": 2
   },
   "file_extension": ".py",
   "mimetype": "text/x-python",
   "name": "python",
   "nbconvert_exporter": "python",
   "pygments_lexer": "ipython2",
   "version": "2.7.12"
  }
 },
 "nbformat": 4,
 "nbformat_minor": 2
}
