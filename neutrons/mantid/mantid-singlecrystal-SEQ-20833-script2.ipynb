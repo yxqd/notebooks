{
 "cells": [
  {
   "cell_type": "code",
   "execution_count": 1,
   "metadata": {},
   "outputs": [],
   "source": [
    "import os, numpy as np, matplotlib as mpl"
   ]
  },
  {
   "cell_type": "code",
   "execution_count": 2,
   "metadata": {},
   "outputs": [],
   "source": [
    "import mantid"
   ]
  },
  {
   "cell_type": "code",
   "execution_count": 5,
   "metadata": {},
   "outputs": [],
   "source": [
    "from mantid import simpleapi as msa, mtd"
   ]
  },
  {
   "cell_type": "code",
   "execution_count": 4,
   "metadata": {},
   "outputs": [
    {
     "name": "stdout",
     "output_type": "stream",
     "text": [
      "/SNS/snfs1/instruments/SEQ/IPTS-20833/shared/red-07272018\n"
     ]
    }
   ],
   "source": [
    "workdir = '/SNS/SEQ/IPTS-20833/shared/red-07272018'\n",
    "!mkdir -p {workdir}\n",
    "%cd {workdir}"
   ]
  },
  {
   "cell_type": "markdown",
   "metadata": {},
   "source": [
    "Runs: 147504-147863"
   ]
  },
  {
   "cell_type": "markdown",
   "metadata": {},
   "source": [
    "# Generate slices\n",
    "\n",
    "slices are histograms. Always generate both the data and the norm. Both are histograms.\n",
    "Then divide."
   ]
  },
  {
   "cell_type": "code",
   "execution_count": 8,
   "metadata": {},
   "outputs": [],
   "source": [
    "ad0 = \"[H,0,0], -3, 3, 121\"\n",
    "ad1 = \"[0,0,L], -6, 6, 121\"\n",
    "ad2 = \"[0,K,0], -.1, .1, 1\"\n",
    "ad3 = \"DeltaE, -1., 1., 1\""
   ]
  },
  {
   "cell_type": "markdown",
   "metadata": {},
   "source": [
    "lOAD VANADIUM"
   ]
  },
  {
   "cell_type": "code",
   "execution_count": 9,
   "metadata": {},
   "outputs": [],
   "source": [
    "van = msa.Load(\"/SNS/SEQ/IPTS-20833/shared/autoreduce/van144894_V4.nxs\")"
   ]
  },
  {
   "cell_type": "markdown",
   "metadata": {},
   "source": [
    "Loop over all MDEvents ws. One ws at a time so not too much memory used"
   ]
  },
  {
   "cell_type": "code",
   "execution_count": 25,
   "metadata": {},
   "outputs": [],
   "source": [
    "if mtd.doesExist('mdh_data'):\n",
    "    msa.DeleteWorkspace('mdh_data')\n",
    "if mtd.doesExist('mdh_norm'):\n",
    "    msa.DeleteWorkspace('mdh_norm')"
   ]
  },
  {
   "cell_type": "code",
   "execution_count": null,
   "metadata": {},
   "outputs": [
    {
     "name": "stdout",
     "output_type": "stream",
     "text": [
      "147504\n",
      "147505\n",
      "147506\n",
      "147507\n",
      "147508\n",
      "147509\n",
      "147510\n",
      "147511\n",
      "147512\n",
      "147513\n",
      "147514\n",
      "147515\n",
      "147516\n",
      "147517\n",
      "147518\n",
      "147519\n",
      "147520\n",
      "147521\n",
      "147522\n",
      "147523\n",
      "147524\n",
      "147525\n",
      "147526\n",
      "147527\n"
     ]
    }
   ],
   "source": [
    "%%time\n",
    "for run in range(147504, 147863+1):\n",
    "# for run in range(147504, 147514+1):\n",
    "    print(run)\n",
    "    fn = \"%s/mde/mdpart-%s.nxs\" % (os.path.abspath('.'), run)\n",
    "    ws = msa.LoadMD(fn)\n",
    "    msa.MDNormDirectSC(\n",
    "        InputWorkspace=ws,\n",
    "        SkipSafetyCheck=True,\n",
    "        TemporaryDataWorkspace='mdh_data' if mtd.doesExist('mdh_data') else None,\n",
    "        TemporaryNormalizationWorkspace='mdh_norm' if mtd.doesExist('mdh_norm') else None,\n",
    "        AlignedDim0=ad0,\n",
    "        AlignedDim1=ad1,\n",
    "        AlignedDim2=ad2,\n",
    "        AlignedDim3=ad3,\n",
    "        SolidAngleWorkspace=van,\n",
    "        OutputWorkspace='mdh_data',\n",
    "        OutputNormalizationWorkspace='mdh_norm'\n",
    "    )\n",
    "    continue"
   ]
  },
  {
   "cell_type": "code",
   "execution_count": 11,
   "metadata": {},
   "outputs": [
    {
     "data": {
      "text/plain": [
       "MDHistoWorkspace\n",
       "Title: \n",
       "Dim 0: ([H,0,0]) -3 to 3 in 121 bins. Id=Q1\n",
       "Dim 1: ([0,0,L]) -6 to 6 in 121 bins. Id=Q3\n",
       "Dim 2: ([0,K,0]) -0.1 to 0.1 in 1 bins. Id=Q2\n",
       "Dim 3: (DeltaE) -1 to 1 in 1 bins\n",
       "Binned from 'ws\n",
       "Inelastic: ki-kf\n",
       "Instrument: SEQUOIA (2018-May-14 to 2100-Jan-31)Instrument from: /SNS/snfs1/instruments/SEQ/IPTS-20833/shared/red-07272018/mde/mdpart-147504.nxs\n",
       "\n",
       "Run start: 2018-Jun-19 23:00:06\n",
       "Run end:  2018-Jun-19 23:03:21\n",
       "Sample: a 6.9, b 6.9, c 19.8; alpha 90, beta 90, gamma 120\n"
      ]
     },
     "execution_count": 11,
     "metadata": {},
     "output_type": "execute_result"
    }
   ],
   "source": [
    "msa.DivideMD('mdh_data','mdh_norm',OutputWorkspace='slice')"
   ]
  },
  {
   "cell_type": "code",
   "execution_count": 21,
   "metadata": {},
   "outputs": [
    {
     "data": {
      "text/plain": [
       "MDHistoWorkspace\n",
       "Title: \n",
       "Dim 0: ([H,0,0]) -3 to 3 in 121 bins. Id=Q1\n",
       "Dim 1: ([0,0,L]) -6 to 6 in 121 bins. Id=Q3\n",
       "Dim 2: ([0,K,0]) -0.1 to 0.1 in 1 bins. Id=Q2\n",
       "Dim 3: (DeltaE) -1 to 1 in 1 bins\n",
       "Binned from 'ws\n",
       "Inelastic: ki-kf\n",
       "Instrument: SEQUOIA (2018-May-14 to 2100-Jan-31)Instrument from: /SNS/snfs1/instruments/SEQ/IPTS-20833/shared/red-07272018/mde/mdpart-147504.nxs\n",
       "\n",
       "Run start: 2018-Jun-19 23:00:06\n",
       "Run end:  2018-Jun-19 23:03:21\n",
       "Sample: a 6.9, b 6.9, c 19.8; alpha 90, beta 90, gamma 120\n"
      ]
     },
     "execution_count": 21,
     "metadata": {},
     "output_type": "execute_result"
    }
   ],
   "source": [
    "mtd['slice']"
   ]
  },
  {
   "cell_type": "code",
   "execution_count": 22,
   "metadata": {},
   "outputs": [],
   "source": [
    "msa.SaveMD(mtd['slice'], Filename=os.path.join(os.path.abspath('.'), 'slice.nxs'))"
   ]
  },
  {
   "cell_type": "code",
   "execution_count": 23,
   "metadata": {},
   "outputs": [
    {
     "name": "stdout",
     "output_type": "stream",
     "text": [
      "\u001b[0m\u001b[01;34mmde\u001b[0m/  slice.nxs\r\n"
     ]
    }
   ],
   "source": [
    "ls"
   ]
  },
  {
   "cell_type": "code",
   "execution_count": null,
   "metadata": {},
   "outputs": [],
   "source": []
  }
 ],
 "metadata": {
  "kernelspec": {
   "display_name": "python3-default at jnrk-sns-analysis",
   "language": "python",
   "name": "jnrk-sns-analysis-python3-default"
  },
  "language_info": {
   "codemirror_mode": {
    "name": "ipython",
    "version": 3
   },
   "file_extension": ".py",
   "mimetype": "text/x-python",
   "name": "python",
   "nbconvert_exporter": "python",
   "pygments_lexer": "ipython3",
   "version": "3.6.5"
  },
  "toc": {
   "base_numbering": 1,
   "nav_menu": {},
   "number_sections": true,
   "sideBar": true,
   "skip_h1_title": false,
   "title_cell": "Table of Contents",
   "title_sidebar": "Contents",
   "toc_cell": false,
   "toc_position": {},
   "toc_section_display": true,
   "toc_window_display": false
  }
 },
 "nbformat": 4,
 "nbformat_minor": 2
}
