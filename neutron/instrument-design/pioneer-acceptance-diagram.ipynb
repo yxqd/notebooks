{
 "cells": [
  {
   "cell_type": "markdown",
   "metadata": {},
   "source": [
    "# Readme\n",
    "* The notebook illustrates acceptance diagrams at the second source for the KB-mirror-sets optical design for Pioneer.\n",
    "* The last cell includes an interactive widget to play with parameters and see updated acceptance diagrams\n",
    "  - Interface response could be slow when dragging the slider; try clicking the slider instead\n",
    "  - Use left/right arrows for fine-tuning the parameters"
   ]
  },
  {
   "cell_type": "markdown",
   "metadata": {},
   "source": [
    "# Try one settings"
   ]
  },
  {
   "cell_type": "code",
   "execution_count": 1,
   "metadata": {},
   "outputs": [],
   "source": [
    "import numpy as np\n",
    "from matplotlib import pyplot as plt"
   ]
  },
  {
   "cell_type": "code",
   "execution_count": 2,
   "metadata": {},
   "outputs": [],
   "source": [
    "%matplotlib inline"
   ]
  },
  {
   "cell_type": "code",
   "execution_count": 3,
   "metadata": {},
   "outputs": [],
   "source": [
    "def y_of_z(z, a, b):\n",
    "    t = (z-b)/b\n",
    "    return a*np.sqrt(1-t*t)"
   ]
  },
  {
   "cell_type": "code",
   "execution_count": 4,
   "metadata": {},
   "outputs": [],
   "source": [
    "def acceptance_diagram(src_height, a, b, z_guide_start, z_guide_end):\n",
    "    z1, z2 = z_guide_start, z_guide_end\n",
    "    z3 = 2*b\n",
    "    y1, y2 = y_of_z(np.array([z1, z2]), a, b)\n",
    "    y0_max = src_height/2.\n",
    "    # y of target at single reflection at z\n",
    "    y_of_z_refl1 = lambda z: y0_max/z*(z3-z)\n",
    "    y2 = y_of_z(z2, a, b)\n",
    "    # from end of guide\n",
    "    y3_max = y_of_z_refl1(z2)\n",
    "    y3_ge = np.linspace(-y3_max, y3_max, 100)\n",
    "    div_ge = (y3_ge-y2)/(z3-z2)\n",
    "    # from start of guide\n",
    "    y3_max = y_of_z_refl1(z1)\n",
    "    y3_gs = np.linspace(-y3_max, y3_max, 100)\n",
    "    div_gs = (y3_gs-y1)/(z3-z1)\n",
    "    # from top of src\n",
    "    z = np.linspace(z1, z2, 100)\n",
    "    y = y_of_z(z, a,b)\n",
    "    y3_mt = y_of_z_refl1(z)\n",
    "    div_mt = (y3_mt-y)/(z3-z)\n",
    "    # from bottom of src\n",
    "    y3_mb = -y3_mt\n",
    "    div_mb = (y3_mb-y)/(z3-z)\n",
    "    return (y3_ge, div_ge), (y3_gs, div_gs), (y3_mt, div_mt), (y3_mb, div_mb)"
   ]
  },
  {
   "cell_type": "code",
   "execution_count": 5,
   "metadata": {},
   "outputs": [],
   "source": [
    "mod_size = 0.03\n",
    "# ellipse 1: from moderator to second source\n",
    "b = 54/2.\n",
    "#a = .25\n",
    "a = 0.125\n",
    "z_guide_start = 6.75\n",
    "z_guide_end = 47.37\n",
    "# acceptance diagram 1\n",
    "mirror1_curves = acceptance_diagram(mod_size, a, b, z_guide_start, z_guide_end)\n",
    "\n",
    "# ellipse 2: from sample to second source (backward!)\n",
    "# sample_size = 0.005\n",
    "sample_size = 0.004\n",
    "b = (60-54)/2.\n",
    "# a = 0.052\n",
    "a = 0.027\n",
    "z_guide_start = 60-59.\n",
    "z_guide_end = 60.-56.667\n",
    "\n",
    "# acceptance diagram 2\n",
    "mirror2_curves = acceptance_diagram(sample_size, a, b, z_guide_start, z_guide_end)"
   ]
  },
  {
   "cell_type": "code",
   "execution_count": 6,
   "metadata": {},
   "outputs": [
    {
     "data": {
      "image/png": "[encoded data removed]",
      "text/plain": [
       "<Figure size 432x288 with 1 Axes>"
      ]
     },
     "metadata": {
      "needs_background": "light"
     },
     "output_type": "display_data"
    }
   ],
   "source": [
    "plt.figure()\n",
    "for y, div in mirror1_curves:\n",
    "    plt.plot(y, div)\n",
    "for y, div in mirror2_curves:\n",
    "    plt.plot(-y-0.0022, div)\n",
    "# plt.xlim(-0.02, 0.02)"
   ]
  },
  {
   "cell_type": "markdown",
   "metadata": {},
   "source": [
    "# Play with parameters "
   ]
  },
  {
   "cell_type": "code",
   "execution_count": 7,
   "metadata": {},
   "outputs": [],
   "source": [
    "import ipywidgets"
   ]
  },
  {
   "cell_type": "code",
   "execution_count": 8,
   "metadata": {},
   "outputs": [],
   "source": [
    "def calc_diagrams(\n",
    "    mod_size,\n",
    "    ell1_guide_start, ell1_guide_end, ell1_a, ell1_b,\n",
    "    ell2_guide_start, ell2_guide_end, ell2_a, ell2_b,\n",
    "    sample_size,\n",
    "):\n",
    "    # b = 54/2.\n",
    "    b = ell1_b\n",
    "    a = ell1_a\n",
    "    z_guide_start = ell1_guide_start\n",
    "    z_guide_end = ell1_guide_end\n",
    "    mirror1_curves = acceptance_diagram(mod_size, a, b, z_guide_start, z_guide_end)\n",
    "\n",
    "    # b = (60-54)/2\n",
    "    b = ell2_b\n",
    "    a = ell2_a\n",
    "    z_guide_start = ell2_guide_start\n",
    "    z_guide_end = ell2_guide_end\n",
    "    mirror2_curves = acceptance_diagram(sample_size, a, b, z_guide_start, z_guide_end)\n",
    "    return mirror1_curves, mirror2_curves"
   ]
  },
  {
   "cell_type": "code",
   "execution_count": 9,
   "metadata": {},
   "outputs": [],
   "source": [
    "from collections import OrderedDict"
   ]
  },
  {
   "cell_type": "code",
   "execution_count": 10,
   "metadata": {},
   "outputs": [],
   "source": [
    "def update(\n",
    "    mod_size = 30.,\n",
    "    ell1_start=6750, ell1_end=47370, ell1_a=100, ell1_b = 54./2*1000,\n",
    "    ell2_start=1000., ell2_end=3333, ell2_a=22,\n",
    "    ell2_offset=2.3,\n",
    "    sample_size=3.6,\n",
    "):\n",
    "    ell2_b = (60. - ell1_b*2/1000)/2*1000\n",
    "    fig, ax = plt.subplots(figsize=(6,3))\n",
    "    ax.set_xlim([-0.03, 0.03])\n",
    "    # ax.set_ylim([-0.025, 0.005])\n",
    "    mirror1_curves, mirror2_curves = calc_diagrams(\n",
    "        mod_size/1000.,\n",
    "        ell1_start/1000., ell1_end/1000., ell1_a/1000., ell1_b/1000.,\n",
    "        ell2_start/1000., ell2_end/1000., ell2_a/1000., ell2_b/1000.,\n",
    "        sample_size/1000.,\n",
    "    )\n",
    "    for y, div in mirror1_curves:\n",
    "        ax.plot(y, div, 'k')\n",
    "    for y, div in mirror2_curves:\n",
    "        ax.plot(-y-ell2_offset/1000., div, 'r')\n",
    "    d = OrderedDict(\n",
    "        mod_size=mod_size,\n",
    "        ell1_start=ell1_start, ell1_end=ell1_end, ell1_a=ell1_a, ell1_b=ell1_b,\n",
    "        ell2_start=ell2_start, ell2_end=ell2_end, ell2_a=ell2_a, ell2_b=ell2_b,\n",
    "        ell2_offset=ell2_offset,\n",
    "        sample_size=sample_size,\n",
    "    )\n",
    "    print(', '.join('{}={!r}'.format(k,v) for k, v in d.items()))\n",
    "    return"
   ]
  },
  {
   "cell_type": "code",
   "execution_count": 11,
   "metadata": {},
   "outputs": [
    {
     "data": {
      "application/vnd.jupyter.widget-view+json": {
       "model_id": "af1ec74da2cd45f0bfbba7aea5aa7066",
       "version_major": 2,
       "version_minor": 0
      },
      "text/plain": [
       "interactive(children=(FloatSlider(value=30.0, description='mod_size', min=10.0, step=0.5), FloatSlider(value=6…"
      ]
     },
     "metadata": {},
     "output_type": "display_data"
    }
   ],
   "source": [
    "interactive_plot = ipywidgets.interactive(\n",
    "    update,\n",
    "    mod_size=(10, 100, 0.5),\n",
    "    ell1_start=(1000., 27000., 10.), ell1_end=(27000.,53000., 10), ell1_a=(10, 500, 1.), ell1_b=(25000, 28000., 10),\n",
    "    ell2_start=(500, 2900, 10.), ell2_end=(3000, 5000, 10), ell2_a=(5, 250, 1.),\n",
    "    ell2_offset=(0, 10, 0.1),\n",
    "    sample_size = (2, 20, 0.1),\n",
    ")\n",
    "output = interactive_plot.children[-1]\n",
    "# output.layout.height = '350px'\n",
    "interactive_plot"
   ]
  }
 ],
 "metadata": {
  "kernelspec": {
   "display_name": "Python 3",
   "language": "python",
   "name": "python3"
  },
  "language_info": {
   "codemirror_mode": {
    "name": "ipython",
    "version": 3
   },
   "file_extension": ".py",
   "mimetype": "text/x-python",
   "name": "python",
   "nbconvert_exporter": "python",
   "pygments_lexer": "ipython3",
   "version": "3.7.8"
  },
  "toc": {
   "base_numbering": 1,
   "nav_menu": {},
   "number_sections": true,
   "sideBar": true,
   "skip_h1_title": false,
   "title_cell": "Table of Contents",
   "title_sidebar": "Contents",
   "toc_cell": false,
   "toc_position": {
    "height": "calc(100% - 180px)",
    "left": "10px",
    "top": "150px",
    "width": "293px"
   },
   "toc_section_display": true,
   "toc_window_display": true
  },
  "widgets": {
   "application/vnd.jupyter.widget-state+json": {
    "state": {
     "01182f0bbb7f47aeb6359cece5bed410": {
      "model_module": "@jupyter-widgets/controls",
      "model_module_version": "1.5.0",
      "model_name": "SliderStyleModel",
      "state": {
       "description_width": ""
      }
     },
     "025f8e3e8dbc4639aa99b71f16790335": {
      "model_module": "@jupyter-widgets/controls",
      "model_module_version": "1.5.0",
      "model_name": "FloatSliderModel",
      "state": {
       "description": "ell1_a",
       "layout": "IPY_MODEL_bba165e2ec7741269412c7c408cf1b65",
       "max": 500,
       "min": 10,
       "style": "IPY_MODEL_cf9693a35cb041b2a96ea19abb01afd4",
       "value": 78
      }
     },
     "05add9dff48d4c45b6a68c44ae2ae56f": {
      "model_module": "@jupyter-widgets/controls",
      "model_module_version": "1.5.0",
      "model_name": "VBoxModel",
      "state": {
       "_dom_classes": [
        "widget-interact"
       ],
       "children": [
        "IPY_MODEL_b5eb0bd7b6c54341ae4591b4b32f5d7e",
        "IPY_MODEL_e44f501e41684da5951d3af11062690b",
        "IPY_MODEL_025f8e3e8dbc4639aa99b71f16790335",
        "IPY_MODEL_0ae4cb542ea445fab1bd59c61a1f76d2",
        "IPY_MODEL_3fb156f8bef94f13a55e02dbf2f8e071",
        "IPY_MODEL_6e037fdd69b34867916331725926296f",
        "IPY_MODEL_f63563b1a99f499fa93e8242160b69c3",
        "IPY_MODEL_ffd4ab1f6046434f8eba946ea2626e7e",
        "IPY_MODEL_1d958c05120648ceaa037e8a443bea51",
        "IPY_MODEL_69e7bbd76ec440fcbe1264198c6df8d2"
       ],
       "layout": "IPY_MODEL_3f513dc0ea9a448195acb292b88e0436"
      }
     },
     "093371b9e96649aaae4411134e306b90": {
      "model_module": "@jupyter-widgets/controls",
      "model_module_version": "1.5.0",
      "model_name": "SliderStyleModel",
      "state": {
       "description_width": ""
      }
     },
     "0ae4cb542ea445fab1bd59c61a1f76d2": {
      "model_module": "@jupyter-widgets/controls",
      "model_module_version": "1.5.0",
      "model_name": "FloatSliderModel",
      "state": {
       "description": "ell1_b",
       "layout": "IPY_MODEL_c6e6828e1e234b9fb4341f672495ac8e",
       "max": 28000,
       "min": 25000,
       "step": 10,
       "style": "IPY_MODEL_01182f0bbb7f47aeb6359cece5bed410",
       "value": 26370
      }
     },
     "18f037e38d294308908a4c616e0fa8f1": {
      "model_module": "@jupyter-widgets/controls",
      "model_module_version": "1.5.0",
      "model_name": "SliderStyleModel",
      "state": {
       "description_width": ""
      }
     },
     "1bd4dc2e5a4543009f169f1a0aa1fcb0": {
      "model_module": "@jupyter-widgets/base",
      "model_module_version": "1.2.0",
      "model_name": "LayoutModel",
      "state": {}
     },
     "1d958c05120648ceaa037e8a443bea51": {
      "model_module": "@jupyter-widgets/controls",
      "model_module_version": "1.5.0",
      "model_name": "FloatSliderModel",
      "state": {
       "description": "sample_size",
       "layout": "IPY_MODEL_1bd4dc2e5a4543009f169f1a0aa1fcb0",
       "max": 20,
       "min": 2,
       "step": 0.1,
       "style": "IPY_MODEL_18f037e38d294308908a4c616e0fa8f1",
       "value": 3
      }
     },
     "2d805be553dd4968868019cdb5dec837": {
      "model_module": "@jupyter-widgets/controls",
      "model_module_version": "1.5.0",
      "model_name": "SliderStyleModel",
      "state": {
       "description_width": ""
      }
     },
     "3325ee026c8345ef87245f4aede0867c": {
      "model_module": "@jupyter-widgets/controls",
      "model_module_version": "1.5.0",
      "model_name": "SliderStyleModel",
      "state": {
       "description_width": ""
      }
     },
     "3f513dc0ea9a448195acb292b88e0436": {
      "model_module": "@jupyter-widgets/base",
      "model_module_version": "1.2.0",
      "model_name": "LayoutModel",
      "state": {}
     },
     "3fb156f8bef94f13a55e02dbf2f8e071": {
      "model_module": "@jupyter-widgets/controls",
      "model_module_version": "1.5.0",
      "model_name": "FloatSliderModel",
      "state": {
       "description": "ell2_start",
       "layout": "IPY_MODEL_913a45a0b75b4b2bbeb7d94cc8eb6708",
       "max": 2900,
       "min": 500,
       "step": 10,
       "style": "IPY_MODEL_093371b9e96649aaae4411134e306b90",
       "value": 1000
      }
     },
     "52a1d43fdec641ae8f3b97b799b87ad6": {
      "model_module": "@jupyter-widgets/base",
      "model_module_version": "1.2.0",
      "model_name": "LayoutModel",
      "state": {}
     },
     "67fcf6ad1e2b4f4d874331c4a2dffdd2": {
      "model_module": "@jupyter-widgets/base",
      "model_module_version": "1.2.0",
      "model_name": "LayoutModel",
      "state": {}
     },
     "69e7bbd76ec440fcbe1264198c6df8d2": {
      "model_module": "@jupyter-widgets/output",
      "model_module_version": "1.0.0",
      "model_name": "OutputModel",
      "state": {
       "layout": "IPY_MODEL_52a1d43fdec641ae8f3b97b799b87ad6",
       "outputs": [
        {
         "name": "stdout",
         "output_type": "stream",
         "text": "ell1_start=6750.0, ell1_end=47370.0, ell1_a=78.0, ell1_b=26370.0, ell2_start=1000.0, ell2_end=3930, ell2_a=26.0, ell2_b=3629.999999999999, ell2_offset=1.0, sample_size=3.0\n"
        },
        {
         "data": {
          "image/png": "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\n",
          "text/plain": "<Figure size 432x216 with 1 Axes>"
         },
         "metadata": {
          "needs_background": "light"
         },
         "output_type": "display_data"
        }
       ]
      }
     },
     "6e037fdd69b34867916331725926296f": {
      "model_module": "@jupyter-widgets/controls",
      "model_module_version": "1.5.0",
      "model_name": "IntSliderModel",
      "state": {
       "description": "ell2_end",
       "layout": "IPY_MODEL_76e2b4a11d2a4e2ab207cb36481889b3",
       "max": 5000,
       "min": 3000,
       "step": 10,
       "style": "IPY_MODEL_e74643904ccf4b17acc124ab58796972",
       "value": 3930
      }
     },
     "76e2b4a11d2a4e2ab207cb36481889b3": {
      "model_module": "@jupyter-widgets/base",
      "model_module_version": "1.2.0",
      "model_name": "LayoutModel",
      "state": {}
     },
     "8ed93a99da9c40958136cd49f23b8104": {
      "model_module": "@jupyter-widgets/controls",
      "model_module_version": "1.5.0",
      "model_name": "SliderStyleModel",
      "state": {
       "description_width": ""
      }
     },
     "913a45a0b75b4b2bbeb7d94cc8eb6708": {
      "model_module": "@jupyter-widgets/base",
      "model_module_version": "1.2.0",
      "model_name": "LayoutModel",
      "state": {}
     },
     "a45dd9d8e89e4fe8bbfb9b3cadef8bef": {
      "model_module": "@jupyter-widgets/base",
      "model_module_version": "1.2.0",
      "model_name": "LayoutModel",
      "state": {}
     },
     "af9904dcf1fa4f7a9d3741077eca04a1": {
      "model_module": "@jupyter-widgets/base",
      "model_module_version": "1.2.0",
      "model_name": "LayoutModel",
      "state": {}
     },
     "b5eb0bd7b6c54341ae4591b4b32f5d7e": {
      "model_module": "@jupyter-widgets/controls",
      "model_module_version": "1.5.0",
      "model_name": "FloatSliderModel",
      "state": {
       "description": "ell1_start",
       "layout": "IPY_MODEL_cb6e80002bdd4c11912de718dea0aca3",
       "max": 27000,
       "min": 1000,
       "step": 10,
       "style": "IPY_MODEL_8ed93a99da9c40958136cd49f23b8104",
       "value": 6750
      }
     },
     "bba165e2ec7741269412c7c408cf1b65": {
      "model_module": "@jupyter-widgets/base",
      "model_module_version": "1.2.0",
      "model_name": "LayoutModel",
      "state": {}
     },
     "c6e6828e1e234b9fb4341f672495ac8e": {
      "model_module": "@jupyter-widgets/base",
      "model_module_version": "1.2.0",
      "model_name": "LayoutModel",
      "state": {}
     },
     "cb6e80002bdd4c11912de718dea0aca3": {
      "model_module": "@jupyter-widgets/base",
      "model_module_version": "1.2.0",
      "model_name": "LayoutModel",
      "state": {}
     },
     "cf9693a35cb041b2a96ea19abb01afd4": {
      "model_module": "@jupyter-widgets/controls",
      "model_module_version": "1.5.0",
      "model_name": "SliderStyleModel",
      "state": {
       "description_width": ""
      }
     },
     "de0ea2c138254b089c645f5976c9e039": {
      "model_module": "@jupyter-widgets/controls",
      "model_module_version": "1.5.0",
      "model_name": "SliderStyleModel",
      "state": {
       "description_width": ""
      }
     },
     "e44f501e41684da5951d3af11062690b": {
      "model_module": "@jupyter-widgets/controls",
      "model_module_version": "1.5.0",
      "model_name": "FloatSliderModel",
      "state": {
       "description": "ell1_end",
       "layout": "IPY_MODEL_67fcf6ad1e2b4f4d874331c4a2dffdd2",
       "max": 53000,
       "min": 27000,
       "step": 10,
       "style": "IPY_MODEL_de0ea2c138254b089c645f5976c9e039",
       "value": 47370
      }
     },
     "e74643904ccf4b17acc124ab58796972": {
      "model_module": "@jupyter-widgets/controls",
      "model_module_version": "1.5.0",
      "model_name": "SliderStyleModel",
      "state": {
       "description_width": ""
      }
     },
     "f63563b1a99f499fa93e8242160b69c3": {
      "model_module": "@jupyter-widgets/controls",
      "model_module_version": "1.5.0",
      "model_name": "FloatSliderModel",
      "state": {
       "description": "ell2_a",
       "layout": "IPY_MODEL_a45dd9d8e89e4fe8bbfb9b3cadef8bef",
       "max": 250,
       "min": 5,
       "style": "IPY_MODEL_3325ee026c8345ef87245f4aede0867c",
       "value": 26
      }
     },
     "ffd4ab1f6046434f8eba946ea2626e7e": {
      "model_module": "@jupyter-widgets/controls",
      "model_module_version": "1.5.0",
      "model_name": "FloatSliderModel",
      "state": {
       "description": "ell2_offset",
       "layout": "IPY_MODEL_af9904dcf1fa4f7a9d3741077eca04a1",
       "max": 10,
       "step": 0.1,
       "style": "IPY_MODEL_2d805be553dd4968868019cdb5dec837",
       "value": 1
      }
     }
    },
    "version_major": 2,
    "version_minor": 0
   }
  }
 },
 "nbformat": 4,
 "nbformat_minor": 4
}
