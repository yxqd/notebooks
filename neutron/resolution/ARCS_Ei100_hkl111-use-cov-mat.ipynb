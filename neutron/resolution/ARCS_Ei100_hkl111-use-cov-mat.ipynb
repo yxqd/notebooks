{
 "cells": [
  {
   "cell_type": "markdown",
   "metadata": {},
   "source": [
    "# ARCS Ei=100meV resolution"
   ]
  },
  {
   "cell_type": "markdown",
   "metadata": {},
   "source": [
    "Instrument: ARCS\n",
    "* Ei=100meV\n",
    "* Fermi chopper: 600 Hz\n",
    "* T0: 120Hz\n",
    "\n",
    "Sample: resolution sample\n",
    "* hkl: -16/3.,-8/3.,8/3.\n",
    "* E: 40"
   ]
  },
  {
   "cell_type": "code",
   "execution_count": 1,
   "metadata": {
    "collapsed": false
   },
   "outputs": [],
   "source": [
    "# some goodies\n",
    "%matplotlib notebook\n",
    "# %matplotlib inline\n",
    "from matplotlib import pyplot as plt\n",
    "import numpy as np"
   ]
  },
  {
   "cell_type": "code",
   "execution_count": 2,
   "metadata": {
    "collapsed": true
   },
   "outputs": [],
   "source": [
    "import histogram.hdf as hh, histogram as H"
   ]
  },
  {
   "cell_type": "code",
   "execution_count": 3,
   "metadata": {
    "collapsed": false
   },
   "outputs": [
    {
     "name": "stdout",
     "output_type": "stream",
     "text": [
      "/SNS/users/lj7/jupyter/notebooks/simulations/ARCS/Si\n"
     ]
    }
   ],
   "source": [
    "%cd /SNS/users/lj7/jupyter/notebooks/simulations/ARCS/Si"
   ]
  },
  {
   "cell_type": "markdown",
   "metadata": {},
   "source": [
    "## Formula\n",
    "See NIMA 736(2014)31-39"
   ]
  },
  {
   "cell_type": "markdown",
   "metadata": {},
   "source": [
    "## Input Parameters"
   ]
  },
  {
   "cell_type": "markdown",
   "metadata": {},
   "source": [
    "### Instrument parameters"
   ]
  },
  {
   "cell_type": "code",
   "execution_count": 4,
   "metadata": {
    "collapsed": true
   },
   "outputs": [],
   "source": [
    "Ei = 100\n",
    "L_PM=11.61\n",
    "R = 3.\n",
    "L_PS=13.6\n",
    "L_MS=L_PS-L_PM"
   ]
  },
  {
   "cell_type": "code",
   "execution_count": 5,
   "metadata": {
    "collapsed": false
   },
   "outputs": [
    {
     "name": "stdout",
     "output_type": "stream",
     "text": [
      "1.99\n"
     ]
    }
   ],
   "source": [
    "print L_MS"
   ]
  },
  {
   "cell_type": "markdown",
   "metadata": {},
   "source": [
    "### Dynamics"
   ]
  },
  {
   "cell_type": "code",
   "execution_count": 6,
   "metadata": {
    "collapsed": true
   },
   "outputs": [],
   "source": [
    "E = 40.\n",
    "hkl = -16/3.,-8/3.,8/3."
   ]
  },
  {
   "cell_type": "code",
   "execution_count": 7,
   "metadata": {
    "collapsed": false
   },
   "outputs": [
    {
     "name": "stdout",
     "output_type": "stream",
     "text": [
      "Overwriting Si.yml\n"
     ]
    }
   ],
   "source": [
    "%%file Si.yml\n",
    "name: Si\n",
    "chemical_formula: Si2\n",
    "lattice: \n",
    " constants: 5.490700041, 5.490700041, 5.490700041, 90, 90, 90\n",
    " basis_vectors:\n",
    "  - 5.490700041, 0, 0\n",
    "  - 0, 5.490700041, 0\n",
    "  - 0, 0, 5.490700041\n",
    " primitive_basis_vectors:\n",
    "  - 0.0, 2.71526503565, 2.71526503565\n",
    "  - 2.71526503565, 0.0, 2.71526503565\n",
    "  - 2.71526503565, 2.71526503565, 0.0\n",
    "excitations:\n",
    "  - type: deltafunction\n",
    "    hkl: -16/3.,-8/3.,8/3.\n",
    "    E: 40.\n",
    "    dE: 0.5\n",
    "orientation:\n",
    " u: -1, 1, -1\n",
    " v: 2, 1, -1\n",
    "shape: hollowCylinder in_radius=\"5./8*inch\" out_radius=\"1.*inch\" height=\"1.5*inch\"\n",
    "temperature: 100*K"
   ]
  },
  {
   "cell_type": "markdown",
   "metadata": {},
   "source": [
    "### Other parameters"
   ]
  },
  {
   "cell_type": "code",
   "execution_count": 8,
   "metadata": {
    "collapsed": true
   },
   "outputs": [],
   "source": [
    "m = 1.6750e-24 * 1e-3 #kg"
   ]
  },
  {
   "cell_type": "markdown",
   "metadata": {},
   "source": [
    "### Derived parameters"
   ]
  },
  {
   "cell_type": "code",
   "execution_count": 9,
   "metadata": {
    "collapsed": false
   },
   "outputs": [],
   "source": [
    "from mcni.utils import conversion as Conv"
   ]
  },
  {
   "cell_type": "code",
   "execution_count": 10,
   "metadata": {
    "collapsed": false
   },
   "outputs": [
    {
     "name": "stdout",
     "output_type": "stream",
     "text": [
      "4373.93313724\n"
     ]
    }
   ],
   "source": [
    "vi = Conv.e2v(Ei)\n",
    "print vi"
   ]
  },
  {
   "cell_type": "code",
   "execution_count": 11,
   "metadata": {
    "collapsed": false
   },
   "outputs": [
    {
     "name": "stdout",
     "output_type": "stream",
     "text": [
      "2654.36156331\n"
     ]
    }
   ],
   "source": [
    "ti = L_PM/vi*1e6 # microsecond\n",
    "print ti"
   ]
  },
  {
   "cell_type": "code",
   "execution_count": 12,
   "metadata": {
    "collapsed": true
   },
   "outputs": [],
   "source": [
    "Ef = Ei - E"
   ]
  },
  {
   "cell_type": "code",
   "execution_count": 13,
   "metadata": {
    "collapsed": false
   },
   "outputs": [
    {
     "name": "stdout",
     "output_type": "stream",
     "text": [
      "3388.03403959\n"
     ]
    }
   ],
   "source": [
    "vf = Conv.e2v(Ef)\n",
    "print vf"
   ]
  },
  {
   "cell_type": "code",
   "execution_count": 14,
   "metadata": {
    "collapsed": false
   },
   "outputs": [
    {
     "name": "stdout",
     "output_type": "stream",
     "text": [
      "/home/lj7/miniconda2/envs/mcvine/lib/python2.7/site-packages/mcvine/deployment_info.py:41: UserWarning: Neither environment variable MCVINE_DIR nor DANSE_DIR was defined. Assumed that it is /home/lj7/miniconda2/envs/mcvine.\n",
      "  warnings.warn(msg)\n",
      "Usage: mcvine workflow sx orientation solve_psi [OPTIONS] SAMPLE\n",
      "\n",
      "  compute psi angle\n",
      "\n",
      "Options:\n",
      "  --Ei FLOAT\n",
      "  --hkl <FLOAT FLOAT FLOAT>...\n",
      "  --E FLOAT\n",
      "  --psimin FLOAT\n",
      "  --psimax FLOAT\n",
      "  --number-segments INTEGER\n",
      "  --help                        Show this message and exit.\n"
     ]
    }
   ],
   "source": [
    "!mcvine workflow sx orientation solve_psi --help"
   ]
  },
  {
   "cell_type": "code",
   "execution_count": 15,
   "metadata": {
    "collapsed": true
   },
   "outputs": [],
   "source": [
    "hkl_opt = '%s %s %s' % tuple(hkl)"
   ]
  },
  {
   "cell_type": "code",
   "execution_count": 16,
   "metadata": {
    "collapsed": false
   },
   "outputs": [
    {
     "name": "stdout",
     "output_type": "stream",
     "text": [
      "/home/lj7/miniconda2/envs/mcvine/lib/python2.7/site-packages/mcvine/deployment_info.py:41: UserWarning: Neither environment variable MCVINE_DIR nor DANSE_DIR was defined. Assumed that it is /home/lj7/miniconda2/envs/mcvine.\n",
      "  warnings.warn(msg)\n",
      "/home/lj7/miniconda2/envs/mcvine/share/mcvine/workflow/mcvine_workflow/singlextal/solve_psi.py:55: UserWarning: Traceback (most recent call last):\n",
      "  File \"/home/lj7/miniconda2/envs/mcvine/share/mcvine/workflow/mcvine_workflow/singlextal/solve_psi.py\", line 52, in solve\n",
      "    results.append(solver(res, min, max))\n",
      "  File \"/home/lj7/miniconda2/envs/mcvine/lib/python2.7/site-packages/scipy/optimize/zeros.py\", line 442, in brentq\n",
      "    r = _zeros._brentq(f,a,b,xtol,rtol,maxiter,args,full_output,disp)\n",
      "ValueError: f(a) and f(b) must have different signs\n",
      "\n",
      "  warnings.warn(tb.format_exc())\n",
      "psi=46.374678916, Q=[  5.41072298e+00  -5.15712343e+00  -1.43726139e-16]\n",
      "hkl2Q=array([[ -1.13216999e+00,   1.66395565e-01,   4.64725066e-18],\n",
      "       [  1.17659432e-01,   8.00565078e-01,  -8.09165116e-01],\n",
      "       [ -1.17659432e-01,  -8.00565078e-01,  -8.09165116e-01]])\n",
      "(Q = hkl dot hkl2Q)\n"
     ]
    }
   ],
   "source": [
    "!mcvine workflow sx orientation solve_psi --Ei=100 --hkl {hkl_opt} \\\n",
    "    --E 40 --psimin -5 --psimax 90 Si.yml "
   ]
  },
  {
   "cell_type": "code",
   "execution_count": 17,
   "metadata": {
    "collapsed": true
   },
   "outputs": [],
   "source": [
    "Q =  np.array([5.41072298, -5.15712343,  0. ])"
   ]
  },
  {
   "cell_type": "code",
   "execution_count": 18,
   "metadata": {
    "collapsed": false
   },
   "outputs": [
    {
     "name": "stdout",
     "output_type": "stream",
     "text": [
      "7.47474716887\n"
     ]
    }
   ],
   "source": [
    "Q_len = np.linalg.norm(Q); print Q_len"
   ]
  },
  {
   "cell_type": "code",
   "execution_count": 19,
   "metadata": {
    "collapsed": false
   },
   "outputs": [
    {
     "name": "stdout",
     "output_type": "stream",
     "text": [
      "6.94692092177\n"
     ]
    }
   ],
   "source": [
    "ki = Conv.e2k(Ei); print ki"
   ]
  },
  {
   "cell_type": "code",
   "execution_count": 20,
   "metadata": {
    "collapsed": false
   },
   "outputs": [],
   "source": [
    "kiv = np.array([ki, 0, 0])\n",
    "kfv = kiv - Q"
   ]
  },
  {
   "cell_type": "markdown",
   "metadata": {},
   "source": [
    "** Verify the momentum and energy transfers **"
   ]
  },
  {
   "cell_type": "code",
   "execution_count": 21,
   "metadata": {
    "collapsed": false
   },
   "outputs": [
    {
     "name": "stdout",
     "output_type": "stream",
     "text": [
      "39.9999999739\n",
      "40.0\n"
     ]
    }
   ],
   "source": [
    "print Ei-Conv.k2e(np.linalg.norm(kfv))\n",
    "print Ei-Ef"
   ]
  },
  {
   "cell_type": "markdown",
   "metadata": {},
   "source": [
    "** Compute detector pixel position **"
   ]
  },
  {
   "cell_type": "code",
   "execution_count": 22,
   "metadata": {
    "collapsed": false
   },
   "outputs": [
    {
     "name": "stdout",
     "output_type": "stream",
     "text": [
      "0.0 3.0\n"
     ]
    }
   ],
   "source": [
    "z = kfv[2]/(kfv[0]**2+kfv[1]**2)**.5 * R\n",
    "L_SD=(z**2+R**2)**.5\n",
    "print z, L_SD"
   ]
  },
  {
   "cell_type": "markdown",
   "metadata": {},
   "source": [
    "### Constants"
   ]
  },
  {
   "cell_type": "code",
   "execution_count": 23,
   "metadata": {
    "collapsed": true
   },
   "outputs": [],
   "source": [
    "eV = 1.60218e-19\n",
    "meV = eV*1e-3\n",
    "mus = 1.e-6"
   ]
  },
  {
   "cell_type": "code",
   "execution_count": 24,
   "metadata": {
    "collapsed": true
   },
   "outputs": [],
   "source": [
    "hbar= 1.0545718e-34\n",
    "AA = 1e-10\n",
    "\n",
    "from numpy import sin, cos"
   ]
  },
  {
   "cell_type": "markdown",
   "metadata": {},
   "source": [
    "## Differentials"
   ]
  },
  {
   "cell_type": "code",
   "execution_count": 25,
   "metadata": {
    "collapsed": false
   },
   "outputs": [
    {
     "name": "stdout",
     "output_type": "stream",
     "text": [
      "-0.098580621628\n",
      "0.135526912828\n",
      "22.5382095553\n",
      "-30.9851359349\n",
      "-40.0016384853\n",
      "-40.0016384853 -0.0\n"
     ]
    }
   ],
   "source": [
    "pE_pt = -m*(vi**3/L_PM + vf**3/L_SD * L_MS/L_PM)\n",
    "# convert to eV/microsecond\n",
    "pE_pt /= meV/mus\n",
    "print pE_pt\n",
    "\n",
    "pE_ptMD = m*vf**3/L_SD\n",
    "pE_ptMD /= meV/mus\n",
    "print pE_ptMD\n",
    "\n",
    "pE_pLPM = m/L_PM * (vi**2 + vf**3/vi * L_MS/ L_SD)\n",
    "pE_pLPM /= meV\n",
    "print pE_pLPM\n",
    "\n",
    "pE_pLMS= -m/L_SD * (vf**3/vi)\n",
    "pE_pLMS /= meV\n",
    "print pE_pLMS\n",
    "\n",
    "pE_pLSD = -m*vf*vf/L_SD\n",
    "pE_pLSD /= meV\n",
    "print pE_pLSD\n",
    "\n",
    "# we don't need pE_pLSD, instead we need pE_pR and pE_pz. R and z are cylinder radius and z coordinate\n",
    "pE_pR = pE_pLSD * (R/L_SD)\n",
    "pE_pz = pE_pLSD * (z/L_SD)\n",
    "print pE_pR, pE_pz"
   ]
  },
  {
   "cell_type": "markdown",
   "metadata": {},
   "source": [
    "## Estimate of standard deviations"
   ]
  },
  {
   "cell_type": "code",
   "execution_count": 26,
   "metadata": {
    "collapsed": true
   },
   "outputs": [],
   "source": [
    "tau_P = 10 # microsecond\n",
    "tau_M = 8 # microsecond\n",
    "tau_D = 10 # microsecond"
   ]
  },
  {
   "cell_type": "code",
   "execution_count": 27,
   "metadata": {
    "collapsed": false
   },
   "outputs": [
    {
     "data": {
      "text/plain": [
       "7.3789105150210617"
      ]
     },
     "execution_count": 27,
     "metadata": {},
     "output_type": "execute_result"
    }
   ],
   "source": [
    "tau_D = 0.025/vf*1e6 # microsecond\n",
    "tau_D"
   ]
  },
  {
   "cell_type": "markdown",
   "metadata": {},
   "source": [
    "## Calculations"
   ]
  },
  {
   "cell_type": "code",
   "execution_count": 28,
   "metadata": {
    "collapsed": true
   },
   "outputs": [],
   "source": [
    "pE_p_vec = [pE_pt, pE_ptMD, pE_pLPM, pE_pLMS, pE_pR, pE_pz]\n",
    "pE_p_vec = np.array(pE_p_vec)\n",
    "J_E = pE_p_vec/E"
   ]
  },
  {
   "cell_type": "code",
   "execution_count": 29,
   "metadata": {
    "collapsed": false
   },
   "outputs": [
    {
     "name": "stdout",
     "output_type": "stream",
     "text": [
      "[-0.00246452  0.00338817  0.56345524 -0.7746284  -1.00004096 -0.        ]\n"
     ]
    }
   ],
   "source": [
    "print J_E"
   ]
  },
  {
   "cell_type": "code",
   "execution_count": 30,
   "metadata": {
    "collapsed": false
   },
   "outputs": [],
   "source": [
    "sigma_t = (tau_P**2+tau_M**2)**.5"
   ]
  },
  {
   "cell_type": "code",
   "execution_count": 31,
   "metadata": {
    "collapsed": true
   },
   "outputs": [],
   "source": [
    "sigma_tMD = (tau_M**2+tau_D**2)**.5"
   ]
  },
  {
   "cell_type": "code",
   "execution_count": 32,
   "metadata": {
    "collapsed": true
   },
   "outputs": [],
   "source": [
    "div = 0.01\n",
    "sigma_LPM = L_PM * div*div"
   ]
  },
  {
   "cell_type": "code",
   "execution_count": 33,
   "metadata": {
    "collapsed": true
   },
   "outputs": [],
   "source": [
    "# mainly due to sample size\n",
    "sigma_LMS = 0.025*2"
   ]
  },
  {
   "cell_type": "code",
   "execution_count": 34,
   "metadata": {
    "collapsed": true
   },
   "outputs": [],
   "source": [
    "# mainly due to det tube diameter\n",
    "sigma_R = 0.025"
   ]
  },
  {
   "cell_type": "code",
   "execution_count": 35,
   "metadata": {
    "collapsed": true
   },
   "outputs": [],
   "source": [
    "# pixel size\n",
    "sigma_z = 1./128"
   ]
  },
  {
   "cell_type": "code",
   "execution_count": 36,
   "metadata": {
    "collapsed": false
   },
   "outputs": [
    {
     "name": "stdout",
     "output_type": "stream",
     "text": [
      "[  1.28062485e+01   1.08833965e+01   1.16100000e-03   5.00000000e-02\n",
      "   2.50000000e-02   7.81250000e-03]\n",
      "[  1.64000000e+02   1.18448320e+02   1.34792100e-06   2.50000000e-03\n",
      "   6.25000000e-04   6.10351562e-05]\n"
     ]
    }
   ],
   "source": [
    "sigma = np.array([sigma_t, sigma_tMD, sigma_LPM, sigma_LMS, sigma_R, sigma_z])\n",
    "print sigma\n",
    "sigma2 = sigma*sigma\n",
    "print sigma2\n",
    "sigma2 = np.diag(sigma2)"
   ]
  },
  {
   "cell_type": "code",
   "execution_count": 37,
   "metadata": {
    "collapsed": false
   },
   "outputs": [
    {
     "name": "stdout",
     "output_type": "stream",
     "text": [
      "[[  1.64000000e+02   0.00000000e+00   0.00000000e+00   0.00000000e+00\n",
      "    0.00000000e+00   0.00000000e+00]\n",
      " [  0.00000000e+00   1.18448320e+02   0.00000000e+00   0.00000000e+00\n",
      "    0.00000000e+00   0.00000000e+00]\n",
      " [  0.00000000e+00   0.00000000e+00   1.34792100e-06   0.00000000e+00\n",
      "    0.00000000e+00   0.00000000e+00]\n",
      " [  0.00000000e+00   0.00000000e+00   0.00000000e+00   2.50000000e-03\n",
      "    0.00000000e+00   0.00000000e+00]\n",
      " [  0.00000000e+00   0.00000000e+00   0.00000000e+00   0.00000000e+00\n",
      "    6.25000000e-04   0.00000000e+00]\n",
      " [  0.00000000e+00   0.00000000e+00   0.00000000e+00   0.00000000e+00\n",
      "    0.00000000e+00   6.10351562e-05]]\n"
     ]
    }
   ],
   "source": [
    "print sigma2"
   ]
  },
  {
   "cell_type": "code",
   "execution_count": 38,
   "metadata": {
    "collapsed": false
   },
   "outputs": [
    {
     "name": "stdout",
     "output_type": "stream",
     "text": [
      "[-0.00246452  0.00338817  0.56345524 -0.7746284  -1.00004096 -0.        ]\n"
     ]
    }
   ],
   "source": [
    "print J_E"
   ]
  },
  {
   "cell_type": "code",
   "execution_count": 39,
   "metadata": {
    "collapsed": false
   },
   "outputs": [
    {
     "name": "stdout",
     "output_type": "stream",
     "text": [
      "[ -4.04180549e-01   4.01323380e-01   7.59493149e-07  -1.93657100e-03\n",
      "  -6.25025601e-04   0.00000000e+00]\n"
     ]
    }
   ],
   "source": [
    "print np.dot(sigma2, J_E)"
   ]
  },
  {
   "cell_type": "code",
   "execution_count": 40,
   "metadata": {
    "collapsed": false
   },
   "outputs": [],
   "source": [
    "cov = np.dot(J_E, np.dot(sigma2, J_E))"
   ]
  },
  {
   "cell_type": "code",
   "execution_count": 41,
   "metadata": {
    "collapsed": false
   },
   "outputs": [
    {
     "name": "stdout",
     "output_type": "stream",
     "text": [
      "0.00448146424422 0.0669437393952\n"
     ]
    }
   ],
   "source": [
    "print cov, np.sqrt(cov)"
   ]
  },
  {
   "cell_type": "code",
   "execution_count": 42,
   "metadata": {
    "collapsed": false
   },
   "outputs": [
    {
     "name": "stdout",
     "output_type": "stream",
     "text": [
      "2.67774957581\n"
     ]
    }
   ],
   "source": [
    "sigma_E = E*np.sqrt(cov)\n",
    "print sigma_E"
   ]
  },
  {
   "cell_type": "markdown",
   "metadata": {},
   "source": [
    "Not sure if this is right:\n",
    "\n",
    "* ** Note: this may be more like FWHM than sigma_E because of the approx I made **\n",
    "* ** FWHM is 2.355 sigma **"
   ]
  },
  {
   "cell_type": "markdown",
   "metadata": {},
   "source": [
    "## Include Q"
   ]
  },
  {
   "cell_type": "code",
   "execution_count": 43,
   "metadata": {
    "collapsed": false
   },
   "outputs": [
    {
     "name": "stdout",
     "output_type": "stream",
     "text": [
      "2654.36156331\n"
     ]
    }
   ],
   "source": [
    "print ti"
   ]
  },
  {
   "cell_type": "code",
   "execution_count": 44,
   "metadata": {
    "collapsed": false
   },
   "outputs": [
    {
     "name": "stdout",
     "output_type": "stream",
     "text": [
      "885.469261803\n"
     ]
    }
   ],
   "source": [
    "tf = L_SD/vf*1e6; print tf"
   ]
  },
  {
   "cell_type": "code",
   "execution_count": 45,
   "metadata": {
    "collapsed": true
   },
   "outputs": [],
   "source": [
    "thetai = 0\n",
    "phii = 0"
   ]
  },
  {
   "cell_type": "code",
   "execution_count": 46,
   "metadata": {
    "collapsed": false
   },
   "outputs": [
    {
     "name": "stdout",
     "output_type": "stream",
     "text": [
      "3.0\n"
     ]
    }
   ],
   "source": [
    "print R"
   ]
  },
  {
   "cell_type": "code",
   "execution_count": 47,
   "metadata": {
    "collapsed": false
   },
   "outputs": [
    {
     "name": "stdout",
     "output_type": "stream",
     "text": [
      "[ 5.41072298 -5.15712343  0.        ]\n"
     ]
    }
   ],
   "source": [
    "print Q"
   ]
  },
  {
   "cell_type": "code",
   "execution_count": 48,
   "metadata": {
    "collapsed": false
   },
   "outputs": [
    {
     "name": "stdout",
     "output_type": "stream",
     "text": [
      "-0.761405490065\n"
     ]
    }
   ],
   "source": [
    "eeta = np.arctan2(Q[1], Q[0])\n",
    "print eeta"
   ]
  },
  {
   "cell_type": "code",
   "execution_count": 49,
   "metadata": {
    "collapsed": false
   },
   "outputs": [
    {
     "name": "stdout",
     "output_type": "stream",
     "text": [
      "-0.00337132006941\n",
      "0.00439917992571\n",
      "0.770775401367\n",
      "-1.00577210206\n",
      "-1.29844620045\n",
      "-3.71276482701\n",
      "-0.0\n",
      "-0.0\n"
     ]
    }
   ],
   "source": [
    "pQx_pt = -m/hbar*(L_PM/ti/ti/mus/mus*cos(thetai)*cos(phii)\n",
    "                  +R/tf/tf/mus/mus*L_MS/L_PM*cos(eeta))\n",
    "pQx_pt/=1./AA/mus\n",
    "print pQx_pt\n",
    "\n",
    "pQx_ptMD = m/hbar * R/tf/tf * cos(eeta) / mus/mus\n",
    "pQx_ptMD /= 1./AA/mus\n",
    "print pQx_ptMD\n",
    "\n",
    "pQx_pLPM = m/hbar *(cos(thetai) * cos(phii)/ti + ti/tf/tf * R*L_MS/L_PM/L_PM * cos(eeta)) / mus\n",
    "pQx_pLPM /= 1./AA\n",
    "print pQx_pLPM\n",
    "\n",
    "pQx_pLMS = -m/hbar * R/tf/tf*ti/L_PM*cos(eeta) / mus\n",
    "pQx_pLMS /= 1./AA\n",
    "print pQx_pLMS\n",
    "\n",
    "pQx_pR = -m/hbar/tf*cos(eeta) / mus\n",
    "pQx_pR /= 1./AA\n",
    "print pQx_pR\n",
    "\n",
    "pQx_peeta = m/hbar * R/tf*sin(eeta) /mus\n",
    "pQx_peeta /= 1./AA\n",
    "print pQx_peeta\n",
    "\n",
    "pQx_pthetai = -m/hbar*L_PM/ti*sin(thetai)*cos(phii)/mus\n",
    "pQx_pthetai/=1./AA\n",
    "print pQx_pthetai\n",
    "\n",
    "pQx_pphii = -m/hbar*L_PM/ti*cos(thetai)*sin(phii)/mus\n",
    "pQx_pphii/=1./AA\n",
    "print pQx_pphii"
   ]
  },
  {
   "cell_type": "code",
   "execution_count": 50,
   "metadata": {
    "collapsed": false
   },
   "outputs": [
    {
     "data": {
      "text/plain": [
       "array([ -4.51027974e-04,   5.88538960e-04,   1.03117254e-01,\n",
       "        -1.34556003e-01,  -1.73711053e-01,   0.00000000e+00,\n",
       "        -4.96707747e-01,  -0.00000000e+00,  -0.00000000e+00])"
      ]
     },
     "execution_count": 50,
     "metadata": {},
     "output_type": "execute_result"
    }
   ],
   "source": [
    "pQx_p_vec = [pQx_pt, pQx_ptMD, pQx_pLPM, pQx_pLMS, pQx_pR, 0, pQx_peeta, pQx_pthetai, pQx_pphii]\n",
    "pQx_p_vec = np.array(pQx_p_vec)\n",
    "J_Qx = pQx_p_vec/Q_len\n",
    "J_Qx"
   ]
  },
  {
   "cell_type": "markdown",
   "metadata": {},
   "source": [
    "**Qy**"
   ]
  },
  {
   "cell_type": "code",
   "execution_count": 51,
   "metadata": {
    "collapsed": false
   },
   "outputs": [
    {
     "name": "stdout",
     "output_type": "stream",
     "text": [
      "0.000718695305589\n",
      "-0.00419299120497\n",
      "-0.164313281214\n",
      "0.958631756226\n",
      "1.23758827567\n",
      "-3.89533860136\n",
      "6.94721592677\n",
      "-0.0\n"
     ]
    }
   ],
   "source": [
    "pQy_pt = -m/hbar*(L_PM/ti/ti*sin(thetai)*cos(phii)+R/tf/tf*L_MS/L_PM*sin(eeta))/mus/mus\n",
    "pQy_pt/=1./AA/mus\n",
    "print pQy_pt\n",
    "\n",
    "pQy_ptMD = m/hbar * R/tf/tf * sin(eeta) / mus/mus\n",
    "pQy_ptMD /= 1./AA/mus\n",
    "print pQy_ptMD\n",
    "\n",
    "pQy_pLPM = m/hbar *(sin(thetai) * cos(phii)/ti \n",
    "                    + ti/tf/tf * R*L_MS/L_PM/L_PM * sin(eeta)) / mus\n",
    "pQy_pLPM /= 1./AA\n",
    "print pQy_pLPM\n",
    "\n",
    "pQy_pLMS = -m/hbar * R/tf/tf*ti/L_PM*sin(eeta) / mus\n",
    "pQy_pLMS /= 1./AA\n",
    "print pQy_pLMS\n",
    "\n",
    "pQy_pR = -m/hbar/tf*sin(eeta) / mus\n",
    "pQy_pR /= 1./AA\n",
    "print pQy_pR\n",
    "\n",
    "pQy_peeta = -m/hbar * R/tf*cos(eeta) /mus\n",
    "pQy_peeta /= 1./AA\n",
    "print pQy_peeta\n",
    "\n",
    "pQy_pthetai = m/hbar*L_PM/ti*cos(thetai)*cos(phii)/mus\n",
    "pQy_pthetai/=1./AA\n",
    "print pQy_pthetai\n",
    "\n",
    "pQy_pphii = -m/hbar*L_PM/ti*sin(thetai)*sin(phii)/mus\n",
    "pQy_pphii/=1./AA\n",
    "print pQy_pphii"
   ]
  },
  {
   "cell_type": "code",
   "execution_count": 52,
   "metadata": {
    "collapsed": false
   },
   "outputs": [
    {
     "data": {
      "text/plain": [
       "array([  9.61497813e-05,  -5.60954252e-04,  -2.19824534e-02,\n",
       "         1.28249389e-01,   1.65569249e-01,   0.00000000e+00,\n",
       "        -5.21133159e-01,   9.29424871e-01,  -0.00000000e+00])"
      ]
     },
     "execution_count": 52,
     "metadata": {},
     "output_type": "execute_result"
    }
   ],
   "source": [
    "pQy_p_vec = [pQy_pt, pQy_ptMD, pQy_pLPM, pQy_pLMS, pQy_pR, 0, pQy_peeta, pQy_pthetai, pQy_pphii]\n",
    "pQy_p_vec = np.array(pQy_p_vec)\n",
    "J_Qy = pQy_p_vec/Q_len\n",
    "J_Qy"
   ]
  },
  {
   "cell_type": "markdown",
   "metadata": {},
   "source": [
    "** Qz **"
   ]
  },
  {
   "cell_type": "code",
   "execution_count": 53,
   "metadata": {
    "collapsed": false
   },
   "outputs": [
    {
     "name": "stdout",
     "output_type": "stream",
     "text": [
      "-0.0\n",
      "0.0\n",
      "0.0\n",
      "-0.0\n",
      "-1.79376343913\n",
      "6.94721592677\n"
     ]
    }
   ],
   "source": [
    "pQz_pt = -m/hbar*(L_PM/ti/ti*sin(phii)+z/tf/tf*L_MS/L_PM)/mus/mus\n",
    "pQz_pt/=1./AA/mus\n",
    "print pQz_pt\n",
    "\n",
    "pQz_ptMD = m/hbar * z/tf/tf /mus/mus\n",
    "pQz_ptMD /= 1./AA/mus\n",
    "print pQz_ptMD\n",
    "\n",
    "pQz_pLPM = m/hbar *(sin(phii)/ti + ti/tf/tf * z*L_MS/L_PM/L_PM) / mus\n",
    "pQz_pLPM /= 1./AA\n",
    "print pQz_pLPM\n",
    "\n",
    "pQz_pLMS = -m/hbar * z/tf/tf*ti/L_PM / mus\n",
    "pQz_pLMS /= 1./AA\n",
    "print pQz_pLMS\n",
    "\n",
    "pQz_pz = -m/hbar/tf / mus\n",
    "pQz_pz/=1./AA\n",
    "print pQz_pz\n",
    "\n",
    "pQz_pphii = m/hbar*L_PM/ti*cos(phii)/mus\n",
    "pQz_pphii/=1./AA\n",
    "print pQz_pphii"
   ]
  },
  {
   "cell_type": "code",
   "execution_count": 54,
   "metadata": {
    "collapsed": true
   },
   "outputs": [],
   "source": [
    "pQz_p_vec = [pQz_pt, pQz_ptMD, pQz_pLPM, pQz_pLMS, 0, pQz_pz, 0, 0, pQz_pphii]\n",
    "pQz_p_vec = np.array(pQz_p_vec)\n",
    "J_Qz = pQz_p_vec/Q_len"
   ]
  },
  {
   "cell_type": "markdown",
   "metadata": {},
   "source": [
    "** Here we need to extend the J vector for E to include the additional variables eeta, thetai, and phii **"
   ]
  },
  {
   "cell_type": "code",
   "execution_count": 55,
   "metadata": {
    "collapsed": true
   },
   "outputs": [],
   "source": [
    "pE_p_vec = [pE_pt, pE_ptMD, pE_pLPM, pE_pLMS, pE_pR, pE_pz,0,0,0]\n",
    "pE_p_vec = np.array(pE_p_vec)\n",
    "J_E = pE_p_vec/E"
   ]
  },
  {
   "cell_type": "code",
   "execution_count": 56,
   "metadata": {
    "collapsed": false
   },
   "outputs": [],
   "source": [
    "J = np.array( (J_Qx, J_Qy, J_Qz, J_E) )"
   ]
  },
  {
   "cell_type": "code",
   "execution_count": 57,
   "metadata": {
    "collapsed": false
   },
   "outputs": [
    {
     "name": "stdout",
     "output_type": "stream",
     "text": [
      "[[ -4.51027974e-04   5.88538960e-04   1.03117254e-01  -1.34556003e-01\n",
      "   -1.73711053e-01   0.00000000e+00  -4.96707747e-01  -0.00000000e+00\n",
      "   -0.00000000e+00]\n",
      " [  9.61497813e-05  -5.60954252e-04  -2.19824534e-02   1.28249389e-01\n",
      "    1.65569249e-01   0.00000000e+00  -5.21133159e-01   9.29424871e-01\n",
      "   -0.00000000e+00]\n",
      " [ -0.00000000e+00   0.00000000e+00   0.00000000e+00  -0.00000000e+00\n",
      "    0.00000000e+00  -2.39976470e-01   0.00000000e+00   0.00000000e+00\n",
      "    9.29424871e-01]\n",
      " [ -2.46451554e-03   3.38817282e-03   5.63455239e-01  -7.74628398e-01\n",
      "   -1.00004096e+00  -0.00000000e+00   0.00000000e+00   0.00000000e+00\n",
      "    0.00000000e+00]]\n"
     ]
    }
   ],
   "source": [
    "print J"
   ]
  },
  {
   "cell_type": "markdown",
   "metadata": {},
   "source": [
    "## sigma"
   ]
  },
  {
   "cell_type": "code",
   "execution_count": 58,
   "metadata": {
    "collapsed": true
   },
   "outputs": [],
   "source": [
    "sigma_eeta = 0.025/3\n",
    "sigma_thetai = 0.01\n",
    "sigma_phii = 0.01"
   ]
  },
  {
   "cell_type": "code",
   "execution_count": 59,
   "metadata": {
    "collapsed": false
   },
   "outputs": [],
   "source": [
    "sigma = np.array([sigma_t, sigma_tMD, sigma_LPM, sigma_LMS, sigma_R, sigma_z, sigma_eeta, sigma_thetai, sigma_phii])\n",
    "sigma2 = sigma**2\n",
    "sigma2 = np.diag(sigma2)"
   ]
  },
  {
   "cell_type": "code",
   "execution_count": 60,
   "metadata": {
    "collapsed": false
   },
   "outputs": [
    {
     "name": "stdout",
     "output_type": "stream",
     "text": [
      "(4, 9) (9, 9)\n"
     ]
    }
   ],
   "source": [
    "print J.shape, sigma2.shape"
   ]
  },
  {
   "cell_type": "code",
   "execution_count": 61,
   "metadata": {
    "collapsed": false
   },
   "outputs": [],
   "source": [
    "cov = np.dot(J, np.dot(sigma2, J.T))"
   ]
  },
  {
   "cell_type": "code",
   "execution_count": 62,
   "metadata": {
    "collapsed": false
   },
   "outputs": [
    {
     "name": "stdout",
     "output_type": "stream",
     "text": [
      "[[  1.55660376e-04  -8.93618668e-05   0.00000000e+00   7.87720603e-04]\n",
      " [ -8.93618668e-05   2.02284654e-04   0.00000000e+00  -6.15851689e-04]\n",
      " [  0.00000000e+00   0.00000000e+00   8.98979948e-05   0.00000000e+00]\n",
      " [  7.87720603e-04  -6.15851689e-04   0.00000000e+00   4.48146424e-03]]\n"
     ]
    }
   ],
   "source": [
    "print cov"
   ]
  },
  {
   "cell_type": "code",
   "execution_count": 63,
   "metadata": {
    "collapsed": false
   },
   "outputs": [
    {
     "name": "stdout",
     "output_type": "stream",
     "text": [
      "[[ 70581.73448947 -11331.32966842      0.         -13963.53994496]\n",
      " [-11331.32966842  10318.71766374      0.           3409.76089802]\n",
      " [     0.              0.          11123.71862895      0.        ]\n",
      " [-13963.53994496   3409.76089802     -0.           3146.13134216]]\n"
     ]
    }
   ],
   "source": [
    "M = np.linalg.inv(cov)\n",
    "print M"
   ]
  },
  {
   "cell_type": "code",
   "execution_count": 64,
   "metadata": {
    "collapsed": false
   },
   "outputs": [
    {
     "data": {
      "text/plain": [
       "array([[  1.00000000e+00,  -5.90199187e-17,   0.00000000e+00,\n",
       "          1.08194120e-16],\n",
       "       [  8.09066919e-16,   1.00000000e+00,   0.00000000e+00,\n",
       "         -1.83990883e-16],\n",
       "       [  0.00000000e+00,   0.00000000e+00,   1.00000000e+00,\n",
       "          0.00000000e+00],\n",
       "       [ -9.17594112e-15,  -3.99937900e-16,   0.00000000e+00,\n",
       "          1.00000000e+00]])"
      ]
     },
     "execution_count": 64,
     "metadata": {},
     "output_type": "execute_result"
    }
   ],
   "source": [
    "np.dot(cov, M)"
   ]
  },
  {
   "cell_type": "markdown",
   "metadata": {},
   "source": [
    "## Ellipsoid"
   ]
  },
  {
   "cell_type": "code",
   "execution_count": 65,
   "metadata": {
    "collapsed": false
   },
   "outputs": [],
   "source": [
    "hkl_dir = [-1,1,-1]\n",
    "hkl0 = [-16/3.,-8/3.,8/3.]\n",
    "# hkl = hkl0+hkl_dir*x\n",
    "# dh,dk,dl = dx2dhkl*dx \n",
    "dx2dhkl = np.array(hkl_dir)"
   ]
  },
  {
   "cell_type": "code",
   "execution_count": 66,
   "metadata": {
    "collapsed": true
   },
   "outputs": [],
   "source": [
    "# Q = hkl dot hkl2Q\n",
    "hkl2Q=np.array([[ -1.13216999e+00,   1.66395565e-01,   4.64725066e-18],\n",
    "       [  1.17659432e-01,   8.00565078e-01,  -8.09165116e-01],\n",
    "       [ -1.17659432e-01,  -8.00565078e-01,  -8.09165116e-01]])"
   ]
  },
  {
   "cell_type": "code",
   "execution_count": 67,
   "metadata": {
    "collapsed": false
   },
   "outputs": [
    {
     "name": "stdout",
     "output_type": "stream",
     "text": [
      "[ 1.36748885  1.43473459  0.        ]\n"
     ]
    }
   ],
   "source": [
    "# dQ = dx * dx2dhkl dot hkl2Q\n",
    "# so dx2dQ = dx2dhkl * hkl2Q\n",
    "# dQ = dx * dx2dQ\n",
    "dx2dQ = np.dot(dx2dhkl, hkl2Q)\n",
    "print dx2dQ"
   ]
  },
  {
   "cell_type": "code",
   "execution_count": 68,
   "metadata": {
    "collapsed": true
   },
   "outputs": [],
   "source": [
    "# [dQx,dQy,dQz,dE] = [dx dE] dot dxdE2dQdE\n",
    "L=dxdE2dQdE = np.array([[ 1.36748885,  1.4347346,   0.,  0], \n",
    "                        [ 0.        ,  0.,          0.,  1]\n",
    "                        ])"
   ]
  },
  {
   "cell_type": "code",
   "execution_count": 69,
   "metadata": {
    "collapsed": false
   },
   "outputs": [
    {
     "data": {
      "text/plain": [
       "array([ 1.36748885,  1.4347346 ,  0.        ,  1.        ])"
      ]
     },
     "execution_count": 69,
     "metadata": {},
     "output_type": "execute_result"
    }
   ],
   "source": [
    "np.dot([1,1], dxdE2dQdE)"
   ]
  },
  {
   "cell_type": "markdown",
   "metadata": {},
   "source": [
    "$ [dX1,\\; dX2,\\; dX3,\\; dX4]\\; M\\; [dX1,\\; dX2,\\; dX3,\\; dX4 ]^T = 2ln(2)$\n",
    "\n",
    "$ dX_i = \\frac{dQ_i}{|Q|}$ for i = 1,2,3\n",
    "\n",
    "$ dX_4 = \\frac{dE}{E}$\n",
    "\n",
    "Let \n",
    "$ U = diag\\big( \\frac{1}{|Q|},\\; \\frac{1}{|Q|},\\; \\frac{1}{|Q|},\\; 1/E \\big) $\n",
    "\n",
    "$ [dx,\\; dE]\\; L U MU^TL^T [dx,\\; dE ]^T = 2ln(2)$\n",
    "\n",
    "Let $N=L U MU^TL^T $"
   ]
  },
  {
   "cell_type": "code",
   "execution_count": 70,
   "metadata": {
    "collapsed": false
   },
   "outputs": [
    {
     "name": "stdout",
     "output_type": "stream",
     "text": [
      "7.47474716887 40.0\n"
     ]
    }
   ],
   "source": [
    "print Q_len, E"
   ]
  },
  {
   "cell_type": "code",
   "execution_count": 71,
   "metadata": {
    "collapsed": false
   },
   "outputs": [
    {
     "name": "stdout",
     "output_type": "stream",
     "text": [
      "[[ 1946.71570243   -47.50288847]\n",
      " [  -47.50288847     1.96633209]]\n"
     ]
    }
   ],
   "source": [
    "U = np.diag([1./Q_len, 1./Q_len, 1./Q_len, 1./E])\n",
    "N = LUMUTLT = np.dot(L, np.dot(U, np.dot(M, np.dot(U.T, L.T))))\n",
    "print N"
   ]
  },
  {
   "cell_type": "code",
   "execution_count": 72,
   "metadata": {
    "collapsed": false
   },
   "outputs": [
    {
     "name": "stdout",
     "output_type": "stream",
     "text": [
      "1.38629436112\n"
     ]
    }
   ],
   "source": [
    "print 2*np.log(2)"
   ]
  },
  {
   "cell_type": "code",
   "execution_count": 73,
   "metadata": {
    "collapsed": false
   },
   "outputs": [],
   "source": [
    "r = np.linalg.eig(N)"
   ]
  },
  {
   "cell_type": "code",
   "execution_count": 74,
   "metadata": {
    "collapsed": false
   },
   "outputs": [
    {
     "data": {
      "text/plain": [
       "2"
      ]
     },
     "execution_count": 74,
     "metadata": {},
     "output_type": "execute_result"
    }
   ],
   "source": [
    "len(r)"
   ]
  },
  {
   "cell_type": "code",
   "execution_count": 75,
   "metadata": {
    "collapsed": false
   },
   "outputs": [
    {
     "data": {
      "text/plain": [
       "array([  1.94787533e+03,   8.06707246e-01])"
      ]
     },
     "execution_count": 75,
     "metadata": {},
     "output_type": "execute_result"
    }
   ],
   "source": [
    "r[0]"
   ]
  },
  {
   "cell_type": "code",
   "execution_count": 76,
   "metadata": {
    "collapsed": false
   },
   "outputs": [
    {
     "data": {
      "text/plain": [
       "array([[ 0.99970217,  0.0244044 ],\n",
       "       [-0.0244044 ,  0.99970217]])"
      ]
     },
     "execution_count": 76,
     "metadata": {},
     "output_type": "execute_result"
    }
   ],
   "source": [
    "r[1]"
   ]
  },
  {
   "cell_type": "code",
   "execution_count": 77,
   "metadata": {
    "collapsed": true
   },
   "outputs": [],
   "source": [
    "mR = r[1]; lambdas = r[0]"
   ]
  },
  {
   "cell_type": "code",
   "execution_count": 78,
   "metadata": {
    "collapsed": false
   },
   "outputs": [
    {
     "data": {
      "text/plain": [
       "array([[  1.00000000e+00,  -3.46944695e-18],\n",
       "       [ -3.46944695e-18,   1.00000000e+00]])"
      ]
     },
     "execution_count": 78,
     "metadata": {},
     "output_type": "execute_result"
    }
   ],
   "source": [
    "np.dot(mR, mR.T)"
   ]
  },
  {
   "cell_type": "code",
   "execution_count": 79,
   "metadata": {
    "collapsed": false
   },
   "outputs": [
    {
     "data": {
      "text/plain": [
       "array([[  1.94787533e+03,   1.42108547e-14],\n",
       "       [ -2.49453236e-15,   8.06707246e-01]])"
      ]
     },
     "execution_count": 79,
     "metadata": {},
     "output_type": "execute_result"
    }
   ],
   "source": [
    "np.dot(np.dot(mR.T, N), mR)"
   ]
  },
  {
   "cell_type": "markdown",
   "metadata": {},
   "source": [
    "$ u = [dx,\\;dE]$\n",
    "\n",
    "$ u N u^T = 2ln(2)$        .... (1)\n",
    "\n",
    "Find eigen values ($\\lambda_1$, $\\lambda_2$) and eigne vectors ($e_1$, $e_2$, column vectors) of N,\n",
    "and let \n",
    "\n",
    "$ R = [e_1,\\;e_2] $\n",
    "\n",
    "Then\n",
    "\n",
    "$ N' = R^T N R = diag([\\lambda_1, \\lambda_2]) $\n",
    "\n",
    "or\n",
    "\n",
    "$ N = R N' R^T $\n",
    "\n",
    "With $N'$ we can rewrite (1) as\n",
    "\n",
    "$ u'N'{u'}^T = 2ln2 = \\lambda_1 {u'}_1^2 + \\lambda_2 {u'}_2^2 $\n",
    "\n",
    "where\n",
    "\n",
    "$ u' = u . R $"
   ]
  },
  {
   "cell_type": "markdown",
   "metadata": {},
   "source": [
    "${u'}_1 = \\sqrt{2ln2/\\lambda_1}*cos(\\theta)$\n",
    "\n",
    "${u'}_2 = \\sqrt{2ln2/\\lambda_2}*sin(\\theta)$"
   ]
  },
  {
   "cell_type": "code",
   "execution_count": 80,
   "metadata": {
    "collapsed": true
   },
   "outputs": [],
   "source": [
    "RR = 2*np.log(2)"
   ]
  },
  {
   "cell_type": "code",
   "execution_count": 81,
   "metadata": {
    "collapsed": true
   },
   "outputs": [],
   "source": [
    "theta = np.arange(0, 360, 1.)*np.pi/180"
   ]
  },
  {
   "cell_type": "code",
   "execution_count": 82,
   "metadata": {
    "collapsed": false
   },
   "outputs": [],
   "source": [
    "u1p = np.sqrt(RR/lambdas[0])*np.cos(theta)\n",
    "u2p = np.sqrt(RR/lambdas[1])*np.sin(theta)"
   ]
  },
  {
   "cell_type": "code",
   "execution_count": 83,
   "metadata": {
    "collapsed": false
   },
   "outputs": [
    {
     "name": "stdout",
     "output_type": "stream",
     "text": [
      "(360, 2)\n"
     ]
    }
   ],
   "source": [
    "up = np.array([u1p, u2p]).T\n",
    "print up.shape"
   ]
  },
  {
   "cell_type": "code",
   "execution_count": 84,
   "metadata": {
    "collapsed": true
   },
   "outputs": [],
   "source": [
    "u = np.dot(up, mR.T)"
   ]
  },
  {
   "cell_type": "code",
   "execution_count": 85,
   "metadata": {
    "collapsed": false
   },
   "outputs": [
    {
     "data": {
      "text/plain": [
       "(360, 2)"
      ]
     },
     "execution_count": 85,
     "metadata": {},
     "output_type": "execute_result"
    }
   ],
   "source": [
    "u.shape"
   ]
  },
  {
   "cell_type": "code",
   "execution_count": 86,
   "metadata": {
    "collapsed": false,
    "scrolled": false
   },
   "outputs": [
    {
     "data": {
      "application/javascript": [
       "/* Put everything inside the global mpl namespace */\n",
       "window.mpl = {};\n",
       "\n",
       "mpl.get_websocket_type = function() {\n",
       "    if (typeof(WebSocket) !== 'undefined') {\n",
       "        return WebSocket;\n",
       "    } else if (typeof(MozWebSocket) !== 'undefined') {\n",
       "        return MozWebSocket;\n",
       "    } else {\n",
       "        alert('Your browser does not have WebSocket support.' +\n",
       "              'Please try Chrome, Safari or Firefox ≥ 6. ' +\n",
       "              'Firefox 4 and 5 are also supported but you ' +\n",
       "              'have to enable WebSockets in about:config.');\n",
       "    };\n",
       "}\n",
       "\n",
       "mpl.figure = function(figure_id, websocket, ondownload, parent_element) {\n",
       "    this.id = figure_id;\n",
       "\n",
       "    this.ws = websocket;\n",
       "\n",
       "    this.supports_binary = (this.ws.binaryType != undefined);\n",
       "\n",
       "    if (!this.supports_binary) {\n",
       "        var warnings = document.getElementById(\"mpl-warnings\");\n",
       "        if (warnings) {\n",
       "            warnings.style.display = 'block';\n",
       "            warnings.textContent = (\n",
       "                \"This browser does not support binary websocket messages. \" +\n",
       "                    \"Performance may be slow.\");\n",
       "        }\n",
       "    }\n",
       "\n",
       "    this.imageObj = new Image();\n",
       "\n",
       "    this.context = undefined;\n",
       "    this.message = undefined;\n",
       "    this.canvas = undefined;\n",
       "    this.rubberband_canvas = undefined;\n",
       "    this.rubberband_context = undefined;\n",
       "    this.format_dropdown = undefined;\n",
       "\n",
       "    this.image_mode = 'full';\n",
       "\n",
       "    this.root = $('<div/>');\n",
       "    this._root_extra_style(this.root)\n",
       "    this.root.attr('style', 'display: inline-block');\n",
       "\n",
       "    $(parent_element).append(this.root);\n",
       "\n",
       "    this._init_header(this);\n",
       "    this._init_canvas(this);\n",
       "    this._init_toolbar(this);\n",
       "\n",
       "    var fig = this;\n",
       "\n",
       "    this.waiting = false;\n",
       "\n",
       "    this.ws.onopen =  function () {\n",
       "            fig.send_message(\"supports_binary\", {value: fig.supports_binary});\n",
       "            fig.send_message(\"send_image_mode\", {});\n",
       "            fig.send_message(\"refresh\", {});\n",
       "        }\n",
       "\n",
       "    this.imageObj.onload = function() {\n",
       "            if (fig.image_mode == 'full') {\n",
       "                // Full images could contain transparency (where diff images\n",
       "                // almost always do), so we need to clear the canvas so that\n",
       "                // there is no ghosting.\n",
       "                fig.context.clearRect(0, 0, fig.canvas.width, fig.canvas.height);\n",
       "            }\n",
       "            fig.context.drawImage(fig.imageObj, 0, 0);\n",
       "        };\n",
       "\n",
       "    this.imageObj.onunload = function() {\n",
       "        this.ws.close();\n",
       "    }\n",
       "\n",
       "    this.ws.onmessage = this._make_on_message_function(this);\n",
       "\n",
       "    this.ondownload = ondownload;\n",
       "}\n",
       "\n",
       "mpl.figure.prototype._init_header = function() {\n",
       "    var titlebar = $(\n",
       "        '<div class=\"ui-dialog-titlebar ui-widget-header ui-corner-all ' +\n",
       "        'ui-helper-clearfix\"/>');\n",
       "    var titletext = $(\n",
       "        '<div class=\"ui-dialog-title\" style=\"width: 100%; ' +\n",
       "        'text-align: center; padding: 3px;\"/>');\n",
       "    titlebar.append(titletext)\n",
       "    this.root.append(titlebar);\n",
       "    this.header = titletext[0];\n",
       "}\n",
       "\n",
       "\n",
       "\n",
       "mpl.figure.prototype._canvas_extra_style = function(canvas_div) {\n",
       "\n",
       "}\n",
       "\n",
       "\n",
       "mpl.figure.prototype._root_extra_style = function(canvas_div) {\n",
       "\n",
       "}\n",
       "\n",
       "mpl.figure.prototype._init_canvas = function() {\n",
       "    var fig = this;\n",
       "\n",
       "    var canvas_div = $('<div/>');\n",
       "\n",
       "    canvas_div.attr('style', 'position: relative; clear: both; outline: 0');\n",
       "\n",
       "    function canvas_keyboard_event(event) {\n",
       "        return fig.key_event(event, event['data']);\n",
       "    }\n",
       "\n",
       "    canvas_div.keydown('key_press', canvas_keyboard_event);\n",
       "    canvas_div.keyup('key_release', canvas_keyboard_event);\n",
       "    this.canvas_div = canvas_div\n",
       "    this._canvas_extra_style(canvas_div)\n",
       "    this.root.append(canvas_div);\n",
       "\n",
       "    var canvas = $('<canvas/>');\n",
       "    canvas.addClass('mpl-canvas');\n",
       "    canvas.attr('style', \"left: 0; top: 0; z-index: 0; outline: 0\")\n",
       "\n",
       "    this.canvas = canvas[0];\n",
       "    this.context = canvas[0].getContext(\"2d\");\n",
       "\n",
       "    var rubberband = $('<canvas/>');\n",
       "    rubberband.attr('style', \"position: absolute; left: 0; top: 0; z-index: 1;\")\n",
       "\n",
       "    var pass_mouse_events = true;\n",
       "\n",
       "    canvas_div.resizable({\n",
       "        start: function(event, ui) {\n",
       "            pass_mouse_events = false;\n",
       "        },\n",
       "        resize: function(event, ui) {\n",
       "            fig.request_resize(ui.size.width, ui.size.height);\n",
       "        },\n",
       "        stop: function(event, ui) {\n",
       "            pass_mouse_events = true;\n",
       "            fig.request_resize(ui.size.width, ui.size.height);\n",
       "        },\n",
       "    });\n",
       "\n",
       "    function mouse_event_fn(event) {\n",
       "        if (pass_mouse_events)\n",
       "            return fig.mouse_event(event, event['data']);\n",
       "    }\n",
       "\n",
       "    rubberband.mousedown('button_press', mouse_event_fn);\n",
       "    rubberband.mouseup('button_release', mouse_event_fn);\n",
       "    // Throttle sequential mouse events to 1 every 20ms.\n",
       "    rubberband.mousemove('motion_notify', mouse_event_fn);\n",
       "\n",
       "    rubberband.mouseenter('figure_enter', mouse_event_fn);\n",
       "    rubberband.mouseleave('figure_leave', mouse_event_fn);\n",
       "\n",
       "    canvas_div.on(\"wheel\", function (event) {\n",
       "        event = event.originalEvent;\n",
       "        event['data'] = 'scroll'\n",
       "        if (event.deltaY < 0) {\n",
       "            event.step = 1;\n",
       "        } else {\n",
       "            event.step = -1;\n",
       "        }\n",
       "        mouse_event_fn(event);\n",
       "    });\n",
       "\n",
       "    canvas_div.append(canvas);\n",
       "    canvas_div.append(rubberband);\n",
       "\n",
       "    this.rubberband = rubberband;\n",
       "    this.rubberband_canvas = rubberband[0];\n",
       "    this.rubberband_context = rubberband[0].getContext(\"2d\");\n",
       "    this.rubberband_context.strokeStyle = \"#000000\";\n",
       "\n",
       "    this._resize_canvas = function(width, height) {\n",
       "        // Keep the size of the canvas, canvas container, and rubber band\n",
       "        // canvas in synch.\n",
       "        canvas_div.css('width', width)\n",
       "        canvas_div.css('height', height)\n",
       "\n",
       "        canvas.attr('width', width);\n",
       "        canvas.attr('height', height);\n",
       "\n",
       "        rubberband.attr('width', width);\n",
       "        rubberband.attr('height', height);\n",
       "    }\n",
       "\n",
       "    // Set the figure to an initial 600x600px, this will subsequently be updated\n",
       "    // upon first draw.\n",
       "    this._resize_canvas(600, 600);\n",
       "\n",
       "    // Disable right mouse context menu.\n",
       "    $(this.rubberband_canvas).bind(\"contextmenu\",function(e){\n",
       "        return false;\n",
       "    });\n",
       "\n",
       "    function set_focus () {\n",
       "        canvas.focus();\n",
       "        canvas_div.focus();\n",
       "    }\n",
       "\n",
       "    window.setTimeout(set_focus, 100);\n",
       "}\n",
       "\n",
       "mpl.figure.prototype._init_toolbar = function() {\n",
       "    var fig = this;\n",
       "\n",
       "    var nav_element = $('<div/>')\n",
       "    nav_element.attr('style', 'width: 100%');\n",
       "    this.root.append(nav_element);\n",
       "\n",
       "    // Define a callback function for later on.\n",
       "    function toolbar_event(event) {\n",
       "        return fig.toolbar_button_onclick(event['data']);\n",
       "    }\n",
       "    function toolbar_mouse_event(event) {\n",
       "        return fig.toolbar_button_onmouseover(event['data']);\n",
       "    }\n",
       "\n",
       "    for(var toolbar_ind in mpl.toolbar_items) {\n",
       "        var name = mpl.toolbar_items[toolbar_ind][0];\n",
       "        var tooltip = mpl.toolbar_items[toolbar_ind][1];\n",
       "        var image = mpl.toolbar_items[toolbar_ind][2];\n",
       "        var method_name = mpl.toolbar_items[toolbar_ind][3];\n",
       "\n",
       "        if (!name) {\n",
       "            // put a spacer in here.\n",
       "            continue;\n",
       "        }\n",
       "        var button = $('<button/>');\n",
       "        button.addClass('ui-button ui-widget ui-state-default ui-corner-all ' +\n",
       "                        'ui-button-icon-only');\n",
       "        button.attr('role', 'button');\n",
       "        button.attr('aria-disabled', 'false');\n",
       "        button.click(method_name, toolbar_event);\n",
       "        button.mouseover(tooltip, toolbar_mouse_event);\n",
       "\n",
       "        var icon_img = $('<span/>');\n",
       "        icon_img.addClass('ui-button-icon-primary ui-icon');\n",
       "        icon_img.addClass(image);\n",
       "        icon_img.addClass('ui-corner-all');\n",
       "\n",
       "        var tooltip_span = $('<span/>');\n",
       "        tooltip_span.addClass('ui-button-text');\n",
       "        tooltip_span.html(tooltip);\n",
       "\n",
       "        button.append(icon_img);\n",
       "        button.append(tooltip_span);\n",
       "\n",
       "        nav_element.append(button);\n",
       "    }\n",
       "\n",
       "    var fmt_picker_span = $('<span/>');\n",
       "\n",
       "    var fmt_picker = $('<select/>');\n",
       "    fmt_picker.addClass('mpl-toolbar-option ui-widget ui-widget-content');\n",
       "    fmt_picker_span.append(fmt_picker);\n",
       "    nav_element.append(fmt_picker_span);\n",
       "    this.format_dropdown = fmt_picker[0];\n",
       "\n",
       "    for (var ind in mpl.extensions) {\n",
       "        var fmt = mpl.extensions[ind];\n",
       "        var option = $(\n",
       "            '<option/>', {selected: fmt === mpl.default_extension}).html(fmt);\n",
       "        fmt_picker.append(option)\n",
       "    }\n",
       "\n",
       "    // Add hover states to the ui-buttons\n",
       "    $( \".ui-button\" ).hover(\n",
       "        function() { $(this).addClass(\"ui-state-hover\");},\n",
       "        function() { $(this).removeClass(\"ui-state-hover\");}\n",
       "    );\n",
       "\n",
       "    var status_bar = $('<span class=\"mpl-message\"/>');\n",
       "    nav_element.append(status_bar);\n",
       "    this.message = status_bar[0];\n",
       "}\n",
       "\n",
       "mpl.figure.prototype.request_resize = function(x_pixels, y_pixels) {\n",
       "    // Request matplotlib to resize the figure. Matplotlib will then trigger a resize in the client,\n",
       "    // which will in turn request a refresh of the image.\n",
       "    this.send_message('resize', {'width': x_pixels, 'height': y_pixels});\n",
       "}\n",
       "\n",
       "mpl.figure.prototype.send_message = function(type, properties) {\n",
       "    properties['type'] = type;\n",
       "    properties['figure_id'] = this.id;\n",
       "    this.ws.send(JSON.stringify(properties));\n",
       "}\n",
       "\n",
       "mpl.figure.prototype.send_draw_message = function() {\n",
       "    if (!this.waiting) {\n",
       "        this.waiting = true;\n",
       "        this.ws.send(JSON.stringify({type: \"draw\", figure_id: this.id}));\n",
       "    }\n",
       "}\n",
       "\n",
       "\n",
       "mpl.figure.prototype.handle_save = function(fig, msg) {\n",
       "    var format_dropdown = fig.format_dropdown;\n",
       "    var format = format_dropdown.options[format_dropdown.selectedIndex].value;\n",
       "    fig.ondownload(fig, format);\n",
       "}\n",
       "\n",
       "\n",
       "mpl.figure.prototype.handle_resize = function(fig, msg) {\n",
       "    var size = msg['size'];\n",
       "    if (size[0] != fig.canvas.width || size[1] != fig.canvas.height) {\n",
       "        fig._resize_canvas(size[0], size[1]);\n",
       "        fig.send_message(\"refresh\", {});\n",
       "    };\n",
       "}\n",
       "\n",
       "mpl.figure.prototype.handle_rubberband = function(fig, msg) {\n",
       "    var x0 = msg['x0'];\n",
       "    var y0 = fig.canvas.height - msg['y0'];\n",
       "    var x1 = msg['x1'];\n",
       "    var y1 = fig.canvas.height - msg['y1'];\n",
       "    x0 = Math.floor(x0) + 0.5;\n",
       "    y0 = Math.floor(y0) + 0.5;\n",
       "    x1 = Math.floor(x1) + 0.5;\n",
       "    y1 = Math.floor(y1) + 0.5;\n",
       "    var min_x = Math.min(x0, x1);\n",
       "    var min_y = Math.min(y0, y1);\n",
       "    var width = Math.abs(x1 - x0);\n",
       "    var height = Math.abs(y1 - y0);\n",
       "\n",
       "    fig.rubberband_context.clearRect(\n",
       "        0, 0, fig.canvas.width, fig.canvas.height);\n",
       "\n",
       "    fig.rubberband_context.strokeRect(min_x, min_y, width, height);\n",
       "}\n",
       "\n",
       "mpl.figure.prototype.handle_figure_label = function(fig, msg) {\n",
       "    // Updates the figure title.\n",
       "    fig.header.textContent = msg['label'];\n",
       "}\n",
       "\n",
       "mpl.figure.prototype.handle_cursor = function(fig, msg) {\n",
       "    var cursor = msg['cursor'];\n",
       "    switch(cursor)\n",
       "    {\n",
       "    case 0:\n",
       "        cursor = 'pointer';\n",
       "        break;\n",
       "    case 1:\n",
       "        cursor = 'default';\n",
       "        break;\n",
       "    case 2:\n",
       "        cursor = 'crosshair';\n",
       "        break;\n",
       "    case 3:\n",
       "        cursor = 'move';\n",
       "        break;\n",
       "    }\n",
       "    fig.rubberband_canvas.style.cursor = cursor;\n",
       "}\n",
       "\n",
       "mpl.figure.prototype.handle_message = function(fig, msg) {\n",
       "    fig.message.textContent = msg['message'];\n",
       "}\n",
       "\n",
       "mpl.figure.prototype.handle_draw = function(fig, msg) {\n",
       "    // Request the server to send over a new figure.\n",
       "    fig.send_draw_message();\n",
       "}\n",
       "\n",
       "mpl.figure.prototype.handle_image_mode = function(fig, msg) {\n",
       "    fig.image_mode = msg['mode'];\n",
       "}\n",
       "\n",
       "mpl.figure.prototype.updated_canvas_event = function() {\n",
       "    // Called whenever the canvas gets updated.\n",
       "    this.send_message(\"ack\", {});\n",
       "}\n",
       "\n",
       "// A function to construct a web socket function for onmessage handling.\n",
       "// Called in the figure constructor.\n",
       "mpl.figure.prototype._make_on_message_function = function(fig) {\n",
       "    return function socket_on_message(evt) {\n",
       "        if (evt.data instanceof Blob) {\n",
       "            /* FIXME: We get \"Resource interpreted as Image but\n",
       "             * transferred with MIME type text/plain:\" errors on\n",
       "             * Chrome.  But how to set the MIME type?  It doesn't seem\n",
       "             * to be part of the websocket stream */\n",
       "            evt.data.type = \"image/png\";\n",
       "\n",
       "            /* Free the memory for the previous frames */\n",
       "            if (fig.imageObj.src) {\n",
       "                (window.URL || window.webkitURL).revokeObjectURL(\n",
       "                    fig.imageObj.src);\n",
       "            }\n",
       "\n",
       "            fig.imageObj.src = (window.URL || window.webkitURL).createObjectURL(\n",
       "                evt.data);\n",
       "            fig.updated_canvas_event();\n",
       "            fig.waiting = false;\n",
       "            return;\n",
       "        }\n",
       "        else if (typeof evt.data === 'string' && evt.data.slice(0, 21) == \"data:image/png;base64\") {\n",
       "            fig.imageObj.src = evt.data;\n",
       "            fig.updated_canvas_event();\n",
       "            fig.waiting = false;\n",
       "            return;\n",
       "        }\n",
       "\n",
       "        var msg = JSON.parse(evt.data);\n",
       "        var msg_type = msg['type'];\n",
       "\n",
       "        // Call the  \"handle_{type}\" callback, which takes\n",
       "        // the figure and JSON message as its only arguments.\n",
       "        try {\n",
       "            var callback = fig[\"handle_\" + msg_type];\n",
       "        } catch (e) {\n",
       "            console.log(\"No handler for the '\" + msg_type + \"' message type: \", msg);\n",
       "            return;\n",
       "        }\n",
       "\n",
       "        if (callback) {\n",
       "            try {\n",
       "                // console.log(\"Handling '\" + msg_type + \"' message: \", msg);\n",
       "                callback(fig, msg);\n",
       "            } catch (e) {\n",
       "                console.log(\"Exception inside the 'handler_\" + msg_type + \"' callback:\", e, e.stack, msg);\n",
       "            }\n",
       "        }\n",
       "    };\n",
       "}\n",
       "\n",
       "// from http://stackoverflow.com/questions/1114465/getting-mouse-location-in-canvas\n",
       "mpl.findpos = function(e) {\n",
       "    //this section is from http://www.quirksmode.org/js/events_properties.html\n",
       "    var targ;\n",
       "    if (!e)\n",
       "        e = window.event;\n",
       "    if (e.target)\n",
       "        targ = e.target;\n",
       "    else if (e.srcElement)\n",
       "        targ = e.srcElement;\n",
       "    if (targ.nodeType == 3) // defeat Safari bug\n",
       "        targ = targ.parentNode;\n",
       "\n",
       "    // jQuery normalizes the pageX and pageY\n",
       "    // pageX,Y are the mouse positions relative to the document\n",
       "    // offset() returns the position of the element relative to the document\n",
       "    var x = e.pageX - $(targ).offset().left;\n",
       "    var y = e.pageY - $(targ).offset().top;\n",
       "\n",
       "    return {\"x\": x, \"y\": y};\n",
       "};\n",
       "\n",
       "/*\n",
       " * return a copy of an object with only non-object keys\n",
       " * we need this to avoid circular references\n",
       " * http://stackoverflow.com/a/24161582/3208463\n",
       " */\n",
       "function simpleKeys (original) {\n",
       "  return Object.keys(original).reduce(function (obj, key) {\n",
       "    if (typeof original[key] !== 'object')\n",
       "        obj[key] = original[key]\n",
       "    return obj;\n",
       "  }, {});\n",
       "}\n",
       "\n",
       "mpl.figure.prototype.mouse_event = function(event, name) {\n",
       "    var canvas_pos = mpl.findpos(event)\n",
       "\n",
       "    if (name === 'button_press')\n",
       "    {\n",
       "        this.canvas.focus();\n",
       "        this.canvas_div.focus();\n",
       "    }\n",
       "\n",
       "    var x = canvas_pos.x;\n",
       "    var y = canvas_pos.y;\n",
       "\n",
       "    this.send_message(name, {x: x, y: y, button: event.button,\n",
       "                             step: event.step,\n",
       "                             guiEvent: simpleKeys(event)});\n",
       "\n",
       "    /* This prevents the web browser from automatically changing to\n",
       "     * the text insertion cursor when the button is pressed.  We want\n",
       "     * to control all of the cursor setting manually through the\n",
       "     * 'cursor' event from matplotlib */\n",
       "    event.preventDefault();\n",
       "    return false;\n",
       "}\n",
       "\n",
       "mpl.figure.prototype._key_event_extra = function(event, name) {\n",
       "    // Handle any extra behaviour associated with a key event\n",
       "}\n",
       "\n",
       "mpl.figure.prototype.key_event = function(event, name) {\n",
       "\n",
       "    // Prevent repeat events\n",
       "    if (name == 'key_press')\n",
       "    {\n",
       "        if (event.which === this._key)\n",
       "            return;\n",
       "        else\n",
       "            this._key = event.which;\n",
       "    }\n",
       "    if (name == 'key_release')\n",
       "        this._key = null;\n",
       "\n",
       "    var value = '';\n",
       "    if (event.ctrlKey && event.which != 17)\n",
       "        value += \"ctrl+\";\n",
       "    if (event.altKey && event.which != 18)\n",
       "        value += \"alt+\";\n",
       "    if (event.shiftKey && event.which != 16)\n",
       "        value += \"shift+\";\n",
       "\n",
       "    value += 'k';\n",
       "    value += event.which.toString();\n",
       "\n",
       "    this._key_event_extra(event, name);\n",
       "\n",
       "    this.send_message(name, {key: value,\n",
       "                             guiEvent: simpleKeys(event)});\n",
       "    return false;\n",
       "}\n",
       "\n",
       "mpl.figure.prototype.toolbar_button_onclick = function(name) {\n",
       "    if (name == 'download') {\n",
       "        this.handle_save(this, null);\n",
       "    } else {\n",
       "        this.send_message(\"toolbar_button\", {name: name});\n",
       "    }\n",
       "};\n",
       "\n",
       "mpl.figure.prototype.toolbar_button_onmouseover = function(tooltip) {\n",
       "    this.message.textContent = tooltip;\n",
       "};\n",
       "mpl.toolbar_items = [[\"Home\", \"Reset original view\", \"fa fa-home icon-home\", \"home\"], [\"Back\", \"Back to  previous view\", \"fa fa-arrow-left icon-arrow-left\", \"back\"], [\"Forward\", \"Forward to next view\", \"fa fa-arrow-right icon-arrow-right\", \"forward\"], [\"\", \"\", \"\", \"\"], [\"Pan\", \"Pan axes with left mouse, zoom with right\", \"fa fa-arrows icon-move\", \"pan\"], [\"Zoom\", \"Zoom to rectangle\", \"fa fa-square-o icon-check-empty\", \"zoom\"], [\"\", \"\", \"\", \"\"], [\"Download\", \"Download plot\", \"fa fa-floppy-o icon-save\", \"download\"]];\n",
       "\n",
       "mpl.extensions = [\"eps\", \"pdf\", \"png\", \"ps\", \"raw\", \"svg\"];\n",
       "\n",
       "mpl.default_extension = \"png\";var comm_websocket_adapter = function(comm) {\n",
       "    // Create a \"websocket\"-like object which calls the given IPython comm\n",
       "    // object with the appropriate methods. Currently this is a non binary\n",
       "    // socket, so there is still some room for performance tuning.\n",
       "    var ws = {};\n",
       "\n",
       "    ws.close = function() {\n",
       "        comm.close()\n",
       "    };\n",
       "    ws.send = function(m) {\n",
       "        //console.log('sending', m);\n",
       "        comm.send(m);\n",
       "    };\n",
       "    // Register the callback with on_msg.\n",
       "    comm.on_msg(function(msg) {\n",
       "        //console.log('receiving', msg['content']['data'], msg);\n",
       "        // Pass the mpl event to the overriden (by mpl) onmessage function.\n",
       "        ws.onmessage(msg['content']['data'])\n",
       "    });\n",
       "    return ws;\n",
       "}\n",
       "\n",
       "mpl.mpl_figure_comm = function(comm, msg) {\n",
       "    // This is the function which gets called when the mpl process\n",
       "    // starts-up an IPython Comm through the \"matplotlib\" channel.\n",
       "\n",
       "    var id = msg.content.data.id;\n",
       "    // Get hold of the div created by the display call when the Comm\n",
       "    // socket was opened in Python.\n",
       "    var element = $(\"#\" + id);\n",
       "    var ws_proxy = comm_websocket_adapter(comm)\n",
       "\n",
       "    function ondownload(figure, format) {\n",
       "        window.open(figure.imageObj.src);\n",
       "    }\n",
       "\n",
       "    var fig = new mpl.figure(id, ws_proxy,\n",
       "                           ondownload,\n",
       "                           element.get(0));\n",
       "\n",
       "    // Call onopen now - mpl needs it, as it is assuming we've passed it a real\n",
       "    // web socket which is closed, not our websocket->open comm proxy.\n",
       "    ws_proxy.onopen();\n",
       "\n",
       "    fig.parent_element = element.get(0);\n",
       "    fig.cell_info = mpl.find_output_cell(\"<div id='\" + id + \"'></div>\");\n",
       "    if (!fig.cell_info) {\n",
       "        console.error(\"Failed to find cell for figure\", id, fig);\n",
       "        return;\n",
       "    }\n",
       "\n",
       "    var output_index = fig.cell_info[2]\n",
       "    var cell = fig.cell_info[0];\n",
       "\n",
       "};\n",
       "\n",
       "mpl.figure.prototype.handle_close = function(fig, msg) {\n",
       "    fig.root.unbind('remove')\n",
       "\n",
       "    // Update the output cell to use the data from the current canvas.\n",
       "    fig.push_to_output();\n",
       "    var dataURL = fig.canvas.toDataURL();\n",
       "    // Re-enable the keyboard manager in IPython - without this line, in FF,\n",
       "    // the notebook keyboard shortcuts fail.\n",
       "    IPython.keyboard_manager.enable()\n",
       "    $(fig.parent_element).html('<img src=\"' + dataURL + '\">');\n",
       "    fig.close_ws(fig, msg);\n",
       "}\n",
       "\n",
       "mpl.figure.prototype.close_ws = function(fig, msg){\n",
       "    fig.send_message('closing', msg);\n",
       "    // fig.ws.close()\n",
       "}\n",
       "\n",
       "mpl.figure.prototype.push_to_output = function(remove_interactive) {\n",
       "    // Turn the data on the canvas into data in the output cell.\n",
       "    var dataURL = this.canvas.toDataURL();\n",
       "    this.cell_info[1]['text/html'] = '<img src=\"' + dataURL + '\">';\n",
       "}\n",
       "\n",
       "mpl.figure.prototype.updated_canvas_event = function() {\n",
       "    // Tell IPython that the notebook contents must change.\n",
       "    IPython.notebook.set_dirty(true);\n",
       "    this.send_message(\"ack\", {});\n",
       "    var fig = this;\n",
       "    // Wait a second, then push the new image to the DOM so\n",
       "    // that it is saved nicely (might be nice to debounce this).\n",
       "    setTimeout(function () { fig.push_to_output() }, 1000);\n",
       "}\n",
       "\n",
       "mpl.figure.prototype._init_toolbar = function() {\n",
       "    var fig = this;\n",
       "\n",
       "    var nav_element = $('<div/>')\n",
       "    nav_element.attr('style', 'width: 100%');\n",
       "    this.root.append(nav_element);\n",
       "\n",
       "    // Define a callback function for later on.\n",
       "    function toolbar_event(event) {\n",
       "        return fig.toolbar_button_onclick(event['data']);\n",
       "    }\n",
       "    function toolbar_mouse_event(event) {\n",
       "        return fig.toolbar_button_onmouseover(event['data']);\n",
       "    }\n",
       "\n",
       "    for(var toolbar_ind in mpl.toolbar_items){\n",
       "        var name = mpl.toolbar_items[toolbar_ind][0];\n",
       "        var tooltip = mpl.toolbar_items[toolbar_ind][1];\n",
       "        var image = mpl.toolbar_items[toolbar_ind][2];\n",
       "        var method_name = mpl.toolbar_items[toolbar_ind][3];\n",
       "\n",
       "        if (!name) { continue; };\n",
       "\n",
       "        var button = $('<button class=\"btn btn-default\" href=\"#\" title=\"' + name + '\"><i class=\"fa ' + image + ' fa-lg\"></i></button>');\n",
       "        button.click(method_name, toolbar_event);\n",
       "        button.mouseover(tooltip, toolbar_mouse_event);\n",
       "        nav_element.append(button);\n",
       "    }\n",
       "\n",
       "    // Add the status bar.\n",
       "    var status_bar = $('<span class=\"mpl-message\" style=\"text-align:right; float: right;\"/>');\n",
       "    nav_element.append(status_bar);\n",
       "    this.message = status_bar[0];\n",
       "\n",
       "    // Add the close button to the window.\n",
       "    var buttongrp = $('<div class=\"btn-group inline pull-right\"></div>');\n",
       "    var button = $('<button class=\"btn btn-mini btn-primary\" href=\"#\" title=\"Stop Interaction\"><i class=\"fa fa-power-off icon-remove icon-large\"></i></button>');\n",
       "    button.click(function (evt) { fig.handle_close(fig, {}); } );\n",
       "    button.mouseover('Stop Interaction', toolbar_mouse_event);\n",
       "    buttongrp.append(button);\n",
       "    var titlebar = this.root.find($('.ui-dialog-titlebar'));\n",
       "    titlebar.prepend(buttongrp);\n",
       "}\n",
       "\n",
       "mpl.figure.prototype._root_extra_style = function(el){\n",
       "    var fig = this\n",
       "    el.on(\"remove\", function(){\n",
       "\tfig.close_ws(fig, {});\n",
       "    });\n",
       "}\n",
       "\n",
       "mpl.figure.prototype._canvas_extra_style = function(el){\n",
       "    // this is important to make the div 'focusable\n",
       "    el.attr('tabindex', 0)\n",
       "    // reach out to IPython and tell the keyboard manager to turn it's self\n",
       "    // off when our div gets focus\n",
       "\n",
       "    // location in version 3\n",
       "    if (IPython.notebook.keyboard_manager) {\n",
       "        IPython.notebook.keyboard_manager.register_events(el);\n",
       "    }\n",
       "    else {\n",
       "        // location in version 2\n",
       "        IPython.keyboard_manager.register_events(el);\n",
       "    }\n",
       "\n",
       "}\n",
       "\n",
       "mpl.figure.prototype._key_event_extra = function(event, name) {\n",
       "    var manager = IPython.notebook.keyboard_manager;\n",
       "    if (!manager)\n",
       "        manager = IPython.keyboard_manager;\n",
       "\n",
       "    // Check for shift+enter\n",
       "    if (event.shiftKey && event.which == 13) {\n",
       "        this.canvas_div.blur();\n",
       "        event.shiftKey = false;\n",
       "        // Send a \"J\" for go to next cell\n",
       "        event.which = 74;\n",
       "        event.keyCode = 74;\n",
       "        manager.command_mode();\n",
       "        manager.handle_keydown(event);\n",
       "    }\n",
       "}\n",
       "\n",
       "mpl.figure.prototype.handle_save = function(fig, msg) {\n",
       "    fig.ondownload(fig, null);\n",
       "}\n",
       "\n",
       "\n",
       "mpl.find_output_cell = function(html_output) {\n",
       "    // Return the cell and output element which can be found *uniquely* in the notebook.\n",
       "    // Note - this is a bit hacky, but it is done because the \"notebook_saving.Notebook\"\n",
       "    // IPython event is triggered only after the cells have been serialised, which for\n",
       "    // our purposes (turning an active figure into a static one), is too late.\n",
       "    var cells = IPython.notebook.get_cells();\n",
       "    var ncells = cells.length;\n",
       "    for (var i=0; i<ncells; i++) {\n",
       "        var cell = cells[i];\n",
       "        if (cell.cell_type === 'code'){\n",
       "            for (var j=0; j<cell.output_area.outputs.length; j++) {\n",
       "                var data = cell.output_area.outputs[j];\n",
       "                if (data.data) {\n",
       "                    // IPython >= 3 moved mimebundle to data attribute of output\n",
       "                    data = data.data;\n",
       "                }\n",
       "                if (data['text/html'] == html_output) {\n",
       "                    return [cell, data, j];\n",
       "                }\n",
       "            }\n",
       "        }\n",
       "    }\n",
       "}\n",
       "\n",
       "// Register the function which deals with the matplotlib target/channel.\n",
       "// The kernel may be null if the page has been refreshed.\n",
       "if (IPython.notebook.kernel != null) {\n",
       "    IPython.notebook.kernel.comm_manager.register_target('matplotlib', mpl.mpl_figure_comm);\n",
       "}\n"
      ],
      "text/plain": [
       "<IPython.core.display.Javascript object>"
      ]
     },
     "metadata": {},
     "output_type": "display_data"
    },
    {
     "data": {
      "text/html": [
       "<img src=\"data:image/png;base64,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\">"
      ],
      "text/plain": [
       "<IPython.core.display.HTML object>"
      ]
     },
     "metadata": {},
     "output_type": "display_data"
    },
    {
     "data": {
      "text/plain": [
       "(-5.0, 5.0)"
      ]
     },
     "execution_count": 86,
     "metadata": {},
     "output_type": "execute_result"
    }
   ],
   "source": [
    "plt.figure()\n",
    "plt.plot(u[:,0], u[:,1], '.')\n",
    "plt.xlim(-.35, .1)\n",
    "plt.ylim(-5., 5.)"
   ]
  },
  {
   "cell_type": "code",
   "execution_count": 87,
   "metadata": {
    "collapsed": false
   },
   "outputs": [
    {
     "data": {
      "application/javascript": [
       "/* Put everything inside the global mpl namespace */\n",
       "window.mpl = {};\n",
       "\n",
       "mpl.get_websocket_type = function() {\n",
       "    if (typeof(WebSocket) !== 'undefined') {\n",
       "        return WebSocket;\n",
       "    } else if (typeof(MozWebSocket) !== 'undefined') {\n",
       "        return MozWebSocket;\n",
       "    } else {\n",
       "        alert('Your browser does not have WebSocket support.' +\n",
       "              'Please try Chrome, Safari or Firefox ≥ 6. ' +\n",
       "              'Firefox 4 and 5 are also supported but you ' +\n",
       "              'have to enable WebSockets in about:config.');\n",
       "    };\n",
       "}\n",
       "\n",
       "mpl.figure = function(figure_id, websocket, ondownload, parent_element) {\n",
       "    this.id = figure_id;\n",
       "\n",
       "    this.ws = websocket;\n",
       "\n",
       "    this.supports_binary = (this.ws.binaryType != undefined);\n",
       "\n",
       "    if (!this.supports_binary) {\n",
       "        var warnings = document.getElementById(\"mpl-warnings\");\n",
       "        if (warnings) {\n",
       "            warnings.style.display = 'block';\n",
       "            warnings.textContent = (\n",
       "                \"This browser does not support binary websocket messages. \" +\n",
       "                    \"Performance may be slow.\");\n",
       "        }\n",
       "    }\n",
       "\n",
       "    this.imageObj = new Image();\n",
       "\n",
       "    this.context = undefined;\n",
       "    this.message = undefined;\n",
       "    this.canvas = undefined;\n",
       "    this.rubberband_canvas = undefined;\n",
       "    this.rubberband_context = undefined;\n",
       "    this.format_dropdown = undefined;\n",
       "\n",
       "    this.image_mode = 'full';\n",
       "\n",
       "    this.root = $('<div/>');\n",
       "    this._root_extra_style(this.root)\n",
       "    this.root.attr('style', 'display: inline-block');\n",
       "\n",
       "    $(parent_element).append(this.root);\n",
       "\n",
       "    this._init_header(this);\n",
       "    this._init_canvas(this);\n",
       "    this._init_toolbar(this);\n",
       "\n",
       "    var fig = this;\n",
       "\n",
       "    this.waiting = false;\n",
       "\n",
       "    this.ws.onopen =  function () {\n",
       "            fig.send_message(\"supports_binary\", {value: fig.supports_binary});\n",
       "            fig.send_message(\"send_image_mode\", {});\n",
       "            fig.send_message(\"refresh\", {});\n",
       "        }\n",
       "\n",
       "    this.imageObj.onload = function() {\n",
       "            if (fig.image_mode == 'full') {\n",
       "                // Full images could contain transparency (where diff images\n",
       "                // almost always do), so we need to clear the canvas so that\n",
       "                // there is no ghosting.\n",
       "                fig.context.clearRect(0, 0, fig.canvas.width, fig.canvas.height);\n",
       "            }\n",
       "            fig.context.drawImage(fig.imageObj, 0, 0);\n",
       "        };\n",
       "\n",
       "    this.imageObj.onunload = function() {\n",
       "        this.ws.close();\n",
       "    }\n",
       "\n",
       "    this.ws.onmessage = this._make_on_message_function(this);\n",
       "\n",
       "    this.ondownload = ondownload;\n",
       "}\n",
       "\n",
       "mpl.figure.prototype._init_header = function() {\n",
       "    var titlebar = $(\n",
       "        '<div class=\"ui-dialog-titlebar ui-widget-header ui-corner-all ' +\n",
       "        'ui-helper-clearfix\"/>');\n",
       "    var titletext = $(\n",
       "        '<div class=\"ui-dialog-title\" style=\"width: 100%; ' +\n",
       "        'text-align: center; padding: 3px;\"/>');\n",
       "    titlebar.append(titletext)\n",
       "    this.root.append(titlebar);\n",
       "    this.header = titletext[0];\n",
       "}\n",
       "\n",
       "\n",
       "\n",
       "mpl.figure.prototype._canvas_extra_style = function(canvas_div) {\n",
       "\n",
       "}\n",
       "\n",
       "\n",
       "mpl.figure.prototype._root_extra_style = function(canvas_div) {\n",
       "\n",
       "}\n",
       "\n",
       "mpl.figure.prototype._init_canvas = function() {\n",
       "    var fig = this;\n",
       "\n",
       "    var canvas_div = $('<div/>');\n",
       "\n",
       "    canvas_div.attr('style', 'position: relative; clear: both; outline: 0');\n",
       "\n",
       "    function canvas_keyboard_event(event) {\n",
       "        return fig.key_event(event, event['data']);\n",
       "    }\n",
       "\n",
       "    canvas_div.keydown('key_press', canvas_keyboard_event);\n",
       "    canvas_div.keyup('key_release', canvas_keyboard_event);\n",
       "    this.canvas_div = canvas_div\n",
       "    this._canvas_extra_style(canvas_div)\n",
       "    this.root.append(canvas_div);\n",
       "\n",
       "    var canvas = $('<canvas/>');\n",
       "    canvas.addClass('mpl-canvas');\n",
       "    canvas.attr('style', \"left: 0; top: 0; z-index: 0; outline: 0\")\n",
       "\n",
       "    this.canvas = canvas[0];\n",
       "    this.context = canvas[0].getContext(\"2d\");\n",
       "\n",
       "    var rubberband = $('<canvas/>');\n",
       "    rubberband.attr('style', \"position: absolute; left: 0; top: 0; z-index: 1;\")\n",
       "\n",
       "    var pass_mouse_events = true;\n",
       "\n",
       "    canvas_div.resizable({\n",
       "        start: function(event, ui) {\n",
       "            pass_mouse_events = false;\n",
       "        },\n",
       "        resize: function(event, ui) {\n",
       "            fig.request_resize(ui.size.width, ui.size.height);\n",
       "        },\n",
       "        stop: function(event, ui) {\n",
       "            pass_mouse_events = true;\n",
       "            fig.request_resize(ui.size.width, ui.size.height);\n",
       "        },\n",
       "    });\n",
       "\n",
       "    function mouse_event_fn(event) {\n",
       "        if (pass_mouse_events)\n",
       "            return fig.mouse_event(event, event['data']);\n",
       "    }\n",
       "\n",
       "    rubberband.mousedown('button_press', mouse_event_fn);\n",
       "    rubberband.mouseup('button_release', mouse_event_fn);\n",
       "    // Throttle sequential mouse events to 1 every 20ms.\n",
       "    rubberband.mousemove('motion_notify', mouse_event_fn);\n",
       "\n",
       "    rubberband.mouseenter('figure_enter', mouse_event_fn);\n",
       "    rubberband.mouseleave('figure_leave', mouse_event_fn);\n",
       "\n",
       "    canvas_div.on(\"wheel\", function (event) {\n",
       "        event = event.originalEvent;\n",
       "        event['data'] = 'scroll'\n",
       "        if (event.deltaY < 0) {\n",
       "            event.step = 1;\n",
       "        } else {\n",
       "            event.step = -1;\n",
       "        }\n",
       "        mouse_event_fn(event);\n",
       "    });\n",
       "\n",
       "    canvas_div.append(canvas);\n",
       "    canvas_div.append(rubberband);\n",
       "\n",
       "    this.rubberband = rubberband;\n",
       "    this.rubberband_canvas = rubberband[0];\n",
       "    this.rubberband_context = rubberband[0].getContext(\"2d\");\n",
       "    this.rubberband_context.strokeStyle = \"#000000\";\n",
       "\n",
       "    this._resize_canvas = function(width, height) {\n",
       "        // Keep the size of the canvas, canvas container, and rubber band\n",
       "        // canvas in synch.\n",
       "        canvas_div.css('width', width)\n",
       "        canvas_div.css('height', height)\n",
       "\n",
       "        canvas.attr('width', width);\n",
       "        canvas.attr('height', height);\n",
       "\n",
       "        rubberband.attr('width', width);\n",
       "        rubberband.attr('height', height);\n",
       "    }\n",
       "\n",
       "    // Set the figure to an initial 600x600px, this will subsequently be updated\n",
       "    // upon first draw.\n",
       "    this._resize_canvas(600, 600);\n",
       "\n",
       "    // Disable right mouse context menu.\n",
       "    $(this.rubberband_canvas).bind(\"contextmenu\",function(e){\n",
       "        return false;\n",
       "    });\n",
       "\n",
       "    function set_focus () {\n",
       "        canvas.focus();\n",
       "        canvas_div.focus();\n",
       "    }\n",
       "\n",
       "    window.setTimeout(set_focus, 100);\n",
       "}\n",
       "\n",
       "mpl.figure.prototype._init_toolbar = function() {\n",
       "    var fig = this;\n",
       "\n",
       "    var nav_element = $('<div/>')\n",
       "    nav_element.attr('style', 'width: 100%');\n",
       "    this.root.append(nav_element);\n",
       "\n",
       "    // Define a callback function for later on.\n",
       "    function toolbar_event(event) {\n",
       "        return fig.toolbar_button_onclick(event['data']);\n",
       "    }\n",
       "    function toolbar_mouse_event(event) {\n",
       "        return fig.toolbar_button_onmouseover(event['data']);\n",
       "    }\n",
       "\n",
       "    for(var toolbar_ind in mpl.toolbar_items) {\n",
       "        var name = mpl.toolbar_items[toolbar_ind][0];\n",
       "        var tooltip = mpl.toolbar_items[toolbar_ind][1];\n",
       "        var image = mpl.toolbar_items[toolbar_ind][2];\n",
       "        var method_name = mpl.toolbar_items[toolbar_ind][3];\n",
       "\n",
       "        if (!name) {\n",
       "            // put a spacer in here.\n",
       "            continue;\n",
       "        }\n",
       "        var button = $('<button/>');\n",
       "        button.addClass('ui-button ui-widget ui-state-default ui-corner-all ' +\n",
       "                        'ui-button-icon-only');\n",
       "        button.attr('role', 'button');\n",
       "        button.attr('aria-disabled', 'false');\n",
       "        button.click(method_name, toolbar_event);\n",
       "        button.mouseover(tooltip, toolbar_mouse_event);\n",
       "\n",
       "        var icon_img = $('<span/>');\n",
       "        icon_img.addClass('ui-button-icon-primary ui-icon');\n",
       "        icon_img.addClass(image);\n",
       "        icon_img.addClass('ui-corner-all');\n",
       "\n",
       "        var tooltip_span = $('<span/>');\n",
       "        tooltip_span.addClass('ui-button-text');\n",
       "        tooltip_span.html(tooltip);\n",
       "\n",
       "        button.append(icon_img);\n",
       "        button.append(tooltip_span);\n",
       "\n",
       "        nav_element.append(button);\n",
       "    }\n",
       "\n",
       "    var fmt_picker_span = $('<span/>');\n",
       "\n",
       "    var fmt_picker = $('<select/>');\n",
       "    fmt_picker.addClass('mpl-toolbar-option ui-widget ui-widget-content');\n",
       "    fmt_picker_span.append(fmt_picker);\n",
       "    nav_element.append(fmt_picker_span);\n",
       "    this.format_dropdown = fmt_picker[0];\n",
       "\n",
       "    for (var ind in mpl.extensions) {\n",
       "        var fmt = mpl.extensions[ind];\n",
       "        var option = $(\n",
       "            '<option/>', {selected: fmt === mpl.default_extension}).html(fmt);\n",
       "        fmt_picker.append(option)\n",
       "    }\n",
       "\n",
       "    // Add hover states to the ui-buttons\n",
       "    $( \".ui-button\" ).hover(\n",
       "        function() { $(this).addClass(\"ui-state-hover\");},\n",
       "        function() { $(this).removeClass(\"ui-state-hover\");}\n",
       "    );\n",
       "\n",
       "    var status_bar = $('<span class=\"mpl-message\"/>');\n",
       "    nav_element.append(status_bar);\n",
       "    this.message = status_bar[0];\n",
       "}\n",
       "\n",
       "mpl.figure.prototype.request_resize = function(x_pixels, y_pixels) {\n",
       "    // Request matplotlib to resize the figure. Matplotlib will then trigger a resize in the client,\n",
       "    // which will in turn request a refresh of the image.\n",
       "    this.send_message('resize', {'width': x_pixels, 'height': y_pixels});\n",
       "}\n",
       "\n",
       "mpl.figure.prototype.send_message = function(type, properties) {\n",
       "    properties['type'] = type;\n",
       "    properties['figure_id'] = this.id;\n",
       "    this.ws.send(JSON.stringify(properties));\n",
       "}\n",
       "\n",
       "mpl.figure.prototype.send_draw_message = function() {\n",
       "    if (!this.waiting) {\n",
       "        this.waiting = true;\n",
       "        this.ws.send(JSON.stringify({type: \"draw\", figure_id: this.id}));\n",
       "    }\n",
       "}\n",
       "\n",
       "\n",
       "mpl.figure.prototype.handle_save = function(fig, msg) {\n",
       "    var format_dropdown = fig.format_dropdown;\n",
       "    var format = format_dropdown.options[format_dropdown.selectedIndex].value;\n",
       "    fig.ondownload(fig, format);\n",
       "}\n",
       "\n",
       "\n",
       "mpl.figure.prototype.handle_resize = function(fig, msg) {\n",
       "    var size = msg['size'];\n",
       "    if (size[0] != fig.canvas.width || size[1] != fig.canvas.height) {\n",
       "        fig._resize_canvas(size[0], size[1]);\n",
       "        fig.send_message(\"refresh\", {});\n",
       "    };\n",
       "}\n",
       "\n",
       "mpl.figure.prototype.handle_rubberband = function(fig, msg) {\n",
       "    var x0 = msg['x0'];\n",
       "    var y0 = fig.canvas.height - msg['y0'];\n",
       "    var x1 = msg['x1'];\n",
       "    var y1 = fig.canvas.height - msg['y1'];\n",
       "    x0 = Math.floor(x0) + 0.5;\n",
       "    y0 = Math.floor(y0) + 0.5;\n",
       "    x1 = Math.floor(x1) + 0.5;\n",
       "    y1 = Math.floor(y1) + 0.5;\n",
       "    var min_x = Math.min(x0, x1);\n",
       "    var min_y = Math.min(y0, y1);\n",
       "    var width = Math.abs(x1 - x0);\n",
       "    var height = Math.abs(y1 - y0);\n",
       "\n",
       "    fig.rubberband_context.clearRect(\n",
       "        0, 0, fig.canvas.width, fig.canvas.height);\n",
       "\n",
       "    fig.rubberband_context.strokeRect(min_x, min_y, width, height);\n",
       "}\n",
       "\n",
       "mpl.figure.prototype.handle_figure_label = function(fig, msg) {\n",
       "    // Updates the figure title.\n",
       "    fig.header.textContent = msg['label'];\n",
       "}\n",
       "\n",
       "mpl.figure.prototype.handle_cursor = function(fig, msg) {\n",
       "    var cursor = msg['cursor'];\n",
       "    switch(cursor)\n",
       "    {\n",
       "    case 0:\n",
       "        cursor = 'pointer';\n",
       "        break;\n",
       "    case 1:\n",
       "        cursor = 'default';\n",
       "        break;\n",
       "    case 2:\n",
       "        cursor = 'crosshair';\n",
       "        break;\n",
       "    case 3:\n",
       "        cursor = 'move';\n",
       "        break;\n",
       "    }\n",
       "    fig.rubberband_canvas.style.cursor = cursor;\n",
       "}\n",
       "\n",
       "mpl.figure.prototype.handle_message = function(fig, msg) {\n",
       "    fig.message.textContent = msg['message'];\n",
       "}\n",
       "\n",
       "mpl.figure.prototype.handle_draw = function(fig, msg) {\n",
       "    // Request the server to send over a new figure.\n",
       "    fig.send_draw_message();\n",
       "}\n",
       "\n",
       "mpl.figure.prototype.handle_image_mode = function(fig, msg) {\n",
       "    fig.image_mode = msg['mode'];\n",
       "}\n",
       "\n",
       "mpl.figure.prototype.updated_canvas_event = function() {\n",
       "    // Called whenever the canvas gets updated.\n",
       "    this.send_message(\"ack\", {});\n",
       "}\n",
       "\n",
       "// A function to construct a web socket function for onmessage handling.\n",
       "// Called in the figure constructor.\n",
       "mpl.figure.prototype._make_on_message_function = function(fig) {\n",
       "    return function socket_on_message(evt) {\n",
       "        if (evt.data instanceof Blob) {\n",
       "            /* FIXME: We get \"Resource interpreted as Image but\n",
       "             * transferred with MIME type text/plain:\" errors on\n",
       "             * Chrome.  But how to set the MIME type?  It doesn't seem\n",
       "             * to be part of the websocket stream */\n",
       "            evt.data.type = \"image/png\";\n",
       "\n",
       "            /* Free the memory for the previous frames */\n",
       "            if (fig.imageObj.src) {\n",
       "                (window.URL || window.webkitURL).revokeObjectURL(\n",
       "                    fig.imageObj.src);\n",
       "            }\n",
       "\n",
       "            fig.imageObj.src = (window.URL || window.webkitURL).createObjectURL(\n",
       "                evt.data);\n",
       "            fig.updated_canvas_event();\n",
       "            fig.waiting = false;\n",
       "            return;\n",
       "        }\n",
       "        else if (typeof evt.data === 'string' && evt.data.slice(0, 21) == \"data:image/png;base64\") {\n",
       "            fig.imageObj.src = evt.data;\n",
       "            fig.updated_canvas_event();\n",
       "            fig.waiting = false;\n",
       "            return;\n",
       "        }\n",
       "\n",
       "        var msg = JSON.parse(evt.data);\n",
       "        var msg_type = msg['type'];\n",
       "\n",
       "        // Call the  \"handle_{type}\" callback, which takes\n",
       "        // the figure and JSON message as its only arguments.\n",
       "        try {\n",
       "            var callback = fig[\"handle_\" + msg_type];\n",
       "        } catch (e) {\n",
       "            console.log(\"No handler for the '\" + msg_type + \"' message type: \", msg);\n",
       "            return;\n",
       "        }\n",
       "\n",
       "        if (callback) {\n",
       "            try {\n",
       "                // console.log(\"Handling '\" + msg_type + \"' message: \", msg);\n",
       "                callback(fig, msg);\n",
       "            } catch (e) {\n",
       "                console.log(\"Exception inside the 'handler_\" + msg_type + \"' callback:\", e, e.stack, msg);\n",
       "            }\n",
       "        }\n",
       "    };\n",
       "}\n",
       "\n",
       "// from http://stackoverflow.com/questions/1114465/getting-mouse-location-in-canvas\n",
       "mpl.findpos = function(e) {\n",
       "    //this section is from http://www.quirksmode.org/js/events_properties.html\n",
       "    var targ;\n",
       "    if (!e)\n",
       "        e = window.event;\n",
       "    if (e.target)\n",
       "        targ = e.target;\n",
       "    else if (e.srcElement)\n",
       "        targ = e.srcElement;\n",
       "    if (targ.nodeType == 3) // defeat Safari bug\n",
       "        targ = targ.parentNode;\n",
       "\n",
       "    // jQuery normalizes the pageX and pageY\n",
       "    // pageX,Y are the mouse positions relative to the document\n",
       "    // offset() returns the position of the element relative to the document\n",
       "    var x = e.pageX - $(targ).offset().left;\n",
       "    var y = e.pageY - $(targ).offset().top;\n",
       "\n",
       "    return {\"x\": x, \"y\": y};\n",
       "};\n",
       "\n",
       "/*\n",
       " * return a copy of an object with only non-object keys\n",
       " * we need this to avoid circular references\n",
       " * http://stackoverflow.com/a/24161582/3208463\n",
       " */\n",
       "function simpleKeys (original) {\n",
       "  return Object.keys(original).reduce(function (obj, key) {\n",
       "    if (typeof original[key] !== 'object')\n",
       "        obj[key] = original[key]\n",
       "    return obj;\n",
       "  }, {});\n",
       "}\n",
       "\n",
       "mpl.figure.prototype.mouse_event = function(event, name) {\n",
       "    var canvas_pos = mpl.findpos(event)\n",
       "\n",
       "    if (name === 'button_press')\n",
       "    {\n",
       "        this.canvas.focus();\n",
       "        this.canvas_div.focus();\n",
       "    }\n",
       "\n",
       "    var x = canvas_pos.x;\n",
       "    var y = canvas_pos.y;\n",
       "\n",
       "    this.send_message(name, {x: x, y: y, button: event.button,\n",
       "                             step: event.step,\n",
       "                             guiEvent: simpleKeys(event)});\n",
       "\n",
       "    /* This prevents the web browser from automatically changing to\n",
       "     * the text insertion cursor when the button is pressed.  We want\n",
       "     * to control all of the cursor setting manually through the\n",
       "     * 'cursor' event from matplotlib */\n",
       "    event.preventDefault();\n",
       "    return false;\n",
       "}\n",
       "\n",
       "mpl.figure.prototype._key_event_extra = function(event, name) {\n",
       "    // Handle any extra behaviour associated with a key event\n",
       "}\n",
       "\n",
       "mpl.figure.prototype.key_event = function(event, name) {\n",
       "\n",
       "    // Prevent repeat events\n",
       "    if (name == 'key_press')\n",
       "    {\n",
       "        if (event.which === this._key)\n",
       "            return;\n",
       "        else\n",
       "            this._key = event.which;\n",
       "    }\n",
       "    if (name == 'key_release')\n",
       "        this._key = null;\n",
       "\n",
       "    var value = '';\n",
       "    if (event.ctrlKey && event.which != 17)\n",
       "        value += \"ctrl+\";\n",
       "    if (event.altKey && event.which != 18)\n",
       "        value += \"alt+\";\n",
       "    if (event.shiftKey && event.which != 16)\n",
       "        value += \"shift+\";\n",
       "\n",
       "    value += 'k';\n",
       "    value += event.which.toString();\n",
       "\n",
       "    this._key_event_extra(event, name);\n",
       "\n",
       "    this.send_message(name, {key: value,\n",
       "                             guiEvent: simpleKeys(event)});\n",
       "    return false;\n",
       "}\n",
       "\n",
       "mpl.figure.prototype.toolbar_button_onclick = function(name) {\n",
       "    if (name == 'download') {\n",
       "        this.handle_save(this, null);\n",
       "    } else {\n",
       "        this.send_message(\"toolbar_button\", {name: name});\n",
       "    }\n",
       "};\n",
       "\n",
       "mpl.figure.prototype.toolbar_button_onmouseover = function(tooltip) {\n",
       "    this.message.textContent = tooltip;\n",
       "};\n",
       "mpl.toolbar_items = [[\"Home\", \"Reset original view\", \"fa fa-home icon-home\", \"home\"], [\"Back\", \"Back to  previous view\", \"fa fa-arrow-left icon-arrow-left\", \"back\"], [\"Forward\", \"Forward to next view\", \"fa fa-arrow-right icon-arrow-right\", \"forward\"], [\"\", \"\", \"\", \"\"], [\"Pan\", \"Pan axes with left mouse, zoom with right\", \"fa fa-arrows icon-move\", \"pan\"], [\"Zoom\", \"Zoom to rectangle\", \"fa fa-square-o icon-check-empty\", \"zoom\"], [\"\", \"\", \"\", \"\"], [\"Download\", \"Download plot\", \"fa fa-floppy-o icon-save\", \"download\"]];\n",
       "\n",
       "mpl.extensions = [\"eps\", \"pdf\", \"png\", \"ps\", \"raw\", \"svg\"];\n",
       "\n",
       "mpl.default_extension = \"png\";var comm_websocket_adapter = function(comm) {\n",
       "    // Create a \"websocket\"-like object which calls the given IPython comm\n",
       "    // object with the appropriate methods. Currently this is a non binary\n",
       "    // socket, so there is still some room for performance tuning.\n",
       "    var ws = {};\n",
       "\n",
       "    ws.close = function() {\n",
       "        comm.close()\n",
       "    };\n",
       "    ws.send = function(m) {\n",
       "        //console.log('sending', m);\n",
       "        comm.send(m);\n",
       "    };\n",
       "    // Register the callback with on_msg.\n",
       "    comm.on_msg(function(msg) {\n",
       "        //console.log('receiving', msg['content']['data'], msg);\n",
       "        // Pass the mpl event to the overriden (by mpl) onmessage function.\n",
       "        ws.onmessage(msg['content']['data'])\n",
       "    });\n",
       "    return ws;\n",
       "}\n",
       "\n",
       "mpl.mpl_figure_comm = function(comm, msg) {\n",
       "    // This is the function which gets called when the mpl process\n",
       "    // starts-up an IPython Comm through the \"matplotlib\" channel.\n",
       "\n",
       "    var id = msg.content.data.id;\n",
       "    // Get hold of the div created by the display call when the Comm\n",
       "    // socket was opened in Python.\n",
       "    var element = $(\"#\" + id);\n",
       "    var ws_proxy = comm_websocket_adapter(comm)\n",
       "\n",
       "    function ondownload(figure, format) {\n",
       "        window.open(figure.imageObj.src);\n",
       "    }\n",
       "\n",
       "    var fig = new mpl.figure(id, ws_proxy,\n",
       "                           ondownload,\n",
       "                           element.get(0));\n",
       "\n",
       "    // Call onopen now - mpl needs it, as it is assuming we've passed it a real\n",
       "    // web socket which is closed, not our websocket->open comm proxy.\n",
       "    ws_proxy.onopen();\n",
       "\n",
       "    fig.parent_element = element.get(0);\n",
       "    fig.cell_info = mpl.find_output_cell(\"<div id='\" + id + \"'></div>\");\n",
       "    if (!fig.cell_info) {\n",
       "        console.error(\"Failed to find cell for figure\", id, fig);\n",
       "        return;\n",
       "    }\n",
       "\n",
       "    var output_index = fig.cell_info[2]\n",
       "    var cell = fig.cell_info[0];\n",
       "\n",
       "};\n",
       "\n",
       "mpl.figure.prototype.handle_close = function(fig, msg) {\n",
       "    fig.root.unbind('remove')\n",
       "\n",
       "    // Update the output cell to use the data from the current canvas.\n",
       "    fig.push_to_output();\n",
       "    var dataURL = fig.canvas.toDataURL();\n",
       "    // Re-enable the keyboard manager in IPython - without this line, in FF,\n",
       "    // the notebook keyboard shortcuts fail.\n",
       "    IPython.keyboard_manager.enable()\n",
       "    $(fig.parent_element).html('<img src=\"' + dataURL + '\">');\n",
       "    fig.close_ws(fig, msg);\n",
       "}\n",
       "\n",
       "mpl.figure.prototype.close_ws = function(fig, msg){\n",
       "    fig.send_message('closing', msg);\n",
       "    // fig.ws.close()\n",
       "}\n",
       "\n",
       "mpl.figure.prototype.push_to_output = function(remove_interactive) {\n",
       "    // Turn the data on the canvas into data in the output cell.\n",
       "    var dataURL = this.canvas.toDataURL();\n",
       "    this.cell_info[1]['text/html'] = '<img src=\"' + dataURL + '\">';\n",
       "}\n",
       "\n",
       "mpl.figure.prototype.updated_canvas_event = function() {\n",
       "    // Tell IPython that the notebook contents must change.\n",
       "    IPython.notebook.set_dirty(true);\n",
       "    this.send_message(\"ack\", {});\n",
       "    var fig = this;\n",
       "    // Wait a second, then push the new image to the DOM so\n",
       "    // that it is saved nicely (might be nice to debounce this).\n",
       "    setTimeout(function () { fig.push_to_output() }, 1000);\n",
       "}\n",
       "\n",
       "mpl.figure.prototype._init_toolbar = function() {\n",
       "    var fig = this;\n",
       "\n",
       "    var nav_element = $('<div/>')\n",
       "    nav_element.attr('style', 'width: 100%');\n",
       "    this.root.append(nav_element);\n",
       "\n",
       "    // Define a callback function for later on.\n",
       "    function toolbar_event(event) {\n",
       "        return fig.toolbar_button_onclick(event['data']);\n",
       "    }\n",
       "    function toolbar_mouse_event(event) {\n",
       "        return fig.toolbar_button_onmouseover(event['data']);\n",
       "    }\n",
       "\n",
       "    for(var toolbar_ind in mpl.toolbar_items){\n",
       "        var name = mpl.toolbar_items[toolbar_ind][0];\n",
       "        var tooltip = mpl.toolbar_items[toolbar_ind][1];\n",
       "        var image = mpl.toolbar_items[toolbar_ind][2];\n",
       "        var method_name = mpl.toolbar_items[toolbar_ind][3];\n",
       "\n",
       "        if (!name) { continue; };\n",
       "\n",
       "        var button = $('<button class=\"btn btn-default\" href=\"#\" title=\"' + name + '\"><i class=\"fa ' + image + ' fa-lg\"></i></button>');\n",
       "        button.click(method_name, toolbar_event);\n",
       "        button.mouseover(tooltip, toolbar_mouse_event);\n",
       "        nav_element.append(button);\n",
       "    }\n",
       "\n",
       "    // Add the status bar.\n",
       "    var status_bar = $('<span class=\"mpl-message\" style=\"text-align:right; float: right;\"/>');\n",
       "    nav_element.append(status_bar);\n",
       "    this.message = status_bar[0];\n",
       "\n",
       "    // Add the close button to the window.\n",
       "    var buttongrp = $('<div class=\"btn-group inline pull-right\"></div>');\n",
       "    var button = $('<button class=\"btn btn-mini btn-primary\" href=\"#\" title=\"Stop Interaction\"><i class=\"fa fa-power-off icon-remove icon-large\"></i></button>');\n",
       "    button.click(function (evt) { fig.handle_close(fig, {}); } );\n",
       "    button.mouseover('Stop Interaction', toolbar_mouse_event);\n",
       "    buttongrp.append(button);\n",
       "    var titlebar = this.root.find($('.ui-dialog-titlebar'));\n",
       "    titlebar.prepend(buttongrp);\n",
       "}\n",
       "\n",
       "mpl.figure.prototype._root_extra_style = function(el){\n",
       "    var fig = this\n",
       "    el.on(\"remove\", function(){\n",
       "\tfig.close_ws(fig, {});\n",
       "    });\n",
       "}\n",
       "\n",
       "mpl.figure.prototype._canvas_extra_style = function(el){\n",
       "    // this is important to make the div 'focusable\n",
       "    el.attr('tabindex', 0)\n",
       "    // reach out to IPython and tell the keyboard manager to turn it's self\n",
       "    // off when our div gets focus\n",
       "\n",
       "    // location in version 3\n",
       "    if (IPython.notebook.keyboard_manager) {\n",
       "        IPython.notebook.keyboard_manager.register_events(el);\n",
       "    }\n",
       "    else {\n",
       "        // location in version 2\n",
       "        IPython.keyboard_manager.register_events(el);\n",
       "    }\n",
       "\n",
       "}\n",
       "\n",
       "mpl.figure.prototype._key_event_extra = function(event, name) {\n",
       "    var manager = IPython.notebook.keyboard_manager;\n",
       "    if (!manager)\n",
       "        manager = IPython.keyboard_manager;\n",
       "\n",
       "    // Check for shift+enter\n",
       "    if (event.shiftKey && event.which == 13) {\n",
       "        this.canvas_div.blur();\n",
       "        event.shiftKey = false;\n",
       "        // Send a \"J\" for go to next cell\n",
       "        event.which = 74;\n",
       "        event.keyCode = 74;\n",
       "        manager.command_mode();\n",
       "        manager.handle_keydown(event);\n",
       "    }\n",
       "}\n",
       "\n",
       "mpl.figure.prototype.handle_save = function(fig, msg) {\n",
       "    fig.ondownload(fig, null);\n",
       "}\n",
       "\n",
       "\n",
       "mpl.find_output_cell = function(html_output) {\n",
       "    // Return the cell and output element which can be found *uniquely* in the notebook.\n",
       "    // Note - this is a bit hacky, but it is done because the \"notebook_saving.Notebook\"\n",
       "    // IPython event is triggered only after the cells have been serialised, which for\n",
       "    // our purposes (turning an active figure into a static one), is too late.\n",
       "    var cells = IPython.notebook.get_cells();\n",
       "    var ncells = cells.length;\n",
       "    for (var i=0; i<ncells; i++) {\n",
       "        var cell = cells[i];\n",
       "        if (cell.cell_type === 'code'){\n",
       "            for (var j=0; j<cell.output_area.outputs.length; j++) {\n",
       "                var data = cell.output_area.outputs[j];\n",
       "                if (data.data) {\n",
       "                    // IPython >= 3 moved mimebundle to data attribute of output\n",
       "                    data = data.data;\n",
       "                }\n",
       "                if (data['text/html'] == html_output) {\n",
       "                    return [cell, data, j];\n",
       "                }\n",
       "            }\n",
       "        }\n",
       "    }\n",
       "}\n",
       "\n",
       "// Register the function which deals with the matplotlib target/channel.\n",
       "// The kernel may be null if the page has been refreshed.\n",
       "if (IPython.notebook.kernel != null) {\n",
       "    IPython.notebook.kernel.comm_manager.register_target('matplotlib', mpl.mpl_figure_comm);\n",
       "}\n"
      ],
      "text/plain": [
       "<IPython.core.display.Javascript object>"
      ]
     },
     "metadata": {},
     "output_type": "display_data"
    },
    {
     "data": {
      "text/html": [
       "<img src=\"data:image/png;base64,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\">"
      ],
      "text/plain": [
       "<IPython.core.display.HTML object>"
      ]
     },
     "metadata": {},
     "output_type": "display_data"
    },
    {
     "data": {
      "text/plain": [
       "(-10, 4.5)"
      ]
     },
     "execution_count": 87,
     "metadata": {},
     "output_type": "execute_result"
    }
   ],
   "source": [
    "plt.figure()\n",
    "plt.plot(u[:,0], u[:,1], '.')\n",
    "plt.xlim(-.15, .1)\n",
    "plt.ylim(-10, 4.5)"
   ]
  },
  {
   "cell_type": "markdown",
   "metadata": {},
   "source": [
    "### Compare to results from mcvine simulation using delta-function kernel"
   ]
  },
  {
   "cell_type": "code",
   "execution_count": 246,
   "metadata": {
    "collapsed": false
   },
   "outputs": [],
   "source": [
    "import histogram.hdf as hh, histogram as H"
   ]
  },
  {
   "cell_type": "code",
   "execution_count": 247,
   "metadata": {
    "collapsed": false
   },
   "outputs": [
    {
     "name": "stderr",
     "output_type": "stream",
     "text": [
      "/home/lj7/miniconda2/envs/mcvine/lib/python2.7/site-packages/histogram/hdf/__init__.py:55: UserWarning: filename as url is deprecated\n",
      "  warnings.warn(\"filename as url is deprecated\")\n"
     ]
    },
    {
     "ename": "ValueError",
     "evalue": "slice_111.h5",
     "output_type": "error",
     "traceback": [
      "\u001b[0;31m---------------------------------------------------------------------------\u001b[0m",
      "\u001b[0;31mValueError\u001b[0m                                Traceback (most recent call last)",
      "\u001b[0;32m<ipython-input-247-dc63d0a1d1fe>\u001b[0m in \u001b[0;36m<module>\u001b[0;34m()\u001b[0m\n\u001b[0;32m----> 1\u001b[0;31m \u001b[0mslice\u001b[0m \u001b[0;34m=\u001b[0m \u001b[0mhh\u001b[0m\u001b[0;34m.\u001b[0m\u001b[0mload\u001b[0m\u001b[0;34m(\u001b[0m\u001b[0;34m\"slice_111.h5\"\u001b[0m\u001b[0;34m)\u001b[0m\u001b[0;34m\u001b[0m\u001b[0m\n\u001b[0m",
      "\u001b[0;32m/home/lj7/miniconda2/envs/mcvine/lib/python2.7/site-packages/histogram/hdf/__init__.pyc\u001b[0m in \u001b[0;36mload\u001b[0;34m(filename, pathinfile, fs, **kwds)\u001b[0m\n\u001b[1;32m     58\u001b[0m             \u001b[0;32mif\u001b[0m \u001b[0;32mnot\u001b[0m \u001b[0mos\u001b[0m\u001b[0;34m.\u001b[0m\u001b[0mpath\u001b[0m\u001b[0;34m.\u001b[0m\u001b[0mexists\u001b[0m\u001b[0;34m(\u001b[0m\u001b[0mfilename\u001b[0m\u001b[0;34m)\u001b[0m\u001b[0;34m:\u001b[0m\u001b[0;34m\u001b[0m\u001b[0m\n\u001b[1;32m     59\u001b[0m                 \u001b[0mmsg\u001b[0m \u001b[0;34m=\u001b[0m \u001b[0;34m\"invalid histogram url: %s\"\u001b[0m \u001b[0;34m%\u001b[0m \u001b[0murl\u001b[0m\u001b[0;34m\u001b[0m\u001b[0m\n\u001b[0;32m---> 60\u001b[0;31m                 \u001b[0;32mraise\u001b[0m \u001b[0mValueError\u001b[0m\u001b[0;34m,\u001b[0m \u001b[0murl\u001b[0m\u001b[0;34m\u001b[0m\u001b[0m\n\u001b[0m\u001b[1;32m     61\u001b[0m \u001b[0;34m\u001b[0m\u001b[0m\n\u001b[1;32m     62\u001b[0m     \u001b[0;32mif\u001b[0m \u001b[0mfs\u001b[0m \u001b[0;32mis\u001b[0m \u001b[0mNone\u001b[0m\u001b[0;34m:\u001b[0m\u001b[0;34m\u001b[0m\u001b[0m\n",
      "\u001b[0;31mValueError\u001b[0m: slice_111.h5"
     ]
    }
   ],
   "source": [
    "slice = hh.load(\"slice_111.h5\")"
   ]
  },
  {
   "cell_type": "code",
   "execution_count": null,
   "metadata": {
    "collapsed": false
   },
   "outputs": [],
   "source": [
    "H.plot(slice[(-0.2, 0.2), (38, 42)], min=0, max=1e-2)"
   ]
  },
  {
   "cell_type": "markdown",
   "metadata": {},
   "source": [
    "## Conclusions\n",
    "* See google doc\n",
    "* Seems not totally different from the mcvine sims"
   ]
  }
 ],
 "metadata": {
  "kernelspec": {
   "display_name": "python2-default at jnrk-sns-analysis",
   "language": "python",
   "name": "jnrk-sns-analysis-python2-default"
  },
  "language_info": {
   "codemirror_mode": {
    "name": "ipython",
    "version": 2
   },
   "file_extension": ".py",
   "mimetype": "text/x-python",
   "name": "python",
   "nbconvert_exporter": "python",
   "pygments_lexer": "ipython2",
   "version": "2.7.12"
  }
 },
 "nbformat": 4,
 "nbformat_minor": 0
}
