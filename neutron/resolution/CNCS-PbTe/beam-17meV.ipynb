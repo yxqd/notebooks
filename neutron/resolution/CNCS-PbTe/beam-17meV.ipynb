{
 "cells": [
  {
   "cell_type": "markdown",
   "metadata": {},
   "source": [
    "# Summary\n",
    "* Purpose: Compute beam for AgBiSe2 CNCS dataset. "
   ]
  },
  {
   "cell_type": "markdown",
   "metadata": {},
   "source": [
    "# Tools"
   ]
  },
  {
   "cell_type": "code",
   "execution_count": 1,
   "metadata": {
    "collapsed": false
   },
   "outputs": [
    {
     "data": {
      "text/plain": [
       "u'/SNS/users/lj7/simulations/CNCS/AgBiSe2'"
      ]
     },
     "execution_count": 1,
     "metadata": {},
     "output_type": "execute_result"
    }
   ],
   "source": [
    "pwd"
   ]
  },
  {
   "cell_type": "markdown",
   "metadata": {},
   "source": [
    "** Modify the workdir !!! **"
   ]
  },
  {
   "cell_type": "code",
   "execution_count": 2,
   "metadata": {
    "collapsed": true
   },
   "outputs": [],
   "source": [
    "workdir = \"/SNS/users/lj7/simulations/CNCS/AgBiSe2/Ei17-beam/\""
   ]
  },
  {
   "cell_type": "code",
   "execution_count": 3,
   "metadata": {
    "collapsed": true
   },
   "outputs": [],
   "source": [
    "mkdir -p {workdir}"
   ]
  },
  {
   "cell_type": "code",
   "execution_count": 4,
   "metadata": {
    "collapsed": false
   },
   "outputs": [
    {
     "name": "stdout",
     "output_type": "stream",
     "text": [
      "/SNS/users/lj7/simulations/CNCS/AgBiSe2/Ei17-beam\n"
     ]
    }
   ],
   "source": [
    "cd {workdir}"
   ]
  },
  {
   "cell_type": "code",
   "execution_count": 31,
   "metadata": {
    "collapsed": false
   },
   "outputs": [],
   "source": [
    "import numpy as np, os, glob\n",
    "import histogram.hdf as hh, histogram as H\n",
    "# %matplotlib notebook\n",
    "%matplotlib inline\n",
    "from matplotlib import pyplot as plt"
   ]
  },
  {
   "cell_type": "code",
   "execution_count": 6,
   "metadata": {
    "collapsed": false
   },
   "outputs": [
    {
     "name": "stdout",
     "output_type": "stream",
     "text": [
      "/home/lj7/dv/mcvine/export/bin/mcvine\r\n"
     ]
    }
   ],
   "source": [
    "!which mcvine"
   ]
  },
  {
   "cell_type": "code",
   "execution_count": 7,
   "metadata": {
    "collapsed": true
   },
   "outputs": [],
   "source": [
    "import mcvine.cli"
   ]
  },
  {
   "cell_type": "markdown",
   "metadata": {},
   "source": [
    "# Beam"
   ]
  },
  {
   "cell_type": "markdown",
   "metadata": {},
   "source": [
    "** Options for the beam simulation **"
   ]
  },
  {
   "cell_type": "code",
   "execution_count": 8,
   "metadata": {
    "collapsed": false,
    "scrolled": true
   },
   "outputs": [
    {
     "name": "stdout",
     "output_type": "stream",
     "text": [
      "properties of 'cncs_beam':\r\n",
      "    E=<float>: desired incident beam energy. unit: meV\r\n",
      "        default value: 20\r\n",
      "        current value: 20.0, from {default}\r\n",
      "    dumpconfiguration=<bool>: If set, dump configuration to a pml file\r\n",
      "        default value: 0\r\n",
      "        current value: False, from {default}\r\n",
      "    dumpconfiguration-output=<str>: Output file path of dumped configuration file (pml)\r\n",
      "        default value: ''\r\n",
      "        current value: '', from {default}\r\n",
      "    f1=<float>: Chopper freq 1. unit: Hz\r\n",
      "        default value: 60\r\n",
      "        current value: 60.0, from {default}\r\n",
      "    f2=<float>: Chopper freq 2. unit: Hz\r\n",
      "        default value: 60\r\n",
      "        current value: 60.0, from {default}\r\n",
      "    f3=<float>: Chopper freq 3. unit: Hz\r\n",
      "        default value: 60\r\n",
      "        current value: 60.0, from {default}\r\n",
      "    f41=<float>: Chopper freq 41. unit: Hz\r\n",
      "        default value: 300\r\n",
      "        current value: 300.0, from {default}\r\n",
      "    f42=<float>: Chopper freq 42. unit: Hz\r\n",
      "        default value: 300\r\n",
      "        current value: 300.0, from {default}\r\n",
      "    fluxmode=<float>: flux mode\r\n",
      "        default value: 9.0\r\n",
      "        current value: 9.0, from {default}\r\n",
      "    help=<bool>: prints a screen that describes my traits\r\n",
      "        default value: False\r\n",
      "        current value: False, from {default}\r\n",
      "    help-components=<bool>: prints a screen that describes my subcomponents\r\n",
      "        default value: False\r\n",
      "        current value: False, from {default}\r\n",
      "    help-persistence=<bool>: prints a screen that describes my persistent store\r\n",
      "        default value: False\r\n",
      "        current value: False, from {default}\r\n",
      "    help-properties=<bool>: prints a screen that describes my properties\r\n",
      "        default value: False\r\n",
      "        current value: True, from {command line}\r\n",
      "    ncount=<float>: neutron count\r\n",
      "        default value: 1000000\r\n",
      "        current value: 1000000.0, from {default}\r\n",
      "    nodes=<int>: # of mpi nodes\r\n",
      "        default value: 1\r\n",
      "        current value: 1, from {default}\r\n",
      "    typos=<str>: specifies the handling of typos in the names of properties and facilities\r\n",
      "        default value: 'strict'\r\n",
      "        current value: 'strict', from {default}\r\n",
      "        validator: (in ['relaxed', 'strict', 'pedantic'])\r\n"
     ]
    }
   ],
   "source": [
    "!mcvine instruments cncs beam --help-properties"
   ]
  },
  {
   "cell_type": "code",
   "execution_count": 9,
   "metadata": {
    "collapsed": true
   },
   "outputs": [],
   "source": [
    "# Ei=17, highflux mode"
   ]
  },
  {
   "cell_type": "markdown",
   "metadata": {},
   "source": [
    "Fluxmode:\n",
    "* High Flux (HF) = 9.0 deg\n",
    "* Intermediate (AI) = 4.4 deg\n",
    "* High Res (HR) = 2.0 deg"
   ]
  },
  {
   "cell_type": "code",
   "execution_count": 9,
   "metadata": {
    "collapsed": false
   },
   "outputs": [],
   "source": [
    "rm -rf log* *out *.params"
   ]
  },
  {
   "cell_type": "code",
   "execution_count": 10,
   "metadata": {
    "collapsed": false
   },
   "outputs": [
    {
     "name": "stdout",
     "output_type": "stream",
     "text": [
      "cncs_moderator2sample.pml  run-m2s.sh\r\n"
     ]
    }
   ],
   "source": [
    "ls"
   ]
  },
  {
   "cell_type": "code",
   "execution_count": 11,
   "metadata": {
    "collapsed": false,
    "scrolled": true
   },
   "outputs": [
    {
     "name": "stdout",
     "output_type": "stream",
     "text": [
      "/home/lj7/dv/mcvine/export/lib/python2.7/site-packages/mcni/AbstractComponent.py:40: UserWarning: In NeutronToStorage: Deprecated. should use self.simulation_context.overwrite_datafiles\n",
      "  warnings.warn(msg)\n",
      "/home/lj7/dv/mcvine/export/lib/python2.7/site-packages/mcni/AbstractComponent.py:40: UserWarning: In NeutronToStorage: Deprecated. should use self.simulation_context.overwrite_datafiles\n",
      "  warnings.warn(msg)\n",
      "/home/lj7/dv/mcvine/export/lib/python2.7/site-packages/mcni/AbstractComponent.py:40: UserWarning: In NeutronToStorage: Deprecated. should use self.simulation_context.overwrite_datafiles\n",
      "  warnings.warn(msg)\n",
      "/home/lj7/dv/mcvine/export/lib/python2.7/site-packages/mcni/AbstractComponent.py:40: UserWarning: In NeutronToStorage: Deprecated. should use self.simulation_context.overwrite_datafiles\n",
      "  warnings.warn(msg)\n",
      "/home/lj7/dv/mcvine/export/lib/python2.7/site-packages/mcni/AbstractComponent.py:40: UserWarning: In NeutronToStorage: Deprecated. should use self.simulation_context.overwrite_datafiles\n",
      "  warnings.warn(msg)\n",
      "/home/lj7/dv/mcvine/export/lib/python2.7/site-packages/mcni/AbstractComponent.py:40: UserWarning: In NeutronToStorage: Deprecated. should use self.simulation_context.overwrite_datafiles\n",
      "  warnings.warn(msg)\n",
      "/home/lj7/dv/mcvine/export/lib/python2.7/site-packages/mcni/AbstractComponent.py:40: UserWarning: In NeutronToStorage: Deprecated. should use self.simulation_context.overwrite_datafiles\n",
      "  warnings.warn(msg)\n",
      "/home/lj7/dv/mcvine/export/lib/python2.7/site-packages/mcni/AbstractComponent.py:40: UserWarning: In NeutronToStorage: Deprecated. should use self.simulation_context.overwrite_datafiles\n",
      "  warnings.warn(msg)\n",
      "/home/lj7/dv/mcvine/export/lib/python2.7/site-packages/mcni/AbstractComponent.py:40: UserWarning: In NeutronToStorage: Deprecated. should use self.simulation_context.overwrite_datafiles\n",
      "  warnings.warn(msg)\n",
      "/home/lj7/dv/mcvine/export/lib/python2.7/site-packages/mcni/AbstractComponent.py:40: UserWarning: In NeutronToStorage: Deprecated. should use self.simulation_context.overwrite_datafiles\n",
      "  warnings.warn(msg)\n",
      "/home/lj7/dv/mcvine/export/lib/python2.7/site-packages/mcni/AbstractComponent.py:40: UserWarning: In NeutronToStorage: Deprecated. should use self.simulation_context.overwrite_datafiles\n",
      "  warnings.warn(msg)\n",
      "/home/lj7/dv/mcvine/export/lib/python2.7/site-packages/mcni/AbstractComponent.py:40: UserWarning: In NeutronToStorage: Deprecated. should use self.simulation_context.overwrite_datafiles\n",
      "  warnings.warn(msg)\n",
      "/home/lj7/dv/mcvine/export/lib/python2.7/site-packages/mcni/AbstractComponent.py:40: UserWarning: In NeutronToStorage: Deprecated. should use self.simulation_context.overwrite_datafiles\n",
      "  warnings.warn(msg)\n",
      "/home/lj7/dv/mcvine/export/lib/python2.7/site-packages/mcni/AbstractComponent.py:40: UserWarning: In NeutronToStorage: Deprecated. should use self.simulation_context.overwrite_datafiles\n",
      "  warnings.warn(msg)\n",
      "/home/lj7/dv/mcvine/export/lib/python2.7/site-packages/mcni/AbstractComponent.py:40: UserWarning: In NeutronToStorage: Deprecated. should use self.simulation_context.overwrite_datafiles\n",
      "  warnings.warn(msg)\n",
      "/home/lj7/dv/mcvine/export/lib/python2.7/site-packages/mcni/AbstractComponent.py:40: UserWarning: In NeutronToStorage: Deprecated. should use self.simulation_context.overwrite_datafiles\n",
      "  warnings.warn(msg)\n",
      "/home/lj7/dv/mcvine/export/lib/python2.7/site-packages/mcni/AbstractComponent.py:40: UserWarning: In NeutronToStorage: Deprecated. should use self.simulation_context.overwrite_datafiles\n",
      "  warnings.warn(msg)\n",
      "/home/lj7/dv/mcvine/export/lib/python2.7/site-packages/mcni/AbstractComponent.py:40: UserWarning: In NeutronToStorage: Deprecated. should use self.simulation_context.overwrite_datafiles\n",
      "  warnings.warn(msg)\n",
      "/home/lj7/dv/mcvine/export/lib/python2.7/site-packages/mcni/AbstractComponent.py:40: UserWarning: In NeutronToStorage: Deprecated. should use self.simulation_context.overwrite_datafiles\n",
      "  warnings.warn(msg)\n",
      "/home/lj7/dv/mcvine/export/lib/python2.7/site-packages/mcni/AbstractComponent.py:40: UserWarning: In NeutronToStorage: Deprecated. should use self.simulation_context.overwrite_datafiles\n",
      "  warnings.warn(msg)\n",
      "/home/lj7/dv/mcvine/export/lib/python2.7/site-packages/mcni/pyre_support/MpiApplication.py:87: UserWarning: no point to run in parallel mode when using just one node\n",
      "  warnings.warn(\"no point to run in parallel mode when using just one node\")\n",
      "/home/lj7/miniconda2/envs/dev-mcvine/lib/python2.7/site-packages/histogram/hdf/Loader.py:129: FutureWarning: elementwise comparison failed; returning scalar instead, but in the future will perform elementwise comparison\n",
      "  if 'storage' in list(dataGroup): # this uses the 'storage' convention\n",
      "/home/lj7/miniconda2/envs/dev-mcvine/lib/python2.7/site-packages/histogram/hdf/Loader.py:129: FutureWarning: elementwise comparison failed; returning scalar instead, but in the future will perform elementwise comparison\n",
      "  if 'storage' in list(dataGroup): # this uses the 'storage' convention\n",
      "/home/lj7/miniconda2/envs/dev-mcvine/lib/python2.7/site-packages/histogram/hdf/Loader.py:129: FutureWarning: elementwise comparison failed; returning scalar instead, but in the future will perform elementwise comparison\n",
      "  if 'storage' in list(dataGroup): # this uses the 'storage' convention\n",
      "/home/lj7/miniconda2/envs/dev-mcvine/lib/python2.7/site-packages/histogram/hdf/Loader.py:129: FutureWarning: elementwise comparison failed; returning scalar instead, but in the future will perform elementwise comparison\n",
      "  if 'storage' in list(dataGroup): # this uses the 'storage' convention\n",
      "/home/lj7/miniconda2/envs/dev-mcvine/lib/python2.7/site-packages/histogram/hdf/Loader.py:129: FutureWarning: elementwise comparison failed; returning scalar instead, but in the future will perform elementwise comparison\n",
      "  if 'storage' in list(dataGroup): # this uses the 'storage' convention\n",
      "CPU times: user 23.9 s, sys: 1.99 s, total: 25.9 s\n",
      "Wall time: 23min 44s\n"
     ]
    }
   ],
   "source": [
    "%%time\n",
    "!mcvine instruments cncs beam -E=17 -f1=60 -f2=60 -f3=60 -f41=300 -f42=300 -ncount=1e9 -fluxmode=9.0 -nodes=20 >log.sim"
   ]
  },
  {
   "cell_type": "code",
   "execution_count": 12,
   "metadata": {
    "collapsed": false
   },
   "outputs": [
    {
     "data": {
      "image/png": "[encoded data removed]",
      "text/plain": [
       "<matplotlib.figure.Figure at 0x7f3ed1192d10>"
      ]
     },
     "metadata": {},
     "output_type": "display_data"
    }
   ],
   "source": [
    "H.plot(hh.load('out/ienergy.h5'))"
   ]
  },
  {
   "cell_type": "code",
   "execution_count": 16,
   "metadata": {
    "collapsed": false
   },
   "outputs": [
    {
     "data": {
      "image/png": "[encoded data removed]",
      "text/plain": [
       "<matplotlib.figure.Figure at 0x7f3ece567250>"
      ]
     },
     "metadata": {},
     "output_type": "display_data"
    }
   ],
   "source": [
    "H.plot(hh.load('out/itof.h5')[0.02, 0.0203])"
   ]
  },
  {
   "cell_type": "code",
   "execution_count": 17,
   "metadata": {
    "collapsed": false
   },
   "outputs": [
    {
     "name": "stdout",
     "output_type": "stream",
     "text": [
      "ienergy.h5  ix_divx.h5  ix_y.h5     iy_divy.h5  props.json\r\n",
      "itof.h5     ix_divy.h5  iy_divx.h5  neutrons    \u001b[0m\u001b[01;34mrank0-step0\u001b[0m/\r\n"
     ]
    }
   ],
   "source": [
    "ls out"
   ]
  },
  {
   "cell_type": "code",
   "execution_count": 18,
   "metadata": {
    "collapsed": false
   },
   "outputs": [
    {
     "name": "stdout",
     "output_type": "stream",
     "text": [
      "{'emission time': '117.843730257 microsecond', 'flux': '268588.858261 counts per 34kJ pulse', 'tof fwhm': '56.3037261094 microsecond', 'average tof': '20121.6006499 microsecond', 'average energy': '17.1784508025 meV'}"
     ]
    }
   ],
   "source": [
    "cat out/props.json"
   ]
  },
  {
   "cell_type": "code",
   "execution_count": 19,
   "metadata": {
    "collapsed": false
   },
   "outputs": [
    {
     "name": "stdout",
     "output_type": "stream",
     "text": [
      "61358\r\n"
     ]
    }
   ],
   "source": [
    "!mcvine-neutron-storage-count-neutrons out/neutrons"
   ]
  },
  {
   "cell_type": "code",
   "execution_count": 20,
   "metadata": {
    "collapsed": false
   },
   "outputs": [
    {
     "name": "stdout",
     "output_type": "stream",
     "text": [
      "17.1784508025 117.843730257\n"
     ]
    }
   ],
   "source": [
    "d=eval(open('out/props.json').read())\n",
    "Ei = float(d['average energy'].split()[0])\n",
    "t0 = float(d['emission time'].split()[0])\n",
    "print Ei, t0"
   ]
  },
  {
   "cell_type": "markdown",
   "metadata": {
    "collapsed": true
   },
   "source": [
    "# Compare to experiment"
   ]
  },
  {
   "cell_type": "code",
   "execution_count": 21,
   "metadata": {
    "collapsed": false
   },
   "outputs": [],
   "source": [
    "path = '/SNS/CNCS/IPTS-18124/data/CNCS_214693_event.nxs'"
   ]
  },
  {
   "cell_type": "code",
   "execution_count": 22,
   "metadata": {
    "collapsed": false
   },
   "outputs": [
    {
     "name": "stderr",
     "output_type": "stream",
     "text": [
      "/home/lj7/miniconda2/envs/dev-mcvine/lib/python2.7/site-packages/mantid/kernel/__init__.py:14: RuntimeWarning: to-Python converter for std::vector<int, std::allocator<int> > already registered; second conversion method ignored.\n",
      "  from ._kernel import *\n",
      "/home/lj7/miniconda2/envs/dev-mcvine/lib/python2.7/site-packages/mantid/kernel/__init__.py:14: RuntimeWarning: to-Python converter for std::vector<double, std::allocator<double> > already registered; second conversion method ignored.\n",
      "  from ._kernel import *\n"
     ]
    }
   ],
   "source": [
    "from mantid import simpleapi as msa, mtd"
   ]
  },
  {
   "cell_type": "code",
   "execution_count": 25,
   "metadata": {
    "collapsed": false
   },
   "outputs": [],
   "source": [
    "ws = msa.Load(path, LoadMonitors=True)"
   ]
  },
  {
   "cell_type": "code",
   "execution_count": 26,
   "metadata": {
    "collapsed": false
   },
   "outputs": [],
   "source": [
    "m = ws[1]"
   ]
  },
  {
   "cell_type": "code",
   "execution_count": 27,
   "metadata": {
    "collapsed": false
   },
   "outputs": [
    {
     "data": {
      "text/plain": [
       "Workspace2D\n",
       "Title: PbSe 300K HF 113 TO-point#01/50\n",
       "Histograms: 2\n",
       "Bins: 200001\n",
       "Histogram\n",
       "X axis: Time-of-flight / microsecond\n",
       "Y axis: Counts\n",
       "Distribution: False\n",
       "Instrument: CNCS (2017-Mar-14 to 2100-Jan-31)Instrument from: /home/lj7/.mantid/instrument/CNCS_Definition.xml\n",
       "\n",
       "Parameters from: /home/lj7/miniconda2/envs/dev-mcvine/instrument/CNCS_Parameters.xml\n",
       "Run start: 2017-Apr-14 16:25:46\n",
       "Run end:  2017-Apr-14 16:29:00"
      ]
     },
     "execution_count": 27,
     "metadata": {},
     "output_type": "execute_result"
    }
   ],
   "source": [
    "m"
   ]
  },
  {
   "cell_type": "code",
   "execution_count": 28,
   "metadata": {
    "collapsed": false
   },
   "outputs": [],
   "source": [
    "x = m.extractX()\n",
    "y = m.extractY()"
   ]
  },
  {
   "cell_type": "code",
   "execution_count": 29,
   "metadata": {
    "collapsed": false
   },
   "outputs": [
    {
     "name": "stdout",
     "output_type": "stream",
     "text": [
      "19339.4109491\n"
     ]
    }
   ],
   "source": [
    "L = 36.262-1.416\n",
    "\n",
    "from mcni.utils import conversion as Conv\n",
    "v = Conv.e2v(Ei)\n",
    "t = L/v*1e6 + t0\n",
    "print t"
   ]
  },
  {
   "cell_type": "code",
   "execution_count": 43,
   "metadata": {
    "collapsed": false
   },
   "outputs": [
    {
     "data": {
      "text/plain": [
       "34.846000000000004"
      ]
     },
     "execution_count": 43,
     "metadata": {},
     "output_type": "execute_result"
    }
   ],
   "source": [
    "L"
   ]
  },
  {
   "cell_type": "code",
   "execution_count": 32,
   "metadata": {
    "collapsed": false
   },
   "outputs": [
    {
     "data": {
      "text/plain": [
       "(19239.410949089553, 19489.410949089553)"
      ]
     },
     "execution_count": 32,
     "metadata": {},
     "output_type": "execute_result"
    },
    {
     "data": {
      "image/png": "[encoded data removed]",
      "text/plain": [
       "<matplotlib.figure.Figure at 0x7f3e69c33e10>"
      ]
     },
     "metadata": {},
     "output_type": "display_data"
    }
   ],
   "source": [
    "plt.plot(x[1][:-1], y[1])\n",
    "plt.xlim(t-100, t+150)"
   ]
  },
  {
   "cell_type": "code",
   "execution_count": 33,
   "metadata": {
    "collapsed": false
   },
   "outputs": [],
   "source": [
    "itof_at_sample = hh.load('out/itof.h5')[(0.02, 0.0202)]"
   ]
  },
  {
   "cell_type": "code",
   "execution_count": 42,
   "metadata": {
    "collapsed": false
   },
   "outputs": [
    {
     "data": {
      "text/plain": [
       "<matplotlib.legend.Legend at 0x7f3e6906b5d0>"
      ]
     },
     "execution_count": 42,
     "metadata": {},
     "output_type": "execute_result"
    },
    {
     "data": {
      "image/png": "[encoded data removed]",
      "text/plain": [
       "<matplotlib.figure.Figure at 0x7f3ed1187b50>"
      ]
     },
     "metadata": {},
     "output_type": "display_data"
    }
   ],
   "source": [
    "plt.title('Ei=17meV')\n",
    "plt.plot(x[1][:-1], y[1], label=\"experiment\")\n",
    "plt.plot(itof_at_sample.tof*1e6 - 750, itof_at_sample.I/90, label='simulation (shifted)')\n",
    "plt.xlim(t-30, t+160)\n",
    "plt.legend()"
   ]
  },
  {
   "cell_type": "code",
   "execution_count": null,
   "metadata": {
    "collapsed": true
   },
   "outputs": [],
   "source": []
  }
 ],
 "metadata": {
  "kernelspec": {
   "display_name": "dev-mcvine",
   "language": "python",
   "name": "dev-mcvine"
  },
  "language_info": {
   "codemirror_mode": {
    "name": "ipython",
    "version": 2
   },
   "file_extension": ".py",
   "mimetype": "text/x-python",
   "name": "python",
   "nbconvert_exporter": "python",
   "pygments_lexer": "ipython2",
   "version": "2.7.12"
  }
 },
 "nbformat": 4,
 "nbformat_minor": 1
}
