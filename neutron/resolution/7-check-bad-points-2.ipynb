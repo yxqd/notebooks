{
 "cells": [
  {
   "cell_type": "markdown",
   "metadata": {},
   "source": [
    "Ricky found that for some points the disagreement is very large between\n",
    "the covmat calculation and the mcvine simulation.\n",
    "Here we want to see why.\n",
    "\n",
    "Check some simple cases where we can estimate the correlation"
   ]
  },
  {
   "cell_type": "code",
   "execution_count": 1,
   "metadata": {
    "collapsed": false
   },
   "outputs": [
    {
     "name": "stdout",
     "output_type": "stream",
     "text": [
      "/SNS/users/lj7/simulations/ARCS/resolution-fit-covmat/7-check-bad-points-2\n"
     ]
    }
   ],
   "source": [
    "workdir = '/SNS/users/lj7/simulations/ARCS/resolution-fit-covmat/7-check-bad-points-2/'\n",
    "!mkdir -p {workdir}\n",
    "%cd {workdir}"
   ]
  },
  {
   "cell_type": "code",
   "execution_count": 2,
   "metadata": {
    "collapsed": false
   },
   "outputs": [
    {
     "name": "stdout",
     "output_type": "stream",
     "text": [
      "/SNS/software/miniconda2/envs/mcvine-unstable/bin/mcvine\r\n"
     ]
    }
   ],
   "source": [
    "!which mcvine"
   ]
  },
  {
   "cell_type": "markdown",
   "metadata": {},
   "source": [
    "# Tools"
   ]
  },
  {
   "cell_type": "code",
   "execution_count": 3,
   "metadata": {
    "collapsed": true
   },
   "outputs": [],
   "source": [
    "import mcvine.cli\n",
    "from mcvine_workflow.singlextal.resolution import use_covmat, use_res_comps\n",
    "import numpy as np\n",
    "import histogram as H, histogram.hdf as hh"
   ]
  },
  {
   "cell_type": "code",
   "execution_count": 4,
   "metadata": {
    "collapsed": true
   },
   "outputs": [],
   "source": [
    "from matplotlib import pyplot as plt\n",
    "%matplotlib inline"
   ]
  },
  {
   "cell_type": "markdown",
   "metadata": {},
   "source": [
    "# Sample"
   ]
  },
  {
   "cell_type": "markdown",
   "metadata": {},
   "source": [
    "u 001, v 100 means hkl=xyz, where z is along beam, y is vertical up."
   ]
  },
  {
   "cell_type": "code",
   "execution_count": 5,
   "metadata": {
    "collapsed": false
   },
   "outputs": [
    {
     "name": "stdout",
     "output_type": "stream",
     "text": [
      "Writing Si.yml\n"
     ]
    }
   ],
   "source": [
    "%%file Si.yml\n",
    "name: Si\n",
    "chemical_formula: Si2\n",
    "lattice: \n",
    " constants: 1, 1, 1, 90, 90, 90\n",
    " basis_vectors:\n",
    "  - 1, 0, 0\n",
    "  - 0, 1, 0\n",
    "  - 0, 0, 1\n",
    "excitations:\n",
    " - type: DGSresolution\n",
    "orientation:\n",
    " u: 0, 0, 1\n",
    " v: 1, 0, 0\n",
    "shape: block width=\"2*inch\" height=\"4.*inch\" thickness=\"1*mm\"\n",
    "temperature: 100*K"
   ]
  },
  {
   "cell_type": "code",
   "execution_count": 6,
   "metadata": {
    "collapsed": true
   },
   "outputs": [],
   "source": [
    "sampleyml = \"Si.yml\""
   ]
  },
  {
   "cell_type": "markdown",
   "metadata": {},
   "source": [
    "# Instrument"
   ]
  },
  {
   "cell_type": "code",
   "execution_count": 7,
   "metadata": {
    "collapsed": true
   },
   "outputs": [],
   "source": [
    "instrument = use_covmat.instrument(\n",
    "    name = 'ARCS',\n",
    "    detsys_radius = \"3.*meter\",\n",
    "    L_m2s = \"13.6*meter\",\n",
    "    L_m2fc = \"11.61*meter\",\n",
    "    offset_sample2beam = \"-0.15*meter\" # offset from sample to saved beam\n",
    "    )\n",
    "pixel = use_covmat.pixel(\n",
    "    radius = \"0.5*inch\",\n",
    "    height = \"meter/128\",\n",
    "    pressure = \"10*atm\",\n",
    "    )"
   ]
  },
  {
   "cell_type": "markdown",
   "metadata": {},
   "source": [
    "# Experiment"
   ]
  },
  {
   "cell_type": "code",
   "execution_count": 8,
   "metadata": {
    "collapsed": false
   },
   "outputs": [
    {
     "name": "stdout",
     "output_type": "stream",
     "text": [
      "ki= [ 0.          0.          7.79789939]\n",
      "Q= [-5  0  0]\n",
      "kf= [ 5.          0.          7.79789939]\n",
      "kf length= 9.26321947109\n",
      "E= -51.8030461602\n"
     ]
    }
   ],
   "source": [
    "from mcni.utils import conversion as Conv\n",
    "\n",
    "Ei = 126\n",
    "ki = Conv.e2k(Ei)\n",
    "ki_vec = np.array([0,0,ki])\n",
    "print \"ki=\", ki_vec\n",
    "\n",
    "Q=np.array([-5,0,0])\n",
    "print \"Q=\", Q\n",
    "kf_vec = ki_vec-Q\n",
    "print \"kf=\", kf_vec\n",
    "\n",
    "kf = np.linalg.norm(kf_vec)\n",
    "print 'kf length=',kf\n",
    "Ef = Conv.k2e(kf)\n",
    "E = Ei-Ef\n",
    "print 'E=',E"
   ]
  },
  {
   "cell_type": "code",
   "execution_count": 9,
   "metadata": {
    "collapsed": true
   },
   "outputs": [],
   "source": [
    "class dynamics:\n",
    "    hkl_dir = np.array([1.,0.,0.])\n",
    "    dq = 0\n",
    "dynamics.hkl0 = Q/2/np.pi\n",
    "dynamics.E = E\n",
    "class scan:\n",
    "    min, max, step = -5, 90., 0.5"
   ]
  },
  {
   "cell_type": "code",
   "execution_count": 10,
   "metadata": {
    "collapsed": false
   },
   "outputs": [],
   "source": [
    "from mcni.utils import conversion as Conv"
   ]
  },
  {
   "cell_type": "code",
   "execution_count": 11,
   "metadata": {
    "collapsed": false
   },
   "outputs": [
    {
     "data": {
      "text/plain": [
       "(7.7978993946786597, 9.2632194710872451)"
      ]
     },
     "execution_count": 11,
     "metadata": {},
     "output_type": "execute_result"
    }
   ],
   "source": [
    "Conv.e2k(Ei), Conv.e2k(Ei-dynamics.E)"
   ]
  },
  {
   "cell_type": "markdown",
   "metadata": {},
   "source": [
    "# Use Cov Mat"
   ]
  },
  {
   "cell_type": "code",
   "execution_count": 12,
   "metadata": {
    "collapsed": true
   },
   "outputs": [],
   "source": [
    "def compute(\n",
    "        sample_yml, Ei, dynamics, psi_scan, instrument, pixel, tofwidths, beamdivs, samplethickness,\n",
    "        plot=False):\n",
    "    print \"XXXXXXXXXXXXXXXXXXXXXXX\"\n",
    "    # XXXXXXXXXXXXXXXXXXXXXXXXXXXXXXXXXXXXXXXXXXXXXXXXXX\n",
    "    # should P be the T0 chopper?\n",
    "    L_PM=mcvine.units.parse(instrument.L_m2fc)/mcvine.units.meter # P chopper to M chopper distance\n",
    "    L_PS= mcvine.units.parse(instrument.L_m2s)/mcvine.units.meter  # P chopper to sample\n",
    "    L_MS=L_PS-L_PM\n",
    "    #\n",
    "    R = mcvine.units.parse(instrument.detsys_radius)/mcvine.units.meter # \n",
    "\n",
    "    hkl0 = dynamics.hkl0\n",
    "    hkl_dir = dynamics.hkl_dir # projection\n",
    "    psimin = psi_scan.min\n",
    "    psimax = psi_scan.max\n",
    "    dpsi = psi_scan.step\n",
    "\n",
    "    # dynamics calculations\n",
    "    E = dynamics.E\n",
    "    dq = dynamics.dq\n",
    "    hkl = hkl0 + dq*hkl_dir\n",
    "\n",
    "    from mcni.utils import conversion as Conv\n",
    "    vi = Conv.e2v(Ei)\n",
    "\n",
    "    ti = L_PM/vi*1e6 # microsecond\n",
    "    Ef = Ei - E\n",
    "    vf = Conv.e2v(Ef)\n",
    "\n",
    "    # find the psi angle\n",
    "    from mcvine_workflow.singlextal.io import loadXtalOriFromSampleYml\n",
    "    xtalori = loadXtalOriFromSampleYml(sample_yml)\n",
    "    from mcvine_workflow.singlextal.solve_psi import solve\n",
    "    print Ei, hkl, E, psimin, psimax\n",
    "    results = solve(\n",
    "        xtalori, Ei, hkl, E, psimin, psimax,\n",
    "        Nsegments = 10)\n",
    "#        Nsegments = 100)\n",
    "    from mcvine_workflow.singlextal.coords_transform import hkl2Q\n",
    "    for r in results:\n",
    "        xtalori.psi = r*np.pi/180\n",
    "        print \"psi=%s, Q=%s\" % (r, hkl2Q(hkl, xtalori))\n",
    "        print \"hkl2Q=%r\\n(Q = hkl dot hkl2Q)\" % (xtalori.hkl2cartesian_mat(),)\n",
    "    # these are the psi angles that the particular point of interest will be measured\n",
    "    # print results\n",
    "    assert len(results)\n",
    "    # XXXXXXXXXXXXXXXXXXXXXXXXXXXXXXXXXXXXXXXXXXXXXXXXXX\n",
    "    # only select the first one. this is OK for most cases but there are cases where more than\n",
    "    # one psi angles satisfy the condition\n",
    "    psi = results[0]\n",
    "    print \"psi=%s degree\" % psi\n",
    "    xtalori.psi = psi*np.pi/180\n",
    "    print \"psi=%s radian\" % xtalori.psi\n",
    "    Q = hkl2Q(hkl, xtalori)\n",
    "    hkl2Q_mat = xtalori.hkl2cartesian_mat()\n",
    "    # print Q\n",
    "    # print hkl2Q_mat\n",
    "    #\n",
    "    Q_len = np.linalg.norm(Q); print Q_len\n",
    "    ki = Conv.e2k(Ei); print ki\n",
    "    kiv = np.array([ki, 0, 0])\n",
    "    kfv = kiv - Q; print kfv\n",
    "    #\n",
    "    # ** Verify the momentum and energy transfers **\n",
    "    # print Ei-Conv.k2e(np.linalg.norm(kfv))\n",
    "    # print Ei-Ef\n",
    "    assert np.isclose(Ei-Ef, E)\n",
    "\n",
    "    # ** Compute detector pixel position **\n",
    "    z = kfv[2]/(kfv[0]**2+kfv[1]**2)**.5 * R\n",
    "    L_SD=(z**2+R**2)**.5\n",
    "    # print z, L_SD\n",
    "\n",
    "    # ### Constants\n",
    "    eV = 1.60218e-19\n",
    "    meV = eV*1e-3\n",
    "    mus = 1.e-6\n",
    "    hbar= 1.0545718e-34\n",
    "    AA = 1e-10\n",
    "    m = 1.6750e-24 * 1e-3 #kg\n",
    "    from numpy import sin, cos\n",
    "\n",
    "    # dE calcuation starts here\n",
    "    # ## Differentials\n",
    "    pE_pt = -m*(vi**3/L_PM + vf**3/L_SD * L_MS/L_PM)\n",
    "    # convert to eV/microsecond\n",
    "    pE_pt /= meV/mus\n",
    "    # print pE_pt\n",
    "\n",
    "    pE_ptMD = m*vf**3/L_SD\n",
    "    pE_ptMD /= meV/mus\n",
    "    # print pE_ptMD\n",
    "\n",
    "    pE_pLPM = m/L_PM * (vi**2 + vf**3/vi * L_MS/ L_SD)\n",
    "    pE_pLPM /= meV\n",
    "    # print pE_pLPM\n",
    "\n",
    "    pE_pLMS= -m/L_SD * (vf**3/vi)\n",
    "    pE_pLMS /= meV\n",
    "    # print pE_pLMS\n",
    "\n",
    "    pE_pLSD = -m*vf*vf/L_SD\n",
    "    pE_pLSD /= meV\n",
    "    # print pE_pLSD\n",
    "\n",
    "    # we don't need pE_pLSD, instead we need pE_pR and pE_pz. R and z are cylinder radius and z coordinate\n",
    "    pE_pR = pE_pLSD * (R/L_SD)\n",
    "    pE_pz = pE_pLSD * (z/L_SD)\n",
    "    # print pE_pR, pE_pz\n",
    "\n",
    "    # XXXXXXXXXXXXXXXXXXXXXXXXXXXXXXXXXXXXXXXXXXXXXXXXXX\n",
    "    # ## ** Paramters: Estimate of standard deviations\n",
    "    # tau_P = 10 # microsecond\n",
    "    # tau_M = 8 # microsecond\n",
    "    tau_P = tofwidths.P\n",
    "    tau_M = tofwidths.M\n",
    "    #\n",
    "    # tau_D = 10 # microsecond\n",
    "    tau_D = mcvine.units.parse(pixel.radius)/mcvine.units.meter*2/vf*1e6 # microsecond\n",
    "\n",
    "    # ## Calculations\n",
    "    pE_p_vec = [pE_pt, pE_ptMD, pE_pLPM, pE_pLMS, pE_pR, pE_pz]\n",
    "    pE_p_vec = np.array(pE_p_vec)\n",
    "    J_E = pE_p_vec/E\n",
    "\n",
    "    # print J_E\n",
    "    sigma_t = (tau_P**2+tau_M**2)**.5\n",
    "    sigma_tMD = (tau_M**2+tau_D**2)**.5\n",
    "    # XXXXXXXXXXXXXXXXXXXXXXXXXXXXXXXXXXXXXXXXXXXXXXXXXX\n",
    "    div = (beamdivs.theta**2 + beamdivs.phi**2)**.5  # a crude approx\n",
    "    sigma_LPM = L_PM * div*div\n",
    "\n",
    "    # mainly due to sample size\n",
    "    sigma_LMS = samplethickness\n",
    "\n",
    "    # mainly due to det tube diameter\n",
    "    sigma_R = mcvine.units.parse(pixel.radius)/mcvine.units.meter*2\n",
    "\n",
    "    # pixel size\n",
    "    sigma_z = mcvine.units.parse(pixel.height)/mcvine.units.meter\n",
    "\n",
    "    sigma = np.array([sigma_t, sigma_tMD, sigma_LPM, sigma_LMS, sigma_R, sigma_z])\n",
    "    # print sigma\n",
    "    sigma2 = sigma*sigma\n",
    "    # print sigma2\n",
    "    sigma2 = np.diag(sigma2)\n",
    "\n",
    "    # print J_E\n",
    "    # print np.dot(sigma2, J_E)\n",
    "    cov = np.dot(J_E, np.dot(sigma2, J_E))\n",
    "\n",
    "    # print cov, np.sqrt(cov)\n",
    "    sigma_E = E*np.sqrt(cov)\n",
    "    # print sigma_E\n",
    "\n",
    "    # Not sure if this is right:\n",
    "    # \n",
    "    # * ** Note: this may be more like FWHM than sigma_E because of the approx I made **\n",
    "    # * ** FWHM is 2.355 sigma **\n",
    "\n",
    "    # ## Include Q\n",
    "    print \"ti=\",ti\n",
    "    tf = L_SD/vf*1e6; print \"tf=\",tf\n",
    "    thetai = 0\n",
    "    phii = 0\n",
    "    print \"R=\", R\n",
    "    print \"Q=\", Q\n",
    "\n",
    "    eeta = np.arctan2(kfv[1], kfv[0])\n",
    "    print \"eeta=\", eeta\n",
    "\n",
    "    pQx_pt = -m/hbar*(L_PM/ti/ti/mus/mus*cos(thetai)*cos(phii)\n",
    "                      +R/tf/tf/mus/mus*L_MS/L_PM*cos(eeta))\n",
    "    pQx_pt/=1./AA/mus\n",
    "    # print pQx_pt\n",
    "\n",
    "    pQx_ptMD = m/hbar * R/tf/tf * cos(eeta) / mus/mus\n",
    "    pQx_ptMD /= 1./AA/mus\n",
    "    # print pQx_ptMD\n",
    "\n",
    "    pQx_pLPM = m/hbar *(cos(thetai) * cos(phii)/ti + ti/tf/tf * R*L_MS/L_PM/L_PM * cos(eeta)) / mus\n",
    "    pQx_pLPM /= 1./AA\n",
    "    # print pQx_pLPM\n",
    "\n",
    "    pQx_pLMS = -m/hbar * R/tf/tf*ti/L_PM*cos(eeta) / mus\n",
    "    pQx_pLMS /= 1./AA\n",
    "    # print pQx_pLMS\n",
    "\n",
    "    pQx_pR = -m/hbar/tf*cos(eeta) / mus\n",
    "    pQx_pR /= 1./AA\n",
    "    # print pQx_pR\n",
    "\n",
    "    pQx_peeta = m/hbar * R/tf*sin(eeta) /mus\n",
    "    pQx_peeta /= 1./AA\n",
    "    # print pQx_peeta\n",
    "\n",
    "    pQx_pthetai = -m/hbar*L_PM/ti*sin(thetai)*cos(phii)/mus\n",
    "    pQx_pthetai/=1./AA\n",
    "    # print pQx_pthetai\n",
    "\n",
    "    pQx_pphii = -m/hbar*L_PM/ti*cos(thetai)*sin(phii)/mus\n",
    "    pQx_pphii/=1./AA\n",
    "    # print pQx_pphii\n",
    "\n",
    "    pQx_p_vec = [pQx_pt, pQx_ptMD, pQx_pLPM, pQx_pLMS, pQx_pR, 0, pQx_peeta, pQx_pthetai, pQx_pphii]\n",
    "    pQx_p_vec = np.array(pQx_p_vec)\n",
    "    J_Qx = pQx_p_vec/Q_len\n",
    "\n",
    "    # **Qy**\n",
    "    pQy_pt = -m/hbar*(L_PM/ti/ti*sin(thetai)*cos(phii)+R/tf/tf*L_MS/L_PM*sin(eeta))/mus/mus\n",
    "    pQy_pt/=1./AA/mus\n",
    "    # print pQy_pt\n",
    "\n",
    "    pQy_ptMD = m/hbar * R/tf/tf * sin(eeta) / mus/mus\n",
    "    pQy_ptMD /= 1./AA/mus\n",
    "    # print pQy_ptMD\n",
    "\n",
    "    pQy_pLPM = m/hbar *(sin(thetai) * cos(phii)/ti \n",
    "                        + ti/tf/tf * R*L_MS/L_PM/L_PM * sin(eeta)) / mus\n",
    "    pQy_pLPM /= 1./AA\n",
    "    # print pQy_pLPM\n",
    "\n",
    "    pQy_pLMS = -m/hbar * R/tf/tf*ti/L_PM*sin(eeta) / mus\n",
    "    pQy_pLMS /= 1./AA\n",
    "    # print pQy_pLMS\n",
    "\n",
    "    pQy_pR = -m/hbar/tf*sin(eeta) / mus\n",
    "    pQy_pR /= 1./AA\n",
    "    # print pQy_pR\n",
    "\n",
    "    pQy_peeta = -m/hbar * R/tf*cos(eeta) /mus\n",
    "    pQy_peeta /= 1./AA\n",
    "    # print pQy_peeta\n",
    "\n",
    "    pQy_pthetai = m/hbar*L_PM/ti*cos(thetai)*cos(phii)/mus\n",
    "    pQy_pthetai/=1./AA\n",
    "    # print pQy_pthetai\n",
    "\n",
    "    pQy_pphii = -m/hbar*L_PM/ti*sin(thetai)*sin(phii)/mus\n",
    "    pQy_pphii/=1./AA\n",
    "    # print pQy_pphii\n",
    "\n",
    "    pQy_p_vec = [pQy_pt, pQy_ptMD, pQy_pLPM, pQy_pLMS, pQy_pR, 0, pQy_peeta, pQy_pthetai, pQy_pphii]\n",
    "    pQy_p_vec = np.array(pQy_p_vec)\n",
    "    J_Qy = pQy_p_vec/Q_len\n",
    "\n",
    "    # ** Qz **\n",
    "    pQz_pt = -m/hbar*(L_PM/ti/ti*sin(phii)+z/tf/tf*L_MS/L_PM)/mus/mus\n",
    "    pQz_pt/=1./AA/mus\n",
    "    # print pQz_pt\n",
    "\n",
    "    pQz_ptMD = m/hbar * z/tf/tf /mus/mus\n",
    "    pQz_ptMD /= 1./AA/mus\n",
    "    # print pQz_ptMD\n",
    "\n",
    "    pQz_pLPM = m/hbar *(sin(phii)/ti + ti/tf/tf * z*L_MS/L_PM/L_PM) / mus\n",
    "    pQz_pLPM /= 1./AA\n",
    "    # print pQz_pLPM\n",
    "\n",
    "    pQz_pLMS = -m/hbar * z/tf/tf*ti/L_PM / mus\n",
    "    pQz_pLMS /= 1./AA\n",
    "    # print pQz_pLMS\n",
    "\n",
    "    pQz_pz = -m/hbar/tf / mus\n",
    "    pQz_pz/=1./AA\n",
    "    # print pQz_pz\n",
    "\n",
    "    pQz_pphii = m/hbar*L_PM/ti*cos(phii)/mus\n",
    "    print \"m,hbar,L_PM,ti,phii,mus=\", m,hbar,L_PM,ti,phii,mus\n",
    "    pQz_pphii/=1./AA\n",
    "    print \"pQz_pphii=\", pQz_pphii\n",
    "\n",
    "    pQz_p_vec = [pQz_pt, pQz_ptMD, pQz_pLPM, pQz_pLMS, 0, pQz_pz, 0, 0, pQz_pphii]\n",
    "    pQz_p_vec = np.array(pQz_p_vec)\n",
    "    J_Qz = pQz_p_vec/Q_len\n",
    "\n",
    "    # ** Here we need to extend the J vector for E to include the additional variables eeta, thetai, and phii **\n",
    "    pE_p_vec = [pE_pt, pE_ptMD, pE_pLPM, pE_pLMS, pE_pR, pE_pz,0,0,0]\n",
    "    pE_p_vec = np.array(pE_p_vec)\n",
    "    J_E = pE_p_vec/E\n",
    "    J = np.array( (J_Qx, J_Qy, J_Qz, J_E) )\n",
    "    print \"J=\"\n",
    "    print J\n",
    "\n",
    "    # ## ** Parameters\n",
    "    sigma_eeta = mcvine.units.parse(pixel.radius)/mcvine.units.parse(instrument.detsys_radius)\n",
    "    # sigma_thetai = 0.01\n",
    "    sigma_thetai = beamdivs.theta\n",
    "    # sigma_phii = 0.01\n",
    "    sigma_phii = beamdivs.phi\n",
    "    sigma = np.array([sigma_t, sigma_tMD, sigma_LPM, sigma_LMS, sigma_R, sigma_z, sigma_eeta, sigma_thetai, sigma_phii])\n",
    "    sigma2 = sigma**2\n",
    "    sigma2 = np.diag(sigma2)\n",
    "\n",
    "    # print J.shape, sigma2.shape\n",
    "    cov = np.dot(J, np.dot(sigma2, J.T))\n",
    "    print 'cov=', cov\n",
    "\n",
    "    M = np.linalg.inv(cov)\n",
    "    print 'M=', M\n",
    "\n",
    "    np.dot(cov, M)\n",
    "\n",
    "    # ## Ellipsoid\n",
    "    # hkl = hkl0+hkl_dir*x\n",
    "    # dh,dk,dl = dx2dhkl*dx \n",
    "    dx2dhkl = np.array(hkl_dir)\n",
    "    print \"dx2dhkl=\", dx2dhkl\n",
    "    # dQ = dx * dx2dhkl dot hkl2Q\n",
    "    # so dx2dQ = dx2dhkl * hkl2Q\n",
    "    # dQ = dx * dx2dQ\n",
    "    dx2dQ = np.dot(dx2dhkl, hkl2Q_mat)\n",
    "    print \"hkl2Q_mat=\", hkl2Q_mat\n",
    "    print \"dx2dQ=\", dx2dQ\n",
    "\n",
    "    # [dQx,dQy,dQz,dE] = [dx dE] dot dxdE2dQdE\n",
    "    L=dxdE2dQdE = np.array([list(dx2dQ) + [0],  \n",
    "                            [ 0.        ,  0.,          0.,  1]\n",
    "                            ])\n",
    "    print \"L=\", L\n",
    "\n",
    "    np.dot([1,1], dxdE2dQdE)\n",
    "\n",
    "    # $ [dX1,\\; dX2,\\; dX3,\\; dX4]\\; M\\; [dX1,\\; dX2,\\; dX3,\\; dX4 ]^T = 2ln(2)$\n",
    "    # \n",
    "    # $ dX_i = \\frac{dQ_i}{|Q|}$ for i = 1,2,3\n",
    "    # \n",
    "    # $ dX_4 = \\frac{dE}{E}$\n",
    "    # \n",
    "    # Let \n",
    "    # $ U = diag\\big( \\frac{1}{|Q|},\\; \\frac{1}{|Q|},\\; \\frac{1}{|Q|},\\; 1/E \\big) $\n",
    "    # \n",
    "    # $ [dx,\\; dE]\\; L U MU^TL^T [dx,\\; dE ]^T = 2ln(2)$\n",
    "    # \n",
    "    # Let $N=L U MU^TL^T $\n",
    "    # print Q_len, E\n",
    "    U = np.diag([1./Q_len, 1./Q_len, 1./Q_len, 1./E])\n",
    "    N = LUMUTLT = np.dot(L, np.dot(U, np.dot(M, np.dot(U.T, L.T))))\n",
    "    print \"N=\",N\n",
    "    # print 2*np.log(2)\n",
    "    r = np.linalg.eig(N)\n",
    "    mR = r[1]; lambdas = r[0]\n",
    "    # print np.dot(mR, mR.T)\n",
    "    np.dot(np.dot(mR.T, N), mR)\n",
    "\n",
    "    # $ u = [dx,\\;dE]$\n",
    "    # \n",
    "    # $ u N u^T = 2ln(2)$        .... (1)\n",
    "    # \n",
    "    # Find eigen values ($\\lambda_1$, $\\lambda_2$) and eigne vectors ($e_1$, $e_2$, column vectors) of N,\n",
    "    # and let \n",
    "    # \n",
    "    # $ R = [e_1,\\;e_2] $\n",
    "    # \n",
    "    # Then\n",
    "    # \n",
    "    # $ N' = R^T N R = diag([\\lambda_1, \\lambda_2]) $\n",
    "    # \n",
    "    # or\n",
    "    # \n",
    "    # $ N = R N' R^T $\n",
    "    # \n",
    "    # With $N'$ we can rewrite (1) as\n",
    "    # \n",
    "    # $ u'N'{u'}^T = 2ln2 = \\lambda_1 {u'}_1^2 + \\lambda_2 {u'}_2^2 $\n",
    "    # \n",
    "    # where\n",
    "    # \n",
    "    # $ u' = u . R $\n",
    "\n",
    "    # ${u'}_1 = \\sqrt{2ln2/\\lambda_1}*cos(\\theta)$\n",
    "    # \n",
    "    # ${u'}_2 = \\sqrt{2ln2/\\lambda_2}*sin(\\theta)$\n",
    "\n",
    "    # In[ ]:\n",
    "\n",
    "    RR = 2*np.log(2)\n",
    "    theta = np.arange(0, 360, 1.)*np.pi/180\n",
    "    u1p = np.sqrt(RR/lambdas[0])*np.cos(theta)\n",
    "    u2p = np.sqrt(RR/lambdas[1])*np.sin(theta)\n",
    "    up = np.array([u1p, u2p]).T\n",
    "\n",
    "    # print up.shape\n",
    "    u = np.dot(up, mR.T)\n",
    "\n",
    "    if plot:\n",
    "        from matplotlib import pyplot as plt\n",
    "        plt.plot(u[:,0], u[:,1], '.')\n",
    "        # plt.xlim(-.35, .1)\n",
    "        # plt.ylim(-5., 5.)\n",
    "        plt.show()\n",
    "    # ellipsoid coordinates, eigen vectors and eigen values of the scaled inverse covariance\n",
    "    return dict(u=u, mR=mR, lambdas=lambdas, cov=cov)"
   ]
  },
  {
   "cell_type": "code",
   "execution_count": 13,
   "metadata": {
    "collapsed": false,
    "scrolled": true
   },
   "outputs": [
    {
     "name": "stdout",
     "output_type": "stream",
     "text": [
      "XXXXXXXXXXXXXXXXXXXXXXX\n",
      "126 [-0.95492966  0.          0.        ] -51.8030461602 -5 90.0\n",
      "psi=6.75090167372, Q=[ 0.70531815 -5.95839964  0.        ]\n",
      "hkl2Q=array([[-0.73860744,  6.23962151,  0.        ],\n",
      "       [ 0.        ,  0.        ,  6.28318531],\n",
      "       [ 6.23962151,  0.73860744,  0.        ]])\n",
      "(Q = hkl dot hkl2Q)\n",
      "psi=6.75090167372 degree\n",
      "psi=0.117825461685 radian\n",
      "6.0\n",
      "7.79789939468\n",
      "[ 7.09258124  5.95839964  0.        ]\n",
      "ti= 2364.69322632\n",
      "tf= 514.374601753\n",
      "R= 3.0\n",
      "Q= [ 0.70531815 -5.95839964  0.        ]\n",
      "eeta= 0.698712016726\n",
      "m,hbar,L_PM,ti,phii,mus= 1.675e-27 1.0545718e-34 11.61 2364.69322632 0 1e-06\n",
      "pQz_pphii= 7.79823053697\n",
      "J=\n",
      "[[ -9.43553844e-04   2.29822209e-03   1.92180481e-01  -4.68095625e-01\n",
      "   -3.94049024e-01   0.00000000e+00   9.93108778e-01  -0.00000000e+00\n",
      "   -0.00000000e+00]\n",
      " [ -3.30931541e-04   1.93071115e-03   6.74032362e-02  -3.93241996e-01\n",
      "   -3.31036259e-01   0.00000000e+00  -1.18214707e+00   1.29970509e+00\n",
      "   -0.00000000e+00]\n",
      " [ -0.00000000e+00   0.00000000e+00   0.00000000e+00  -0.00000000e+00\n",
      "    0.00000000e+00  -5.14645158e-01   0.00000000e+00   0.00000000e+00\n",
      "    1.29970509e+00]\n",
      " [  4.34481826e-03  -1.33460322e-02  -8.84940767e-01   2.71828354e+00\n",
      "    2.28828666e+00   0.00000000e+00  -0.00000000e+00  -0.00000000e+00\n",
      "   -0.00000000e+00]]\n",
      "cov= [[ 0.00070249  0.00048272  0.         -0.00380101]\n",
      " [ 0.00048272  0.00059208  0.         -0.00286373]\n",
      " [ 0.          0.          0.00018509  0.        ]\n",
      " [-0.00380101 -0.00286373  0.          0.02126342]]\n",
      "M= [[ 52912.44193927   7484.84923404     -0.          10466.5916137 ]\n",
      " [  7484.84923404   5903.91664002      0.           2133.11138567]\n",
      " [     0.              0.           5402.8038421       0.        ]\n",
      " [ 10466.5916137    2133.11138567      0.           2205.30466194]]\n",
      "dx2dhkl= [ 1.  0.  0.]\n",
      "hkl2Q_mat= [[-0.73860744  6.23962151  0.        ]\n",
      " [ 0.          0.          6.28318531]\n",
      " [ 6.23962151  0.73860744  0.        ]]\n",
      "dx2dQ= [-0.73860744  6.23962151  0.        ]\n",
      "L= [[-0.73860744  6.23962151  0.          0.        ]\n",
      " [ 0.          0.          0.          1.        ]]\n",
      "N= [[  5.27034854e+03  -1.79497335e+01]\n",
      " [ -1.79497335e+01   8.21784601e-01]]\n"
     ]
    },
    {
     "name": "stderr",
     "output_type": "stream",
     "text": [
      "/SNS/software/miniconda2/envs/mcvine-unstable/share/mcvine/workflow/mcvine_workflow/singlextal/solve_psi.py:55: UserWarning: Traceback (most recent call last):\n",
      "  File \"/SNS/software/miniconda2/envs/mcvine-unstable/share/mcvine/workflow/mcvine_workflow/singlextal/solve_psi.py\", line 52, in solve\n",
      "    results.append(solver(res, min, max))\n",
      "  File \"/SNS/software/miniconda2/envs/mcvine-unstable/lib/python2.7/site-packages/scipy/optimize/zeros.py\", line 442, in brentq\n",
      "    r = _zeros._brentq(f,a,b,xtol,rtol,maxiter,args,full_output,disp)\n",
      "ValueError: f(a) and f(b) must have different signs\n",
      "\n",
      "  warnings.warn(tb.format_exc())\n"
     ]
    },
    {
     "data": {
      "image/png": "[encoded data removed]",
      "text/plain": [
       "<matplotlib.figure.Figure at 0x7f7efed06bd0>"
      ]
     },
     "metadata": {},
     "output_type": "display_data"
    },
    {
     "name": "stdout",
     "output_type": "stream",
     "text": [
      "CPU times: user 414 ms, sys: 657 ms, total: 1.07 s\n",
      "Wall time: 664 ms\n"
     ]
    }
   ],
   "source": [
    "%%time\n",
    "tofwidths = use_covmat.tofwidths(P=10, M=8)\n",
    "beamdivs = use_covmat.beamdivs(theta=0.01, phi=0.01)\n",
    "samplethickness = 0.001\n",
    "# ellipsoid_trace, mR, lambdas = use_covmat.compute(\n",
    "cm_res = compute(\n",
    "    sampleyml, Ei, dynamics, scan,\n",
    "    instrument, pixel,\n",
    "    tofwidths, beamdivs, samplethickness,\n",
    "    plot=True)\n",
    "ellipsoid_trace = cm_res['u']"
   ]
  },
  {
   "cell_type": "markdown",
   "metadata": {},
   "source": [
    "# Use Res Comps"
   ]
  },
  {
   "cell_type": "code",
   "execution_count": 14,
   "metadata": {
    "collapsed": false
   },
   "outputs": [
    {
     "name": "stdout",
     "output_type": "stream",
     "text": [
      "240459\r\n"
     ]
    }
   ],
   "source": [
    "!mcvine-neutron-storage-count-neutrons /SNS/users/p63/ORNL_public_research/MCViNE_Covmat_comparison/mcvine_resolution/beams/beam_125_1e9/out/neutrons"
   ]
  },
  {
   "cell_type": "code",
   "execution_count": 15,
   "metadata": {
    "collapsed": true
   },
   "outputs": [],
   "source": [
    "rm -rf out.res_comps_tmp/"
   ]
  },
  {
   "cell_type": "code",
   "execution_count": 16,
   "metadata": {
    "collapsed": false
   },
   "outputs": [
    {
     "name": "stdout",
     "output_type": "stream",
     "text": [
      "Ei=126.211753632, t0=16.0728240277\n",
      "Computed:\n",
      "* psi=6.74520975278 degree\n",
      "* Q=[ 0.70472623 -5.95846968  0.        ]\n",
      "* hkl2Qmat=[[-0.73798758  6.23969486  0.        ]\n",
      " [ 0.          0.          6.28318531]\n",
      " [ 6.23969486  0.73798758  0.        ]]\n",
      "* ki=7.80444915794\n",
      "* vectors ki=[ 7.80444916  0.          0.        ], kf=[ 7.09972293  5.95846968  0.        ]\n",
      "These two numbers should be very close:\n",
      "  -51.8030461602\n",
      "  -51.8030461602\n",
      "  Ei=126.211753632, Ef=178.014799792\n",
      "* Ef=178.014799792\n",
      "* pixel positon=[ 2.29795884  1.92857076  0.        ]\n",
      "* pixel_position=[ 2.29795884  1.92857076  0.        ]\n",
      "t_m2s=0.00278375914959, t_s2p=0.000514068579162, t_m2p=0.00329782772875\n"
     ]
    }
   ],
   "source": [
    "beam = \"/SNS/users/p63/ORNL_public_research/MCViNE_Covmat_comparison/mcvine_resolution/beams/beam_125_1e9\"\n",
    "psi_axis = scan\n",
    "use_res_comps.setup(\n",
    "    'out.res_comps_tmp', sampleyml, beam, dynamics.E, dynamics.hkl0, dynamics.hkl_dir,\n",
    "    psi_axis, instrument, pixel)"
   ]
  },
  {
   "cell_type": "code",
   "execution_count": 17,
   "metadata": {
    "collapsed": false
   },
   "outputs": [
    {
     "name": "stdout",
     "output_type": "stream",
     "text": [
      "run.py  \u001b[0m\u001b[01;34msample\u001b[0m/\r\n"
     ]
    }
   ],
   "source": [
    "ls out.res_comps_tmp/"
   ]
  },
  {
   "cell_type": "code",
   "execution_count": 18,
   "metadata": {
    "collapsed": false
   },
   "outputs": [
    {
     "name": "stdout",
     "output_type": "stream",
     "text": [
      "#!/usr/bin/env python\r\n",
      "import mcvine.cli\r\n",
      "from numpy import array\r\n",
      "from mcvine_workflow.singlextal.resolution import use_res_comps as urc\r\n",
      "beam_neutrons_path = '/SNS/users/p63/ORNL_public_research/MCViNE_Covmat_comparison/mcvine_resolution/beams/beam_125_1e9/out/neutrons'\r\n",
      "instrument = urc.instrument('ARCS', '3.*meter', '13.6*meter', '-0.15*meter')\r\n",
      "samplexmlpath = '/SNS/users/lj7/simulations/ARCS/resolution-fit-covmat/7-check-bad-points-2/out.res_comps_tmp/sample/sampleassembly.xml'\r\n",
      "psi = 0.11772611892360563\r\n",
      "hkl2Q = array([[-0.73798758,  6.23969486,  0.        ],\r\n",
      "       [ 0.        ,  0.        ,  6.28318531],\r\n",
      "       [ 6.23969486,  0.73798758,  0.        ]])\r\n",
      "pp = array([ 2.29795884,  1.92857076,  0.        ])\r\n",
      "pixel = urc.pixel('0.5*inch', 'meter/128', '10*atm', position=(pp[1], pp[2], pp[0]))\r\n",
      "t_m2p = 0.0032978277287488969\r\n",
      "Q = array([ 0.70472623, -5.95846968,  0.        ])\r\n",
      "E = -51.80304616018887\r\n",
      "hkl_projection = array([ 1.,  0.,  0.])\r\n",
      "urc.run(\r\n",
      "    beam_neutrons_path, instrument, samplexmlpath, psi, hkl2Q, pixel, t_m2p,\r\n",
      "    Q, E, hkl_projection, Nbuffer=100000)\r\n"
     ]
    }
   ],
   "source": [
    "cat out.res_comps_tmp/run.py"
   ]
  },
  {
   "cell_type": "code",
   "execution_count": 19,
   "metadata": {
    "collapsed": false
   },
   "outputs": [
    {
     "name": "stdout",
     "output_type": "stream",
     "text": [
      "/SNS/users/lj7/simulations/ARCS/resolution-fit-covmat/7-check-bad-points-2/out.res_comps_tmp\n",
      "/SNS/software/miniconda2/envs/mcvine-unstable/lib/python2.7/site-packages/mcni/SimulationContext.py:39: UserWarning: output directory was not set\n",
      "  warnings.warn(\"output directory was not set\")\n",
      "/SNS/users/lj7/simulations/ARCS/resolution-fit-covmat/7-check-bad-points-2\n",
      "CPU times: user 606 ms, sys: 205 ms, total: 811 ms\n",
      "Wall time: 29.1 s\n"
     ]
    }
   ],
   "source": [
    "%%time\n",
    "%cd {workdir}/out.res_comps_tmp/\n",
    "!python run.py >log.run\n",
    "%cd {workdir}"
   ]
  },
  {
   "cell_type": "code",
   "execution_count": 20,
   "metadata": {
    "collapsed": false
   },
   "outputs": [
    {
     "name": "stdout",
     "output_type": "stream",
     "text": [
      "dEs.npy  dhkls.npy  dxs.npy  log.run  probs.npy  res.h5  run.py  \u001b[0m\u001b[01;34msample\u001b[0m/\r\n"
     ]
    }
   ],
   "source": [
    "ls out.res_comps_tmp/"
   ]
  },
  {
   "cell_type": "markdown",
   "metadata": {},
   "source": [
    "## Get mcvine-simulated data"
   ]
  },
  {
   "cell_type": "code",
   "execution_count": 21,
   "metadata": {
    "collapsed": true
   },
   "outputs": [],
   "source": [
    "dhkls = np.load('out.res_comps_tmp/dhkls.npy')\n",
    "dEs = np.load('out.res_comps_tmp/dEs.npy')\n",
    "probs = np.load('out.res_comps_tmp/probs.npy')"
   ]
  },
  {
   "cell_type": "code",
   "execution_count": 22,
   "metadata": {
    "collapsed": false
   },
   "outputs": [],
   "source": [
    "dhs,dks,dls = dhkls.T"
   ]
  },
  {
   "cell_type": "markdown",
   "metadata": {},
   "source": [
    "## get slice of resolution "
   ]
  },
  {
   "cell_type": "code",
   "execution_count": 23,
   "metadata": {
    "collapsed": false
   },
   "outputs": [],
   "source": [
    "mask=(dls<0.02)*(dls>-0.02)*(dks<0.02)*(dks>-0.02)\n",
    "\n",
    "hist, qedges, Eedges = np.histogram2d(\n",
    "    x=dhs[mask], y=dEs[mask], bins=(np.arange(-1, 1, 0.002), np.arange(-15,8,0.1)), weights=probs[mask])\n",
    "\n",
    "qaxis = H.axis('q', boundaries=qedges)\n",
    "Eaxis = H.axis('E', boundaries=Eedges)\n",
    "IqE = H.histogram('IqE', (qaxis, Eaxis), data=hist)"
   ]
  },
  {
   "cell_type": "code",
   "execution_count": 24,
   "metadata": {
    "collapsed": false
   },
   "outputs": [
    {
     "name": "stdout",
     "output_type": "stream",
     "text": [
      "plot z in (0.0, 15.4511366377)\n"
     ]
    },
    {
     "data": {
      "image/png": "[encoded data removed]",
      "text/plain": [
       "<matplotlib.figure.Figure at 0x7f7f04609b10>"
      ]
     },
     "metadata": {},
     "output_type": "display_data"
    },
    {
     "data": {
      "image/png": "[encoded data removed]",
      "text/plain": [
       "<matplotlib.figure.Figure at 0x7f7f5cf530d0>"
      ]
     },
     "metadata": {},
     "output_type": "display_data"
    }
   ],
   "source": [
    "H.plot(IqE)"
   ]
  },
  {
   "cell_type": "code",
   "execution_count": 26,
   "metadata": {
    "collapsed": false
   },
   "outputs": [
    {
     "data": {
      "text/plain": [
       "[<matplotlib.lines.Line2D at 0x7f7f5c43bcd0>]"
      ]
     },
     "execution_count": 26,
     "metadata": {},
     "output_type": "execute_result"
    },
    {
     "data": {
      "image/png": "[encoded data removed]",
      "text/plain": [
       "<matplotlib.figure.Figure at 0x7f7f5c43b890>"
      ]
     },
     "metadata": {},
     "output_type": "display_data"
    }
   ],
   "source": [
    "qgrid, Egrid = np.mgrid[\n",
    "    IqE.q[0] : IqE.q[-1]+1e-10 : IqE.q[1]-IqE.q[0],\n",
    "    IqE.E[0] : IqE.E[-1]+1e-10 : IqE.E[1]-IqE.E[0]\n",
    "]\n",
    "plt.pcolormesh(qgrid, Egrid, IqE.I)\n",
    "plt.clim(0, 10)\n",
    "plt.plot(ellipsoid_trace[:,0], ellipsoid_trace[:,1])"
   ]
  },
  {
   "cell_type": "code",
   "execution_count": null,
   "metadata": {
    "collapsed": true
   },
   "outputs": [],
   "source": []
  },
  {
   "cell_type": "markdown",
   "metadata": {
    "collapsed": true
   },
   "source": [
    "# Plot along xyz directions"
   ]
  },
  {
   "cell_type": "code",
   "execution_count": 29,
   "metadata": {
    "collapsed": false
   },
   "outputs": [
    {
     "name": "stdout",
     "output_type": "stream",
     "text": [
      "XXXXXXXXXXXXXXXXXXXXXXX\n",
      "126 [-0.95492966  0.          0.        ] -51.8030461602 -5 90.0\n",
      "psi=6.75090167372, Q=[ 0.70531815 -5.95839964  0.        ]\n",
      "hkl2Q=array([[-0.73860744,  6.23962151,  0.        ],\n",
      "       [ 0.        ,  0.        ,  6.28318531],\n",
      "       [ 6.23962151,  0.73860744,  0.        ]])\n",
      "(Q = hkl dot hkl2Q)\n",
      "psi=6.75090167372 degree\n",
      "psi=0.117825461685 radian\n",
      "6.0\n",
      "7.79789939468\n",
      "[ 7.09258124  5.95839964  0.        ]\n",
      "ti= 2364.69322632\n",
      "tf= 514.374601753\n",
      "R= 3.0\n",
      "Q= [ 0.70531815 -5.95839964  0.        ]\n",
      "eeta= 0.698712016726\n",
      "m,hbar,L_PM,ti,phii,mus= 1.675e-27 1.0545718e-34 11.61 2364.69322632 0 1e-06\n",
      "pQz_pphii= 7.79823053697\n",
      "J=\n",
      "[[ -9.43553844e-04   2.29822209e-03   1.92180481e-01  -4.68095625e-01\n",
      "   -3.94049024e-01   0.00000000e+00   9.93108778e-01  -0.00000000e+00\n",
      "   -0.00000000e+00]\n",
      " [ -3.30931541e-04   1.93071115e-03   6.74032362e-02  -3.93241996e-01\n",
      "   -3.31036259e-01   0.00000000e+00  -1.18214707e+00   1.29970509e+00\n",
      "   -0.00000000e+00]\n",
      " [ -0.00000000e+00   0.00000000e+00   0.00000000e+00  -0.00000000e+00\n",
      "    0.00000000e+00  -5.14645158e-01   0.00000000e+00   0.00000000e+00\n",
      "    1.29970509e+00]\n",
      " [  4.34481826e-03  -1.33460322e-02  -8.84940767e-01   2.71828354e+00\n",
      "    2.28828666e+00   0.00000000e+00  -0.00000000e+00  -0.00000000e+00\n",
      "   -0.00000000e+00]]\n",
      "cov= [[ 0.00070249  0.00048272  0.         -0.00380101]\n",
      " [ 0.00048272  0.00059208  0.         -0.00286373]\n",
      " [ 0.          0.          0.00018509  0.        ]\n",
      " [-0.00380101 -0.00286373  0.          0.02126342]]\n",
      "M= [[ 52912.44193927   7484.84923404     -0.          10466.5916137 ]\n",
      " [  7484.84923404   5903.91664002      0.           2133.11138567]\n",
      " [     0.              0.           5402.8038421       0.        ]\n",
      " [ 10466.5916137    2133.11138567      0.           2205.30466194]]\n",
      "dx2dhkl= [1 0 0]\n",
      "hkl2Q_mat= [[-0.73860744  6.23962151  0.        ]\n",
      " [ 0.          0.          6.28318531]\n",
      " [ 6.23962151  0.73860744  0.        ]]\n",
      "dx2dQ= [-0.73860744  6.23962151  0.        ]\n",
      "L= [[-0.73860744  6.23962151  0.          0.        ]\n",
      " [ 0.          0.          0.          1.        ]]\n",
      "N= [[  5.27034854e+03  -1.79497335e+01]\n",
      " [ -1.79497335e+01   8.21784601e-01]]\n",
      "XXXXXXXXXXXXXXXXXXXXXXX\n",
      "126 [-0.95492966  0.          0.        ] -51.8030461602 -5 90.0\n",
      "psi=6.75090167372, Q=[ 0.70531815 -5.95839964  0.        ]\n",
      "hkl2Q=array([[-0.73860744,  6.23962151,  0.        ],\n",
      "       [ 0.        ,  0.        ,  6.28318531],\n",
      "       [ 6.23962151,  0.73860744,  0.        ]])\n",
      "(Q = hkl dot hkl2Q)\n",
      "psi=6.75090167372 degree\n",
      "psi=0.117825461685 radian\n",
      "6.0\n",
      "7.79789939468\n",
      "[ 7.09258124  5.95839964  0.        ]\n",
      "ti= 2364.69322632\n",
      "tf= 514.374601753\n",
      "R= 3.0\n",
      "Q= [ 0.70531815 -5.95839964  0.        ]\n",
      "eeta= 0.698712016726\n",
      "m,hbar,L_PM,ti,phii,mus= 1.675e-27 1.0545718e-34 11.61 2364.69322632 0 1e-06\n",
      "pQz_pphii= 7.79823053697\n",
      "J=\n",
      "[[ -9.43553844e-04   2.29822209e-03   1.92180481e-01  -4.68095625e-01\n",
      "   -3.94049024e-01   0.00000000e+00   9.93108778e-01  -0.00000000e+00\n",
      "   -0.00000000e+00]\n",
      " [ -3.30931541e-04   1.93071115e-03   6.74032362e-02  -3.93241996e-01\n",
      "   -3.31036259e-01   0.00000000e+00  -1.18214707e+00   1.29970509e+00\n",
      "   -0.00000000e+00]\n",
      " [ -0.00000000e+00   0.00000000e+00   0.00000000e+00  -0.00000000e+00\n",
      "    0.00000000e+00  -5.14645158e-01   0.00000000e+00   0.00000000e+00\n",
      "    1.29970509e+00]\n",
      " [  4.34481826e-03  -1.33460322e-02  -8.84940767e-01   2.71828354e+00\n",
      "    2.28828666e+00   0.00000000e+00  -0.00000000e+00  -0.00000000e+00\n",
      "   -0.00000000e+00]]\n",
      "cov= [[ 0.00070249  0.00048272  0.         -0.00380101]\n",
      " [ 0.00048272  0.00059208  0.         -0.00286373]\n",
      " [ 0.          0.          0.00018509  0.        ]\n",
      " [-0.00380101 -0.00286373  0.          0.02126342]]\n",
      "M= [[ 52912.44193927   7484.84923404     -0.          10466.5916137 ]\n",
      " [  7484.84923404   5903.91664002      0.           2133.11138567]\n",
      " [     0.              0.           5402.8038421       0.        ]\n",
      " [ 10466.5916137    2133.11138567      0.           2205.30466194]]\n",
      "dx2dhkl= [0 1 0]\n",
      "hkl2Q_mat= [[-0.73860744  6.23962151  0.        ]\n",
      " [ 0.          0.          6.28318531]\n",
      " [ 6.23962151  0.73860744  0.        ]]\n",
      "dx2dQ= [ 0.          0.          6.28318531]\n",
      "L= [[ 0.          0.          6.28318531  0.        ]\n",
      " [ 0.          0.          0.          1.        ]]\n",
      "N= [[  5.92483740e+03   0.00000000e+00]\n",
      " [  0.00000000e+00   8.21784601e-01]]\n",
      "XXXXXXXXXXXXXXXXXXXXXXX\n",
      "126 [-0.95492966  0.          0.        ] -51.8030461602 -5 90.0\n",
      "psi=6.75090167372, Q=[ 0.70531815 -5.95839964  0.        ]\n",
      "hkl2Q=array([[-0.73860744,  6.23962151,  0.        ],\n",
      "       [ 0.        ,  0.        ,  6.28318531],\n",
      "       [ 6.23962151,  0.73860744,  0.        ]])\n",
      "(Q = hkl dot hkl2Q)\n",
      "psi=6.75090167372 degree\n",
      "psi=0.117825461685 radian\n",
      "6.0\n",
      "7.79789939468\n",
      "[ 7.09258124  5.95839964  0.        ]\n",
      "ti= 2364.69322632\n",
      "tf= 514.374601753\n",
      "R= 3.0\n",
      "Q= [ 0.70531815 -5.95839964  0.        ]\n",
      "eeta= 0.698712016726\n",
      "m,hbar,L_PM,ti,phii,mus= 1.675e-27 1.0545718e-34 11.61 2364.69322632 0 1e-06\n",
      "pQz_pphii= 7.79823053697\n",
      "J=\n",
      "[[ -9.43553844e-04   2.29822209e-03   1.92180481e-01  -4.68095625e-01\n",
      "   -3.94049024e-01   0.00000000e+00   9.93108778e-01  -0.00000000e+00\n",
      "   -0.00000000e+00]\n",
      " [ -3.30931541e-04   1.93071115e-03   6.74032362e-02  -3.93241996e-01\n",
      "   -3.31036259e-01   0.00000000e+00  -1.18214707e+00   1.29970509e+00\n",
      "   -0.00000000e+00]\n",
      " [ -0.00000000e+00   0.00000000e+00   0.00000000e+00  -0.00000000e+00\n",
      "    0.00000000e+00  -5.14645158e-01   0.00000000e+00   0.00000000e+00\n",
      "    1.29970509e+00]\n",
      " [  4.34481826e-03  -1.33460322e-02  -8.84940767e-01   2.71828354e+00\n",
      "    2.28828666e+00   0.00000000e+00  -0.00000000e+00  -0.00000000e+00\n",
      "   -0.00000000e+00]]\n",
      "cov= [[ 0.00070249  0.00048272  0.         -0.00380101]\n",
      " [ 0.00048272  0.00059208  0.         -0.00286373]\n",
      " [ 0.          0.          0.00018509  0.        ]\n",
      " [-0.00380101 -0.00286373  0.          0.02126342]]\n",
      "M= [[ 52912.44193927   7484.84923404     -0.          10466.5916137 ]\n",
      " [  7484.84923404   5903.91664002      0.           2133.11138567]\n",
      " [     0.              0.           5402.8038421       0.        ]\n",
      " [ 10466.5916137    2133.11138567      0.           2205.30466194]]\n",
      "dx2dhkl= [0 0 1]\n",
      "hkl2Q_mat= [[-0.73860744  6.23962151  0.        ]\n",
      " [ 0.          0.          6.28318531]\n",
      " [ 6.23962151  0.73860744  0.        ]]\n",
      "dx2dQ= [ 6.23962151  0.73860744  0.        ]\n",
      "L= [[ 6.23962151  0.73860744  0.          0.        ]\n",
      " [ 0.          0.          0.          1.        ]]\n",
      "N= [[  5.92290061e+04  -2.15183942e+02]\n",
      " [ -2.15183942e+02   8.21784601e-01]]\n",
      "CPU times: user 131 ms, sys: 280 ms, total: 412 ms\n",
      "Wall time: 110 ms\n"
     ]
    }
   ],
   "source": [
    "%%time\n",
    "\"\"\"\n",
    "tofwidths = use_covmat.tofwidths(P=10, M=2)\n",
    "beamdivs = use_covmat.beamdivs(theta=0.05, phi=0.05)\n",
    "samplethickness = 0.0001\n",
    "instrument = use_covmat.instrument(\n",
    "    name = 'ARCS',\n",
    "    detsys_radius = \"3.*meter\",\n",
    "    L_m2s = \"11.7*meter\",\n",
    "    L_m2fc = \"11.61*meter\",\n",
    "    offset_sample2beam = \"-0.15*meter\" # offset from sample to saved beam\n",
    "    )\n",
    "pixel = use_covmat.pixel(\n",
    "    radius = \"0.5*inch\",\n",
    "    height = \"meter/128\",\n",
    "    pressure = \"10*atm\",\n",
    "    )\n",
    "\"\"\"\n",
    "unit_vectors = [[1,0,0], [0,1,0], [0,0,1]]\n",
    "axes = 'hkl'\n",
    "\n",
    "traces = []\n",
    "IqEs = []\n",
    "for axis_index, uv in enumerate(unit_vectors):\n",
    "    dynamics.hkl_dir = np.array(uv)\n",
    "    # ellipsoid_trace, mR, lambdas = use_covmat.compute(\n",
    "    cm_res = compute(\n",
    "        sampleyml, Ei, dynamics, scan,\n",
    "        instrument, pixel,\n",
    "        tofwidths, beamdivs, samplethickness,\n",
    "        plot=False)\n",
    "    ellipsoid_trace = cm_res['u']\n",
    "    traces.append(ellipsoid_trace)\n",
    "    \n",
    "    mask = True\n",
    "    for axis_index2, axis in enumerate(axes):\n",
    "        if axis_index2==axis_index: continue # skip the axis of interest\n",
    "        # print \"d%ss<0.02\"%axis, \"d%ss>-0.02\"%axis\n",
    "        mask *= eval(\"d%ss<0.001\"%axis)*eval(\"d%ss>-0.001\"%axis)\n",
    "        continue\n",
    "    # print mask.shape, mask.sum(), mask.dtype\n",
    "    dqs = eval(\"d%ss\" % axes[axis_index])\n",
    "    hist, qedges, Eedges = np.histogram2d(\n",
    "        x=dqs[mask], y=dEs[mask], bins=(np.arange(-1, 1, 0.002), np.arange(-15,8,0.1)), weights=probs[mask])\n",
    "    # hist, qedges, Eedges = np.histogram2d(\n",
    "    #    x=dqs, y=dEs, bins=(np.arange(-0.2, 0.2, 0.002), np.arange(-15,8,0.1)), weights=probs)\n",
    "    qaxis = H.axis('q', boundaries=qedges)\n",
    "    Eaxis = H.axis('E', boundaries=Eedges)\n",
    "    # print hist.sum()\n",
    "    IqE = H.histogram('IqE', (qaxis, Eaxis), data=hist)\n",
    "    IqEs.append(IqE)\n",
    "    continue"
   ]
  },
  {
   "cell_type": "code",
   "execution_count": 31,
   "metadata": {
    "collapsed": false
   },
   "outputs": [
    {
     "data": {
      "image/png": "[encoded data removed]",
      "text/plain": [
       "<matplotlib.figure.Figure at 0x7f7f5cd86150>"
      ]
     },
     "metadata": {},
     "output_type": "display_data"
    }
   ],
   "source": [
    "plt.figure(figsize=(15, 5))\n",
    "for i, (trace, IqE) in enumerate(zip(traces, IqEs)):\n",
    "    plt.subplot(1, 3, i+1)\n",
    "    qgrid, Egrid = np.mgrid[\n",
    "        IqE.q[0] : IqE.q[-1]+1e-10 : IqE.q[1]-IqE.q[0],\n",
    "        IqE.E[0] : IqE.E[-1]+1e-10 : IqE.E[1]-IqE.E[0]\n",
    "    ]\n",
    "    plt.pcolormesh(qgrid, Egrid, IqE.I)\n",
    "    #plt.clim(0, 1e-1)\n",
    "    plt.colorbar()\n",
    "    plt.plot(trace[:,0], trace[:,1])\n",
    "    plt.xlim(-0.07, 0.05)\n",
    "    plt.ylim(-15, 7)"
   ]
  },
  {
   "cell_type": "code",
   "execution_count": null,
   "metadata": {
    "collapsed": true
   },
   "outputs": [],
   "source": []
  },
  {
   "cell_type": "code",
   "execution_count": null,
   "metadata": {
    "collapsed": true
   },
   "outputs": [],
   "source": []
  }
 ],
 "metadata": {
  "kernelspec": {
   "display_name": "mcvine-unstable at jnrk-analysis",
   "language": "python",
   "name": "jnrk-analysis-mcvine-unstable"
  },
  "language_info": {
   "codemirror_mode": {
    "name": "ipython",
    "version": 2
   },
   "file_extension": ".py",
   "mimetype": "text/x-python",
   "name": "python",
   "nbconvert_exporter": "python",
   "pygments_lexer": "ipython2",
   "version": "2.7.12"
  }
 },
 "nbformat": 4,
 "nbformat_minor": 0
}
