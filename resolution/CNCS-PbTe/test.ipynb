{
 "cells": [
  {
   "cell_type": "code",
   "execution_count": 2,
   "metadata": {
    "collapsed": true
   },
   "outputs": [],
   "source": [
    "import mcvine"
   ]
  },
  {
   "cell_type": "code",
   "execution_count": 15,
   "metadata": {
    "collapsed": false
   },
   "outputs": [],
   "source": [
    "from mcvine_workflow.singlextal.resolution import _beam, use_res_comps"
   ]
  },
  {
   "cell_type": "code",
   "execution_count": 23,
   "metadata": {
    "collapsed": false
   },
   "outputs": [
    {
     "data": {
      "text/plain": [
       "<module 'mcvine_workflow.singlextal.resolution._beam' from '/home/lj7/dv/mcvine/export/share/mcvine/workflow/mcvine_workflow/singlextal/resolution/_beam.py'>"
      ]
     },
     "execution_count": 23,
     "metadata": {},
     "output_type": "execute_result"
    }
   ],
   "source": [
    "reload(_beam)"
   ]
  },
  {
   "cell_type": "code",
   "execution_count": 10,
   "metadata": {
    "collapsed": false
   },
   "outputs": [],
   "source": [
    "tof = _beam.getTof('/SNS/users/lj7/simulations/CNCS/AgBiSe2/resolution-try1/beam')"
   ]
  },
  {
   "cell_type": "code",
   "execution_count": 16,
   "metadata": {
    "collapsed": false
   },
   "outputs": [],
   "source": [
    "beam = \"/SNS/users/lj7/simulations/CNCS/AgBiSe2/resolution-try1/beam/\"\n",
    "psi_axis = -74, 50, 1\n",
    "instrument = use_res_comps.instrument(\n",
    "    name = 'CNCS',\n",
    "    detsys_radius = \"3.5*meter\",\n",
    "    L_m2s = \"36.264*meter\",\n",
    "    offset_sample2beam = \"-0.15*meter\" # offset from sample to saved beam\n",
    "    )\n",
    "pixel = use_res_comps.pixel(\n",
    "    radius = \"0.5*inch\",\n",
    "    height = \"2.*meter/128\",\n",
    "    pressure = \"6*atm\",\n",
    "    )"
   ]
  },
  {
   "cell_type": "code",
   "execution_count": 24,
   "metadata": {
    "collapsed": false
   },
   "outputs": [
    {
     "name": "stdout",
     "output_type": "stream",
     "text": [
      "15.1557796266 125.075700477\n"
     ]
    },
    {
     "data": {
      "text/plain": [
       "(15.1557796266, 125.07570047747343)"
      ]
     },
     "execution_count": 24,
     "metadata": {},
     "output_type": "execute_result"
    }
   ],
   "source": [
    "_beam.computeEi_and_t0('/SNS/users/lj7/simulations/CNCS/AgBiSe2/resolution-try1/beam', instrument)"
   ]
  },
  {
   "cell_type": "code",
   "execution_count": null,
   "metadata": {
    "collapsed": true
   },
   "outputs": [],
   "source": []
  }
 ],
 "metadata": {
  "kernelspec": {
   "display_name": "dev-mcvine",
   "language": "python",
   "name": "dev-mcvine"
  },
  "language_info": {
   "codemirror_mode": {
    "name": "ipython",
    "version": 2
   },
   "file_extension": ".py",
   "mimetype": "text/x-python",
   "name": "python",
   "nbconvert_exporter": "python",
   "pygments_lexer": "ipython2",
   "version": "2.7.12"
  }
 },
 "nbformat": 4,
 "nbformat_minor": 0
}
