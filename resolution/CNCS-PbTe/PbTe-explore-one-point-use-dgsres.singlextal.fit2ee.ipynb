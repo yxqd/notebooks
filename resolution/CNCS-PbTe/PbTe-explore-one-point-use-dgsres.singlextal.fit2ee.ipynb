{
 "cells": [
  {
   "cell_type": "markdown",
   "metadata": {},
   "source": [
    "# Summary\n",
    "* Purpose: Compute resolution functions for PbTe CNCS dataset.\n",
    "* Procedure:\n",
    "  - Simulate beam\n",
    "  - Prepare sample\n",
    "  - Simulate resolution\n",
    "* Ei=12meV\n",
    "* T=150K\n",
    "\n",
    "* sample cylinder radius=.5cm height=3.5cm at psi=0, the orientation of the axis is [-1,0,1] (x is beam, z is vertical up). u=002, v=220\n"
   ]
  },
  {
   "cell_type": "markdown",
   "metadata": {},
   "source": [
    "# Tools"
   ]
  },
  {
   "cell_type": "code",
   "execution_count": 2,
   "metadata": {
    "collapsed": false
   },
   "outputs": [
    {
     "data": {
      "text/plain": [
       "u'/SNS/users/lj7/simulations/CNCS/AgBiSe2'"
      ]
     },
     "execution_count": 2,
     "metadata": {},
     "output_type": "execute_result"
    }
   ],
   "source": [
    "pwd"
   ]
  },
  {
   "cell_type": "markdown",
   "metadata": {},
   "source": [
    "** Modify the workdir !!! **"
   ]
  },
  {
   "cell_type": "code",
   "execution_count": 3,
   "metadata": {
    "collapsed": false
   },
   "outputs": [
    {
     "name": "stdout",
     "output_type": "stream",
     "text": [
      "/SNS/users/lj7/simulations/CNCS/AgBiSe2/PbTe-try1\n"
     ]
    }
   ],
   "source": [
    "workdir = \"/SNS/users/lj7/simulations/CNCS/AgBiSe2/PbTe-try1/\"\n",
    "!mkdir -p {workdir}\n",
    "%cd {workdir}"
   ]
  },
  {
   "cell_type": "code",
   "execution_count": 4,
   "metadata": {
    "collapsed": true
   },
   "outputs": [],
   "source": [
    "# %matplotlib notebook\n",
    "%matplotlib inline\n",
    "from matplotlib import pyplot as plt\n",
    "import numpy as np, os, glob\n",
    "import histogram.hdf as hh, histogram as H"
   ]
  },
  {
   "cell_type": "code",
   "execution_count": 5,
   "metadata": {
    "collapsed": false
   },
   "outputs": [
    {
     "name": "stdout",
     "output_type": "stream",
     "text": [
      "/home/lj7/dv/mcvine/export/bin/mcvine\r\n"
     ]
    }
   ],
   "source": [
    "!which mcvine"
   ]
  },
  {
   "cell_type": "code",
   "execution_count": 6,
   "metadata": {
    "collapsed": true
   },
   "outputs": [],
   "source": [
    "import mcvine.cli"
   ]
  },
  {
   "cell_type": "code",
   "execution_count": 7,
   "metadata": {
    "collapsed": false
   },
   "outputs": [
    {
     "data": {
      "text/plain": [
       "<module 'dgsres.singlextal.use_res_comps' from '/home/lj7/dv/mcvine/export/lib/python2.7/site-packages/dgsres/singlextal/use_res_comps.pyc'>"
      ]
     },
     "execution_count": 7,
     "metadata": {},
     "output_type": "execute_result"
    }
   ],
   "source": [
    "from dgsres.singlextal import use_res_comps\n",
    "reload( use_res_comps )"
   ]
  },
  {
   "cell_type": "markdown",
   "metadata": {},
   "source": [
    "# Beam"
   ]
  },
  {
   "cell_type": "markdown",
   "metadata": {},
   "source": [
    "** NOTE: You can skip this section if there is existing beam simulation that you can reuse. Just make a symbolic link **"
   ]
  },
  {
   "cell_type": "code",
   "execution_count": 10,
   "metadata": {
    "collapsed": true
   },
   "outputs": [],
   "source": [
    "mkdir -p beam"
   ]
  },
  {
   "cell_type": "code",
   "execution_count": 10,
   "metadata": {
    "collapsed": false
   },
   "outputs": [
    {
     "name": "stdout",
     "output_type": "stream",
     "text": [
      "/SNS/users/lj7/simulations/CNCS/AgBiSe2/PbTe-try1/beam\n"
     ]
    }
   ],
   "source": [
    "cd {workdir}/beam/"
   ]
  },
  {
   "cell_type": "markdown",
   "metadata": {},
   "source": [
    "** Options for the beam simulation **"
   ]
  },
  {
   "cell_type": "code",
   "execution_count": 12,
   "metadata": {
    "collapsed": false
   },
   "outputs": [
    {
     "name": "stdout",
     "output_type": "stream",
     "text": [
      "\r\n",
      "Simulate CNCS beam and analyze the beam.\r\n",
      "\r\n",
      "Example:\r\n",
      "\r\n",
      " $ cncs_beam --E=5 --f1=60. --f2=60. --f3=60. --f41=300. --f42=300. --fluxmode=9.0 --ncount=1e8 --nodes=10\r\n",
      "\r\n",
      "For more details of cmd line parameters, run:\r\n",
      "\r\n",
      " $ cncs_beam --help-properties\r\n",
      "\r\n",
      "\r\n"
     ]
    }
   ],
   "source": [
    "!mcvine instruments cncs beam -h"
   ]
  },
  {
   "cell_type": "code",
   "execution_count": 15,
   "metadata": {
    "collapsed": true
   },
   "outputs": [],
   "source": [
    "# Ei=15, highflux mode"
   ]
  },
  {
   "cell_type": "code",
   "execution_count": 15,
   "metadata": {
    "collapsed": true
   },
   "outputs": [],
   "source": [
    "rm -rf *out* *.params log* *.pml run*.sh"
   ]
  },
  {
   "cell_type": "code",
   "execution_count": null,
   "metadata": {
    "collapsed": true,
    "scrolled": false
   },
   "outputs": [],
   "source": [
    "%%time\n",
    "!mcvine instruments cncs beam -E=12 -f1=60 -f2=60 -f3=60 -f41=300 -f42=300 -ncount=1e10 -fluxmode=9.0 -nodes=20 >log.sim"
   ]
  },
  {
   "cell_type": "code",
   "execution_count": 11,
   "metadata": {
    "collapsed": false
   },
   "outputs": [
    {
     "data": {
      "image/png": "[encoded data removed]",
      "text/plain": [
       "<matplotlib.figure.Figure at 0x7f61583c4d90>"
      ]
     },
     "metadata": {},
     "output_type": "display_data"
    }
   ],
   "source": [
    "H.plot(hh.load('out/ienergy.h5'))"
   ]
  },
  {
   "cell_type": "code",
   "execution_count": 24,
   "metadata": {
    "collapsed": false
   },
   "outputs": [
    {
     "data": {
      "image/png": "[encoded data removed]",
      "text/plain": [
       "<matplotlib.figure.Figure at 0x7f0d0d97ab90>"
      ]
     },
     "metadata": {},
     "output_type": "display_data"
    }
   ],
   "source": [
    "H.plot(hh.load('out/itof.h5')[(0.0238, 0.0241)])"
   ]
  },
  {
   "cell_type": "code",
   "execution_count": 12,
   "metadata": {
    "collapsed": false
   },
   "outputs": [
    {
     "name": "stdout",
     "output_type": "stream",
     "text": [
      "ienergy.h5  ix_divx.h5  ix_y.h5     iy_divy.h5  props.json\r\n",
      "itof.h5     ix_divy.h5  iy_divx.h5  neutrons    \u001b[0m\u001b[01;34mrank0-step0\u001b[0m/\r\n"
     ]
    }
   ],
   "source": [
    "ls out"
   ]
  },
  {
   "cell_type": "code",
   "execution_count": 26,
   "metadata": {
    "collapsed": false
   },
   "outputs": [
    {
     "name": "stdout",
     "output_type": "stream",
     "text": [
      "{'emission time': '136.433557079 microsecond', 'flux': '431587.101167 counts per 34kJ pulse', 'tof fwhm': '57.4412900376 microsecond', 'average tof': '23951.8666718 microsecond', 'average energy': '12.1196524 meV'}"
     ]
    }
   ],
   "source": [
    "cat out/props.json"
   ]
  },
  {
   "cell_type": "code",
   "execution_count": 30,
   "metadata": {
    "collapsed": false
   },
   "outputs": [
    {
     "name": "stdout",
     "output_type": "stream",
     "text": [
      "750346\r\n"
     ]
    }
   ],
   "source": [
    "!mcvine neutronstorage count out/neutrons"
   ]
  },
  {
   "cell_type": "markdown",
   "metadata": {},
   "source": [
    "# Sample"
   ]
  },
  {
   "cell_type": "code",
   "execution_count": 10,
   "metadata": {
    "collapsed": false
   },
   "outputs": [
    {
     "name": "stdout",
     "output_type": "stream",
     "text": [
      "/SNS/users/lj7/simulations/CNCS/AgBiSe2/PbTe-try1\n"
     ]
    }
   ],
   "source": [
    "cd {workdir}"
   ]
  },
  {
   "cell_type": "code",
   "execution_count": 10,
   "metadata": {
    "collapsed": false
   },
   "outputs": [
    {
     "name": "stdout",
     "output_type": "stream",
     "text": [
      "Overwriting sample.yaml\n"
     ]
    }
   ],
   "source": [
    "%%file sample.yaml\n",
    "name: PbTe\n",
    "chemical_formula: PbTe\n",
    "lattice: \n",
    " constants: 6.461, 6.461, 6.461, 90, 90, 90\n",
    " basis_vectors:\n",
    "  - 6.461, 0, 0\n",
    "  - 0, 6.461, 0\n",
    "  - 0, 0, 6.461\n",
    "excitations:\n",
    " - type: DGSresolution\n",
    "orientation:\n",
    " u: 0, 0, 2\n",
    " v: 2, 2, 0\n",
    "shape: |\n",
    "       <rotation angles=\"-45.*deg, 0.*deg, 0.*deg\">\n",
    "         <cylinder radius=\".5*cm\" height=\"3.5*cm\"/>\n",
    "       </rotation>\n",
    "temperature: 100*K"
   ]
  },
  {
   "cell_type": "code",
   "execution_count": 11,
   "metadata": {
    "collapsed": true
   },
   "outputs": [],
   "source": [
    "sampleyml = \"{workdir}/sample.yaml\".format(**locals())"
   ]
  },
  {
   "cell_type": "code",
   "execution_count": 12,
   "metadata": {
    "collapsed": false
   },
   "outputs": [
    {
     "name": "stdout",
     "output_type": "stream",
     "text": [
      "/SNS/users/lj7/simulations/CNCS/AgBiSe2/PbTe-try1//sample.yaml\n"
     ]
    }
   ],
   "source": [
    "print sampleyml"
   ]
  },
  {
   "cell_type": "markdown",
   "metadata": {},
   "source": [
    "# CNCS Instrument"
   ]
  },
  {
   "cell_type": "code",
   "execution_count": 13,
   "metadata": {
    "collapsed": true
   },
   "outputs": [],
   "source": [
    "beam = \"/SNS/users/lj7/simulations/CNCS/AgBiSe2/PbTe-try1/beam/\"\n",
    "instrument = use_res_comps.instrument(\n",
    "    name = 'CNCS',\n",
    "    detsys_radius = \"3.5*meter\",\n",
    "    L_m2s = \"36.264*meter\",\n",
    "    offset_sample2beam = \"-0.15*meter\" # offset from sample to saved beam\n",
    "    )\n",
    "pixel = use_res_comps.pixel(\n",
    "    radius = \"0.5*inch\",\n",
    "    height = \"2.*meter/128\",\n",
    "    pressure = \"6*atm\",\n",
    "    )"
   ]
  },
  {
   "cell_type": "markdown",
   "metadata": {},
   "source": [
    "# psi scan"
   ]
  },
  {
   "cell_type": "code",
   "execution_count": 14,
   "metadata": {
    "collapsed": true
   },
   "outputs": [],
   "source": [
    "class psi_scan:\n",
    "    min = -74.\n",
    "    max = 50.\n",
    "    step = 1."
   ]
  },
  {
   "cell_type": "markdown",
   "metadata": {},
   "source": [
    "# Try one point"
   ]
  },
  {
   "cell_type": "code",
   "execution_count": 7,
   "metadata": {
    "collapsed": false
   },
   "outputs": [
    {
     "name": "stdout",
     "output_type": "stream",
     "text": [
      "/SNS/users/lj7/simulations/CNCS/AgBiSe2/PbTe-try1\n"
     ]
    }
   ],
   "source": [
    "cd {workdir}"
   ]
  },
  {
   "cell_type": "markdown",
   "metadata": {},
   "source": [
    "** Define projection direction and starting point **"
   ]
  },
  {
   "cell_type": "code",
   "execution_count": 8,
   "metadata": {
    "collapsed": true
   },
   "outputs": [],
   "source": [
    "hkl_projection = np.array([1,1,0])"
   ]
  },
  {
   "cell_type": "code",
   "execution_count": 65,
   "metadata": {
    "collapsed": false
   },
   "outputs": [
    {
     "data": {
      "text/plain": [
       "array([0, 0, 4])"
      ]
     },
     "execution_count": 65,
     "metadata": {},
     "output_type": "execute_result"
    }
   ],
   "source": [
    "hkl0 = np.array([0,0,4])\n",
    "hkl0"
   ]
  },
  {
   "cell_type": "markdown",
   "metadata": {},
   "source": [
    "** Define point of interest **"
   ]
  },
  {
   "cell_type": "code",
   "execution_count": 8,
   "metadata": {
    "collapsed": true
   },
   "outputs": [],
   "source": [
    "E = 5\n",
    "x = 0."
   ]
  },
  {
   "cell_type": "code",
   "execution_count": 67,
   "metadata": {
    "collapsed": true
   },
   "outputs": [],
   "source": [
    "hkl = hkl0 + hkl_projection*x"
   ]
  },
  {
   "cell_type": "code",
   "execution_count": 68,
   "metadata": {
    "collapsed": false
   },
   "outputs": [
    {
     "data": {
      "text/plain": [
       "array([ 0.,  0.,  4.])"
      ]
     },
     "execution_count": 68,
     "metadata": {},
     "output_type": "execute_result"
    }
   ],
   "source": [
    "hkl"
   ]
  },
  {
   "cell_type": "markdown",
   "metadata": {},
   "source": [
    "** Run simulation setup **"
   ]
  },
  {
   "cell_type": "code",
   "execution_count": 69,
   "metadata": {
    "collapsed": true
   },
   "outputs": [],
   "source": [
    "rm -rf test/"
   ]
  },
  {
   "cell_type": "code",
   "execution_count": 70,
   "metadata": {
    "collapsed": false
   },
   "outputs": [
    {
     "name": "stdout",
     "output_type": "stream",
     "text": [
      "Ei=12.1196524, t0=136.433557094\n",
      "Computed:\n",
      "* psi=-21.1779437223 degree\n",
      "* Q=[  3.62720164e+00  -1.40529266e+00   2.01350139e-16]\n",
      "* hkl2Qmat=[[  2.48422992e-01   6.41204719e-01  -6.87646330e-01]\n",
      " [  2.48422992e-01   6.41204719e-01   6.87646330e-01]\n",
      " [  9.06800410e-01  -3.51323165e-01   5.03375347e-17]]\n",
      "* ki=2.41845180576\n",
      "* vectors ki=[ 2.41845181  0.          0.        ], kf=[ -1.20874984e+00   1.40529266e+00  -2.01350139e-16]\n",
      "These two numbers should be very close:\n",
      "  5.0\n",
      "  5.0\n",
      "  Ei=12.1196524, Ef=7.1196524\n",
      "* Ef=7.1196524\n",
      "* pixel positon=[ -2.28235251e+00   2.65346321e+00  -3.80187844e-16]\n",
      "* pixel_position=[ -2.28235251e+00   2.65346321e+00  -3.80187844e-16]\n",
      "t_m2s=0.0239518666718, t_s2p=0.00299893124569, t_m2p=0.0269507979175\n"
     ]
    }
   ],
   "source": [
    "use_res_comps.setup(\n",
    "    'test',\n",
    "    sampleyml, beam, E, hkl, hkl_projection,\n",
    "    psi_scan, instrument, pixel)"
   ]
  },
  {
   "cell_type": "code",
   "execution_count": 71,
   "metadata": {
    "collapsed": false
   },
   "outputs": [
    {
     "name": "stdout",
     "output_type": "stream",
     "text": [
      "run.py  \u001b[0m\u001b[01;34msample\u001b[0m/\r\n"
     ]
    }
   ],
   "source": [
    "ls test"
   ]
  },
  {
   "cell_type": "code",
   "execution_count": 92,
   "metadata": {
    "collapsed": false
   },
   "outputs": [
    {
     "name": "stdout",
     "output_type": "stream",
     "text": [
      "Overwriting test/mc_params.yml\n"
     ]
    }
   ],
   "source": [
    "%%file test/mc_params.yml\n",
    "Nbuffer: 100000\n",
    "Nrounds_beam: 10"
   ]
  },
  {
   "cell_type": "code",
   "execution_count": 54,
   "metadata": {
    "collapsed": true
   },
   "outputs": [],
   "source": [
    "# ! cat test/run.py"
   ]
  },
  {
   "cell_type": "code",
   "execution_count": 55,
   "metadata": {
    "collapsed": true
   },
   "outputs": [],
   "source": [
    "#! cat test/sample/sampleassembly.xml"
   ]
  },
  {
   "cell_type": "code",
   "execution_count": 56,
   "metadata": {
    "collapsed": true
   },
   "outputs": [],
   "source": [
    "# ! cat test/sample/PbTe-scatterer.xml"
   ]
  },
  {
   "cell_type": "markdown",
   "metadata": {},
   "source": [
    "** Run simulation. This will take a couple minutes **"
   ]
  },
  {
   "cell_type": "code",
   "execution_count": 93,
   "metadata": {
    "collapsed": false,
    "scrolled": true
   },
   "outputs": [
    {
     "name": "stdout",
     "output_type": "stream",
     "text": [
      "weight:  1.0\n",
      "0-99999: ........../home/lj7/dv/mcvine/export/lib/python2.7/site-packages/mcni/SimulationContext.py:39: UserWarning: output directory was not set\n",
      "  warnings.warn(\"output directory was not set\")\n",
      "\n",
      "100000-199999: ..........\n",
      "200000-299999: ..........\n",
      "300000-399999: ..........\n",
      "400000-499999: ..........\n",
      "500000-599999: ..........\n",
      "600000-699999: ..........\n",
      "700000-799999: ..........\n",
      "800000-899999: ..........\n",
      "900000-999999: ..........\n",
      "1000000-1099999: ..........\n",
      "1100000-1199999: ..........\n",
      "1200000-1299999: ..........\n",
      "1300000-1399999: ..........\n",
      "1400000-1499999: ..........\n",
      "1500000-1599999: ..........\n",
      "1600000-1699999: ..........\n",
      "1700000-1799999: ..........\n",
      "1800000-1899999: ..........\n",
      "1900000-1999999: ..........\n",
      "2000000-2099999: ..........\n",
      "2100000-2199999: ..........\n",
      "2200000-2299999: ..........\n",
      "2300000-2399999: ..........\n",
      "2400000-2499999: ..........\n",
      "2500000-2599999: ..........\n",
      "2600000-2699999: ..........\n",
      "2700000-2799999: ..........\n",
      "2800000-2899999: ..........\n",
      "2900000-2999999: ..........\n",
      "3000000-3099999: ..........\n",
      "3100000-3199999: ..........\n",
      "3200000-3299999: ..........\n",
      "3300000-3399999: ..........\n",
      "3400000-3499999: ..........\n",
      "3500000-3599999: ..........\n",
      "3600000-3699999: ..........\n",
      "3700000-3799999: ..........\n",
      "3800000-3899999: ..........\n",
      "3900000-3999999: ..........\n",
      "4000000-4099999: ..........\n",
      "4100000-4199999: ..........\n",
      "4200000-4299999: ..........\n",
      "4300000-4399999: ..........\n",
      "4400000-4499999: ..........\n",
      "4500000-4599999: ..........\n",
      "4600000-4699999: ..........\n",
      "4700000-4799999: ..........\n",
      "4800000-4899999: ..........\n",
      "4900000-4999999: ..........\n",
      "5000000-5099999: ..........\n",
      "5100000-5199999: ..........\n",
      "5200000-5299999: ..........\n",
      "5300000-5399999: ..........\n",
      "5400000-5499999: ..........\n",
      "5500000-5599999: ..........\n",
      "5600000-5699999: ..........\n",
      "5700000-5799999: ..........\n",
      "5800000-5899999: ..........\n",
      "5900000-5999999: ..........\n",
      "6000000-6099999: ..........\n",
      "6100000-6199999: ..........\n",
      "6200000-6299999: ..........\n",
      "6300000-6399999: ..........\n",
      "6400000-6499999: ..........\n",
      "6500000-6599999: ..........\n",
      "6600000-6699999: ..........\n",
      "6700000-6799999: ..........\n",
      "6800000-6899999: ..........\n",
      "6900000-6999999: ..........\n",
      "7000000-7099999: ..........\n",
      "7100000-7199999: ..........\n",
      "7200000-7299999: ..........\n",
      "7300000-7399999: ..........\n",
      "7400000-7499999: ..........\n",
      "7500000-7503459: ..........\n",
      "Done.\n"
     ]
    }
   ],
   "source": [
    "!cd test && python run.py"
   ]
  },
  {
   "cell_type": "code",
   "execution_count": 31,
   "metadata": {
    "collapsed": true
   },
   "outputs": [],
   "source": [
    "# !cat test/log.run"
   ]
  },
  {
   "cell_type": "code",
   "execution_count": 9,
   "metadata": {
    "collapsed": false
   },
   "outputs": [
    {
     "name": "stderr",
     "output_type": "stream",
     "text": [
      "/home/lj7/miniconda2/envs/dev-mcvine/lib/python2.7/site-packages/histogram/hdf/Loader.py:129: FutureWarning: elementwise comparison failed; returning scalar instead, but in the future will perform elementwise comparison\n",
      "  if 'storage' in list(dataGroup): # this uses the 'storage' convention\n"
     ]
    },
    {
     "name": "stdout",
     "output_type": "stream",
     "text": [
      "plot z in (0.0, 0.5)\n"
     ]
    },
    {
     "data": {
      "image/png": "[encoded data removed]",
      "text/plain": [
       "<matplotlib.figure.Figure at 0x7fcdf236f210>"
      ]
     },
     "metadata": {},
     "output_type": "display_data"
    },
    {
     "data": {
      "image/png": "[encoded data removed]",
      "text/plain": [
       "<matplotlib.figure.Figure at 0x7fcdf23387d0>"
      ]
     },
     "metadata": {},
     "output_type": "display_data"
    }
   ],
   "source": [
    "plt.figure(figsize=(1, 6))\n",
    "H.plot(hh.load(\"test/res.h5\"), max=.5)"
   ]
  },
  {
   "cell_type": "code",
   "execution_count": 95,
   "metadata": {
    "collapsed": false
   },
   "outputs": [
    {
     "name": "stdout",
     "output_type": "stream",
     "text": [
      "total 280896\r\n",
      "-rw-r--r-- 1 lj7 users     37013 Dec  4 11:34 res.h5\r\n",
      "-rw-r--r-- 1 lj7 users  47929800 Dec  4 11:34 probs.npy\r\n",
      "-rw-r--r-- 1 lj7 users  47929800 Dec  4 11:34 dEs.npy\r\n",
      "-rw-r--r-- 1 lj7 users  47929800 Dec  4 11:34 dxs.npy\r\n",
      "-rw-r--r-- 1 lj7 users 143789240 Dec  4 11:34 dhkls.npy\r\n",
      "-rw-r--r-- 1 lj7 users        32 Dec  4 11:26 mc_params.yml\r\n",
      "-rw-r--r-- 1 lj7 users      1269 Nov  8 11:25 run.py\r\n",
      "drwxr-xr-x 1 lj7 users         5 Nov  8 11:25 \u001b[0m\u001b[01;34msample\u001b[0m/\r\n"
     ]
    }
   ],
   "source": [
    "ls -tl test"
   ]
  },
  {
   "cell_type": "markdown",
   "metadata": {
    "collapsed": true
   },
   "source": [
    "# Fitting"
   ]
  },
  {
   "cell_type": "code",
   "execution_count": 8,
   "metadata": {
    "collapsed": false
   },
   "outputs": [
    {
     "name": "stdout",
     "output_type": "stream",
     "text": [
      "/SNS/users/lj7/simulations/CNCS/AgBiSe2/PbTe-try1\n"
     ]
    }
   ],
   "source": [
    "cd {workdir}"
   ]
  },
  {
   "cell_type": "code",
   "execution_count": 55,
   "metadata": {
    "collapsed": false
   },
   "outputs": [
    {
     "data": {
      "text/plain": [
       "<module 'dgsres.singlextal.fit_2d_psf' from '/home/lj7/dv/mcvine/export/lib/python2.7/site-packages/dgsres/singlextal/fit_2d_psf.pyc'>"
      ]
     },
     "execution_count": 55,
     "metadata": {},
     "output_type": "execute_result"
    }
   ],
   "source": [
    "from dgsres.singlextal import fit2ee, fit_2d_psf\n",
    "reload(fit2ee)\n",
    "reload(fit_2d_psf)"
   ]
  },
  {
   "cell_type": "code",
   "execution_count": 17,
   "metadata": {
    "collapsed": true
   },
   "outputs": [],
   "source": [
    "Ei = 12.\n",
    "E0 = 5."
   ]
  },
  {
   "cell_type": "code",
   "execution_count": 56,
   "metadata": {
    "collapsed": false
   },
   "outputs": [],
   "source": [
    "fitter = fit2ee.Fit2EE('./test', qaxis=(-0.3, 0.3, 0.01), Eaxis=(-2, 1, 0.05), Ei=Ei, E=E0)"
   ]
  },
  {
   "cell_type": "code",
   "execution_count": 57,
   "metadata": {
    "collapsed": false
   },
   "outputs": [],
   "source": [
    "fitter.load_mcvine_psf_qE()"
   ]
  },
  {
   "cell_type": "code",
   "execution_count": 24,
   "metadata": {
    "collapsed": false
   },
   "outputs": [
    {
     "name": "stdout",
     "output_type": "stream",
     "text": [
      "plot z in (0.0, 4.49001416149)\n"
     ]
    },
    {
     "data": {
      "image/png": "[encoded data removed]",
      "text/plain": [
       "<matplotlib.figure.Figure at 0x7ff9b1c0d510>"
      ]
     },
     "metadata": {},
     "output_type": "display_data"
    },
    {
     "data": {
      "image/png": "[encoded data removed]",
      "text/plain": [
       "<matplotlib.figure.Figure at 0x7ff9b783b650>"
      ]
     },
     "metadata": {},
     "output_type": "display_data"
    }
   ],
   "source": [
    "plt.figure(figsize=(6,4))\n",
    "H.plot(fitter.mcvine_psf_qE)"
   ]
  },
  {
   "cell_type": "markdown",
   "metadata": {},
   "source": [
    "## Fit I(E)"
   ]
  },
  {
   "cell_type": "code",
   "execution_count": 25,
   "metadata": {
    "collapsed": false
   },
   "outputs": [
    {
     "data": {
      "text/plain": [
       "[<matplotlib.lines.Line2D at 0x7ff9b1c655d0>]"
      ]
     },
     "execution_count": 25,
     "metadata": {},
     "output_type": "execute_result"
    },
    {
     "data": {
      "image/png": "[encoded data removed]",
      "text/plain": [
       "<matplotlib.figure.Figure at 0x7ff9af1e1710>"
      ]
     },
     "metadata": {},
     "output_type": "display_data"
    }
   ],
   "source": [
    "res_E = fitter.mcvine_psf_E\n",
    "plt.plot(res_E.E, res_E.I)"
   ]
  },
  {
   "cell_type": "code",
   "execution_count": 58,
   "metadata": {
    "collapsed": false
   },
   "outputs": [],
   "source": [
    "fitted_params, res_x, res_y, yfit, E_profile = \\\n",
    "    fitter.fit_E_profile(sigma_left=0.3, sigma_right=0.2, ef_width=.05, weight_left=.5)"
   ]
  },
  {
   "cell_type": "code",
   "execution_count": 59,
   "metadata": {
    "collapsed": false
   },
   "outputs": [
    {
     "data": {
      "text/plain": [
       "array([ 0.16549454,  0.26437098,  0.70245226,  0.45876045])"
      ]
     },
     "execution_count": 59,
     "metadata": {},
     "output_type": "execute_result"
    }
   ],
   "source": [
    "fitted_params"
   ]
  },
  {
   "cell_type": "code",
   "execution_count": 60,
   "metadata": {
    "collapsed": false
   },
   "outputs": [
    {
     "data": {
      "text/plain": [
       "[<matplotlib.lines.Line2D at 0x7ff964bf4c90>]"
      ]
     },
     "execution_count": 60,
     "metadata": {},
     "output_type": "execute_result"
    },
    {
     "data": {
      "image/png": "[encoded data removed]",
      "text/plain": [
       "<matplotlib.figure.Figure at 0x7ff964bcac90>"
      ]
     },
     "metadata": {},
     "output_type": "display_data"
    }
   ],
   "source": [
    "plt.plot(res_x, yfit)\n",
    "# plt.plot(res_x, E_profile(res_x))\n",
    "plt.plot(res_x, res_y, '+')"
   ]
  },
  {
   "cell_type": "code",
   "execution_count": 61,
   "metadata": {
    "collapsed": false
   },
   "outputs": [
    {
     "data": {
      "text/plain": [
       "True"
      ]
     },
     "execution_count": 61,
     "metadata": {},
     "output_type": "execute_result"
    }
   ],
   "source": [
    "E_profile is fitter.model.E_profile"
   ]
  },
  {
   "cell_type": "markdown",
   "metadata": {},
   "source": [
    "## Fit I(q)"
   ]
  },
  {
   "cell_type": "code",
   "execution_count": 62,
   "metadata": {
    "collapsed": false
   },
   "outputs": [
    {
     "data": {
      "text/plain": [
       "[<matplotlib.lines.Line2D at 0x7ff964beac90>]"
      ]
     },
     "execution_count": 62,
     "metadata": {},
     "output_type": "execute_result"
    },
    {
     "data": {
      "image/png": "[encoded data removed]",
      "text/plain": [
       "<matplotlib.figure.Figure at 0x7ff9b1bf0f10>"
      ]
     },
     "metadata": {},
     "output_type": "display_data"
    }
   ],
   "source": [
    "res_q = fitter.mcvine_psf_q\n",
    "plt.plot(res_q.q, res_q.I)"
   ]
  },
  {
   "cell_type": "code",
   "execution_count": 63,
   "metadata": {
    "collapsed": true
   },
   "outputs": [],
   "source": [
    "popt, res_x, res_y, yfit, q_profile = fitter.fit_q_profile(sigma=0.1)"
   ]
  },
  {
   "cell_type": "code",
   "execution_count": 64,
   "metadata": {
    "collapsed": false
   },
   "outputs": [
    {
     "data": {
      "text/plain": [
       "[<matplotlib.lines.Line2D at 0x7ff964a00b10>]"
      ]
     },
     "execution_count": 64,
     "metadata": {},
     "output_type": "execute_result"
    },
    {
     "data": {
      "image/png": "[encoded data removed]",
      "text/plain": [
       "<matplotlib.figure.Figure at 0x7ff964a00a50>"
      ]
     },
     "metadata": {},
     "output_type": "display_data"
    }
   ],
   "source": [
    "plt.plot(res_x, res_y, '+')\n",
    "plt.plot(res_x, yfit)"
   ]
  },
  {
   "cell_type": "code",
   "execution_count": 65,
   "metadata": {
    "collapsed": false
   },
   "outputs": [
    {
     "name": "stdout",
     "output_type": "stream",
     "text": [
      "0.0173121409146\n"
     ]
    }
   ],
   "source": [
    "print popt[-1]"
   ]
  },
  {
   "cell_type": "markdown",
   "metadata": {},
   "source": [
    "## res(q,E)"
   ]
  },
  {
   "cell_type": "code",
   "execution_count": 66,
   "metadata": {
    "collapsed": false
   },
   "outputs": [],
   "source": [
    "fitted_parameters, qgrid, Egrid, res_z, zfit, qE_profile = fitter.fit_qE_profile(dq_over_dE=0.02)"
   ]
  },
  {
   "cell_type": "code",
   "execution_count": 69,
   "metadata": {
    "collapsed": false
   },
   "outputs": [
    {
     "data": {
      "text/plain": [
       "<matplotlib.colorbar.Colorbar at 0x7ff963e47790>"
      ]
     },
     "execution_count": 69,
     "metadata": {},
     "output_type": "execute_result"
    },
    {
     "data": {
      "image/png": "[encoded data removed]",
      "text/plain": [
       "<matplotlib.figure.Figure at 0x7ff9641c6b90>"
      ]
     },
     "metadata": {},
     "output_type": "display_data"
    }
   ],
   "source": [
    "diff = res_z - zfit\n",
    "\n",
    "plt.figure(figsize=(12,4))\n",
    "plt.subplot(1,3,1)\n",
    "plt.title('data to fit')\n",
    "plt.pcolormesh(qgrid, Egrid, res_z, cmap='viridis')\n",
    "plt.colorbar()\n",
    "plt.subplot(1,3,2)\n",
    "plt.title('fit')\n",
    "plt.pcolormesh(qgrid, Egrid, zfit, cmap='viridis')\n",
    "plt.colorbar()\n",
    "plt.subplot(1,3,3)\n",
    "plt.pcolormesh(qgrid, Egrid, diff, cmap='viridis')\n",
    "plt.colorbar()"
   ]
  },
  {
   "cell_type": "code",
   "execution_count": null,
   "metadata": {
    "collapsed": true
   },
   "outputs": [],
   "source": []
  }
 ],
 "metadata": {
  "kernelspec": {
   "display_name": "Python 2",
   "language": "python",
   "name": "python2"
  },
  "language_info": {
   "codemirror_mode": {
    "name": "ipython",
    "version": 2
   },
   "file_extension": ".py",
   "mimetype": "text/x-python",
   "name": "python",
   "nbconvert_exporter": "python",
   "pygments_lexer": "ipython2",
   "version": "2.7.12"
  }
 },
 "nbformat": 4,
 "nbformat_minor": 1
}
