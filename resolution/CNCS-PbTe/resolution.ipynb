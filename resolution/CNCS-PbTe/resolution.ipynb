{
 "cells": [
  {
   "cell_type": "markdown",
   "metadata": {},
   "source": [
    "# Summary\n",
    "* Purpose: Compute resolution functions for AgBiSe2 CNCS dataset.\n",
    "* Procedure:\n",
    "  - Simulate beam\n",
    "  - Prepare sample\n",
    "  - Simulate resolution\n",
    " "
   ]
  },
  {
   "cell_type": "markdown",
   "metadata": {},
   "source": [
    "# Tools"
   ]
  },
  {
   "cell_type": "code",
   "execution_count": 1,
   "metadata": {
    "collapsed": false
   },
   "outputs": [
    {
     "data": {
      "text/plain": [
       "u'/SNS/users/lj7/notebooks/.rk-work/jnrk-analysis-mcvine-unstable'"
      ]
     },
     "execution_count": 1,
     "metadata": {},
     "output_type": "execute_result"
    }
   ],
   "source": [
    "pwd"
   ]
  },
  {
   "cell_type": "markdown",
   "metadata": {},
   "source": [
    "** Modify the workdir !!! **"
   ]
  },
  {
   "cell_type": "code",
   "execution_count": 2,
   "metadata": {
    "collapsed": true
   },
   "outputs": [],
   "source": [
    "workdir = \"/SNS/users/lj7/simulations/CNCS/AgBiSe2/resolution-try1/\""
   ]
  },
  {
   "cell_type": "code",
   "execution_count": 3,
   "metadata": {
    "collapsed": true
   },
   "outputs": [],
   "source": [
    "mkdir -p {workdir}"
   ]
  },
  {
   "cell_type": "code",
   "execution_count": 4,
   "metadata": {
    "collapsed": false
   },
   "outputs": [
    {
     "name": "stdout",
     "output_type": "stream",
     "text": [
      "/SNS/users/lj7/simulations/CNCS/AgBiSe2/resolution-try1\n"
     ]
    }
   ],
   "source": [
    "cd {workdir}"
   ]
  },
  {
   "cell_type": "code",
   "execution_count": 5,
   "metadata": {
    "collapsed": false
   },
   "outputs": [],
   "source": [
    "# %matplotlib notebook\n",
    "%matplotlib inline\n",
    "from matplotlib import pyplot as plt\n",
    "import numpy as np, os, glob\n",
    "import histogram.hdf as hh, histogram as H"
   ]
  },
  {
   "cell_type": "code",
   "execution_count": 6,
   "metadata": {
    "collapsed": false
   },
   "outputs": [
    {
     "name": "stdout",
     "output_type": "stream",
     "text": [
      "/SNS/software/miniconda2/envs/mcvine-unstable/bin/mcvine\r\n"
     ]
    }
   ],
   "source": [
    "!which mcvine"
   ]
  },
  {
   "cell_type": "code",
   "execution_count": 7,
   "metadata": {
    "collapsed": true
   },
   "outputs": [],
   "source": [
    "import mcvine.cli"
   ]
  },
  {
   "cell_type": "code",
   "execution_count": 8,
   "metadata": {
    "collapsed": true
   },
   "outputs": [],
   "source": [
    "from mcvine_workflow.singlextal.resolution import use_res_comps"
   ]
  },
  {
   "cell_type": "code",
   "execution_count": 9,
   "metadata": {
    "collapsed": false
   },
   "outputs": [],
   "source": [
    "# use_res_comps"
   ]
  },
  {
   "cell_type": "markdown",
   "metadata": {},
   "source": [
    "# Beam"
   ]
  },
  {
   "cell_type": "markdown",
   "metadata": {},
   "source": [
    "** NOTE: You can skip this section if there is existing beam simulation that you can reuse. Just make a symbolic link **"
   ]
  },
  {
   "cell_type": "code",
   "execution_count": 10,
   "metadata": {
    "collapsed": false
   },
   "outputs": [],
   "source": [
    "mkdir -p beam"
   ]
  },
  {
   "cell_type": "code",
   "execution_count": 11,
   "metadata": {
    "collapsed": false
   },
   "outputs": [
    {
     "name": "stdout",
     "output_type": "stream",
     "text": [
      "/SNS/users/lj7/simulations/CNCS/AgBiSe2/resolution-try1/beam\n"
     ]
    }
   ],
   "source": [
    "cd {workdir}/beam/"
   ]
  },
  {
   "cell_type": "markdown",
   "metadata": {},
   "source": [
    "** Options for the beam simulation **"
   ]
  },
  {
   "cell_type": "code",
   "execution_count": 12,
   "metadata": {
    "collapsed": false
   },
   "outputs": [
    {
     "name": "stdout",
     "output_type": "stream",
     "text": [
      "properties of 'cncs_beam':\r\n",
      "    E=<float>: desired incident beam energy. unit: meV\r\n",
      "        default value: 20\r\n",
      "        current value: 20.0, from {default}\r\n",
      "    dumpconfiguration=<bool>: If set, dump configuration to a pml file\r\n",
      "        default value: 0\r\n",
      "        current value: False, from {default}\r\n",
      "    dumpconfiguration-output=<str>: Output file path of dumped configuration file (pml)\r\n",
      "        default value: ''\r\n",
      "        current value: '', from {default}\r\n",
      "    f1=<float>: Chopper freq 1. unit: Hz\r\n",
      "        default value: 60\r\n",
      "        current value: 60.0, from {default}\r\n",
      "    f2=<float>: Chopper freq 2. unit: Hz\r\n",
      "        default value: 60\r\n",
      "        current value: 60.0, from {default}\r\n",
      "    f3=<float>: Chopper freq 3. unit: Hz\r\n",
      "        default value: 60\r\n",
      "        current value: 60.0, from {default}\r\n",
      "    f41=<float>: Chopper freq 41. unit: Hz\r\n",
      "        default value: 300\r\n",
      "        current value: 300.0, from {default}\r\n",
      "    f42=<float>: Chopper freq 42. unit: Hz\r\n",
      "        default value: 300\r\n",
      "        current value: 300.0, from {default}\r\n",
      "    fluxmode=<float>: flux mode\r\n",
      "        default value: 9.0\r\n",
      "        current value: 9.0, from {default}\r\n",
      "    help=<bool>: prints a screen that describes my traits\r\n",
      "        default value: False\r\n",
      "        current value: False, from {default}\r\n",
      "    help-components=<bool>: prints a screen that describes my subcomponents\r\n",
      "        default value: False\r\n",
      "        current value: False, from {default}\r\n",
      "    help-persistence=<bool>: prints a screen that describes my persistent store\r\n",
      "        default value: False\r\n",
      "        current value: False, from {default}\r\n",
      "    help-properties=<bool>: prints a screen that describes my properties\r\n",
      "        default value: False\r\n",
      "        current value: True, from {command line}\r\n",
      "    ncount=<float>: neutron count\r\n",
      "        default value: 1000000\r\n",
      "        current value: 1000000.0, from {default}\r\n",
      "    nodes=<int>: # of mpi nodes\r\n",
      "        default value: 1\r\n",
      "        current value: 1, from {default}\r\n",
      "    typos=<str>: specifies the handling of typos in the names of properties and facilities\r\n",
      "        default value: 'strict'\r\n",
      "        current value: 'strict', from {default}\r\n",
      "        validator: (in ['relaxed', 'strict', 'pedantic'])\r\n"
     ]
    }
   ],
   "source": [
    "!mcvine instruments cncs beam --help-properties"
   ]
  },
  {
   "cell_type": "code",
   "execution_count": 15,
   "metadata": {
    "collapsed": true
   },
   "outputs": [],
   "source": [
    "# Ei=15, highflux mode"
   ]
  },
  {
   "cell_type": "code",
   "execution_count": 32,
   "metadata": {
    "collapsed": false,
    "scrolled": true
   },
   "outputs": [
    {
     "name": "stdout",
     "output_type": "stream",
     "text": [
      "/home/lj7/dv/mcvine/export/lib/python2.7/site-packages/mcni/AbstractComponent.py:40: UserWarning: In NeutronToStorage: Deprecated. should use self.simulation_context.overwrite_datafiles\n",
      "  warnings.warn(msg)\n",
      "/home/lj7/dv/mcvine/export/lib/python2.7/site-packages/mcni/AbstractComponent.py:40: UserWarning: In NeutronToStorage: Deprecated. should use self.simulation_context.overwrite_datafiles\n",
      "  warnings.warn(msg)\n",
      "/home/lj7/dv/mcvine/export/lib/python2.7/site-packages/mcni/AbstractComponent.py:40: UserWarning: In NeutronToStorage: Deprecated. should use self.simulation_context.overwrite_datafiles\n",
      "  warnings.warn(msg)\n",
      "/home/lj7/dv/mcvine/export/lib/python2.7/site-packages/mcni/AbstractComponent.py:40: UserWarning: In NeutronToStorage: Deprecated. should use self.simulation_context.overwrite_datafiles\n",
      "  warnings.warn(msg)\n",
      "/home/lj7/dv/mcvine/export/lib/python2.7/site-packages/mcni/AbstractComponent.py:40: UserWarning: In NeutronToStorage: Deprecated. should use self.simulation_context.overwrite_datafiles\n",
      "  warnings.warn(msg)\n",
      "/home/lj7/dv/mcvine/export/lib/python2.7/site-packages/mcni/AbstractComponent.py:40: UserWarning: In NeutronToStorage: Deprecated. should use self.simulation_context.overwrite_datafiles\n",
      "  warnings.warn(msg)\n",
      "/home/lj7/dv/mcvine/export/lib/python2.7/site-packages/mcni/AbstractComponent.py:40: UserWarning: In NeutronToStorage: Deprecated. should use self.simulation_context.overwrite_datafiles\n",
      "  warnings.warn(msg)\n",
      "/home/lj7/dv/mcvine/export/lib/python2.7/site-packages/mcni/AbstractComponent.py:40: UserWarning: In NeutronToStorage: Deprecated. should use self.simulation_context.overwrite_datafiles\n",
      "  warnings.warn(msg)\n",
      "/home/lj7/dv/mcvine/export/lib/python2.7/site-packages/mcni/AbstractComponent.py:40: UserWarning: In NeutronToStorage: Deprecated. should use self.simulation_context.overwrite_datafiles\n",
      "  warnings.warn(msg)\n",
      "/home/lj7/dv/mcvine/export/lib/python2.7/site-packages/mcni/AbstractComponent.py:40: UserWarning: In NeutronToStorage: Deprecated. should use self.simulation_context.overwrite_datafiles\n",
      "  warnings.warn(msg)\n",
      "/home/lj7/dv/mcvine/export/lib/python2.7/site-packages/mcni/AbstractComponent.py:40: UserWarning: In NeutronToStorage: Deprecated. should use self.simulation_context.overwrite_datafiles\n",
      "  warnings.warn(msg)\n",
      "/home/lj7/dv/mcvine/export/lib/python2.7/site-packages/mcni/AbstractComponent.py:40: UserWarning: In NeutronToStorage: Deprecated. should use self.simulation_context.overwrite_datafiles\n",
      "  warnings.warn(msg)\n",
      "/home/lj7/dv/mcvine/export/lib/python2.7/site-packages/mcni/AbstractComponent.py:40: UserWarning: In NeutronToStorage: Deprecated. should use self.simulation_context.overwrite_datafiles\n",
      "  warnings.warn(msg)\n",
      "/home/lj7/dv/mcvine/export/lib/python2.7/site-packages/mcni/AbstractComponent.py:40: UserWarning: In NeutronToStorage: Deprecated. should use self.simulation_context.overwrite_datafiles\n",
      "  warnings.warn(msg)\n",
      "/home/lj7/dv/mcvine/export/lib/python2.7/site-packages/mcni/AbstractComponent.py:40: UserWarning: In NeutronToStorage: Deprecated. should use self.simulation_context.overwrite_datafiles\n",
      "  warnings.warn(msg)\n",
      "/home/lj7/dv/mcvine/export/lib/python2.7/site-packages/mcni/AbstractComponent.py:40: UserWarning: In NeutronToStorage: Deprecated. should use self.simulation_context.overwrite_datafiles\n",
      "  warnings.warn(msg)\n",
      "/home/lj7/dv/mcvine/export/lib/python2.7/site-packages/mcni/AbstractComponent.py:40: UserWarning: In NeutronToStorage: Deprecated. should use self.simulation_context.overwrite_datafiles\n",
      "  warnings.warn(msg)\n",
      "/home/lj7/dv/mcvine/export/lib/python2.7/site-packages/mcni/AbstractComponent.py:40: UserWarning: In NeutronToStorage: Deprecated. should use self.simulation_context.overwrite_datafiles\n",
      "  warnings.warn(msg)\n",
      "/home/lj7/dv/mcvine/export/lib/python2.7/site-packages/mcni/AbstractComponent.py:40: UserWarning: In NeutronToStorage: Deprecated. should use self.simulation_context.overwrite_datafiles\n",
      "  warnings.warn(msg)\n",
      "/home/lj7/dv/mcvine/export/lib/python2.7/site-packages/mcni/AbstractComponent.py:40: UserWarning: In NeutronToStorage: Deprecated. should use self.simulation_context.overwrite_datafiles\n",
      "  warnings.warn(msg)\n",
      "/home/lj7/dv/mcvine/export/lib/python2.7/site-packages/mcni/pyre_support/MpiApplication.py:87: UserWarning: no point to run in parallel mode when using just one node\n",
      "  warnings.warn(\"no point to run in parallel mode when using just one node\")\n",
      "/home/lj7/miniconda2/envs/dev-mcvine/lib/python2.7/site-packages/histogram/hdf/Loader.py:129: FutureWarning: elementwise comparison failed; returning scalar instead, but in the future will perform elementwise comparison\n",
      "  if 'storage' in list(dataGroup): # this uses the 'storage' convention\n",
      "/home/lj7/miniconda2/envs/dev-mcvine/lib/python2.7/site-packages/histogram/hdf/Loader.py:129: FutureWarning: elementwise comparison failed; returning scalar instead, but in the future will perform elementwise comparison\n",
      "  if 'storage' in list(dataGroup): # this uses the 'storage' convention\n",
      "/home/lj7/miniconda2/envs/dev-mcvine/lib/python2.7/site-packages/histogram/hdf/Loader.py:129: FutureWarning: elementwise comparison failed; returning scalar instead, but in the future will perform elementwise comparison\n",
      "  if 'storage' in list(dataGroup): # this uses the 'storage' convention\n",
      "/home/lj7/miniconda2/envs/dev-mcvine/lib/python2.7/site-packages/histogram/hdf/Loader.py:129: FutureWarning: elementwise comparison failed; returning scalar instead, but in the future will perform elementwise comparison\n",
      "  if 'storage' in list(dataGroup): # this uses the 'storage' convention\n",
      "/home/lj7/miniconda2/envs/dev-mcvine/lib/python2.7/site-packages/histogram/hdf/Loader.py:129: FutureWarning: elementwise comparison failed; returning scalar instead, but in the future will perform elementwise comparison\n",
      "  if 'storage' in list(dataGroup): # this uses the 'storage' convention\n",
      "CPU times: user 3min 7s, sys: 15.7 s, total: 3min 23s\n",
      "Wall time: 3h 22min 58s\n"
     ]
    }
   ],
   "source": [
    "%%time\n",
    "!mcvine instruments cncs beam -E=15 -f1=60 -f2=60 -f3=60 -f41=300 -f42=300 -ncount=1e10 -fluxmode=9.0 -nodes=20 >log.sim"
   ]
  },
  {
   "cell_type": "code",
   "execution_count": 13,
   "metadata": {
    "collapsed": false
   },
   "outputs": [
    {
     "data": {
      "image/png": "[encoded data removed]",
      "text/plain": [
       "<matplotlib.figure.Figure at 0x7f6342fa8590>"
      ]
     },
     "metadata": {},
     "output_type": "display_data"
    }
   ],
   "source": [
    "H.plot(hh.load('out/ienergy.h5'))"
   ]
  },
  {
   "cell_type": "code",
   "execution_count": 14,
   "metadata": {
    "collapsed": false
   },
   "outputs": [
    {
     "data": {
      "image/png": "[encoded data removed]",
      "text/plain": [
       "<matplotlib.figure.Figure at 0x7f6341037fd0>"
      ]
     },
     "metadata": {},
     "output_type": "display_data"
    }
   ],
   "source": [
    "H.plot(hh.load('out/itof.h5')[(0.02132, 0.02152)])"
   ]
  },
  {
   "cell_type": "code",
   "execution_count": 15,
   "metadata": {
    "collapsed": false
   },
   "outputs": [
    {
     "name": "stdout",
     "output_type": "stream",
     "text": [
      "ienergy.h5  ix_divx.h5  ix_y.h5     iy_divy.h5  props.json\r\n",
      "itof.h5     ix_divy.h5  iy_divx.h5  neutrons    \u001b[0m\u001b[01;34mrank0-step0\u001b[0m/\r\n"
     ]
    }
   ],
   "source": [
    "ls out"
   ]
  },
  {
   "cell_type": "code",
   "execution_count": 16,
   "metadata": {
    "collapsed": false
   },
   "outputs": [
    {
     "name": "stdout",
     "output_type": "stream",
     "text": [
      "{'flux': '351896.249009 counts per 34kJ pulse', 'tof fwhm': '59.9398936458 microsecond', 'average energy': '15.1557796266 meV'}"
     ]
    }
   ],
   "source": [
    "cat out/props.json"
   ]
  },
  {
   "cell_type": "code",
   "execution_count": 17,
   "metadata": {
    "collapsed": false
   },
   "outputs": [
    {
     "name": "stdout",
     "output_type": "stream",
     "text": [
      "685818\r\n"
     ]
    }
   ],
   "source": [
    "!mcvine-neutron-storage-count-neutrons out/neutrons"
   ]
  },
  {
   "cell_type": "markdown",
   "metadata": {},
   "source": [
    "# Sample"
   ]
  },
  {
   "cell_type": "code",
   "execution_count": 18,
   "metadata": {
    "collapsed": false
   },
   "outputs": [
    {
     "name": "stdout",
     "output_type": "stream",
     "text": [
      "/SNS/users/lj7/simulations/CNCS/AgBiSe2/resolution-try1\n"
     ]
    }
   ],
   "source": [
    "cd {workdir}"
   ]
  },
  {
   "cell_type": "code",
   "execution_count": 19,
   "metadata": {
    "collapsed": false
   },
   "outputs": [
    {
     "name": "stdout",
     "output_type": "stream",
     "text": [
      "Overwriting sample.yaml\n"
     ]
    }
   ],
   "source": [
    "%%file sample.yaml\n",
    "name: AgBiSe2\n",
    "chemical_formula: AgBiSe2\n",
    "lattice: \n",
    " constants: 5.835, 5.835, 5.835, 90, 90, 90\n",
    " basis_vectors:\n",
    "  - 5.835, 0, 0\n",
    "  - 0, 5.835, 0\n",
    "  - 0, 0, 5.835\n",
    "excitations:\n",
    " - type: DGSresolution\n",
    "orientation:\n",
    " u: 0, 0, 1\n",
    " v: 1, 1, 0\n",
    "shape: cylinder radius=\"1.1*cm\" height=\"2*cm\"\n",
    "temperature: 100*K"
   ]
  },
  {
   "cell_type": "code",
   "execution_count": 20,
   "metadata": {
    "collapsed": true
   },
   "outputs": [],
   "source": [
    "sampleyml = \"{workdir}/sample.yaml\".format(**locals())"
   ]
  },
  {
   "cell_type": "code",
   "execution_count": 21,
   "metadata": {
    "collapsed": false
   },
   "outputs": [
    {
     "name": "stdout",
     "output_type": "stream",
     "text": [
      "/SNS/users/lj7/simulations/CNCS/AgBiSe2/resolution-try1//sample.yaml\n"
     ]
    }
   ],
   "source": [
    "print sampleyml"
   ]
  },
  {
   "cell_type": "markdown",
   "metadata": {},
   "source": [
    "# CNCS Instrument"
   ]
  },
  {
   "cell_type": "code",
   "execution_count": 22,
   "metadata": {
    "collapsed": false
   },
   "outputs": [],
   "source": [
    "beam = \"/SNS/users/lj7/simulations/CNCS/AgBiSe2/resolution-try1/beam/\"\n",
    "psi_axis = -74, 50, 1\n",
    "instrument = use_res_comps.instrument(\n",
    "    name = 'CNCS',\n",
    "    detsys_radius = \"3.5*meter\",\n",
    "    L_m2s = \"36.264*meter\",\n",
    "    offset_sample2beam = \"-0.15*meter\" # offset from sample to saved beam\n",
    "    )\n",
    "pixel = use_res_comps.pixel(\n",
    "    radius = \"0.5*inch\",\n",
    "    height = \"2.*meter/128\",\n",
    "    pressure = \"6*atm\",\n",
    "    )"
   ]
  },
  {
   "cell_type": "markdown",
   "metadata": {},
   "source": [
    "# Try one point"
   ]
  },
  {
   "cell_type": "code",
   "execution_count": 23,
   "metadata": {
    "collapsed": false
   },
   "outputs": [
    {
     "name": "stdout",
     "output_type": "stream",
     "text": [
      "/SNS/users/lj7/simulations/CNCS/AgBiSe2/resolution-try1\n"
     ]
    }
   ],
   "source": [
    "cd {workdir}"
   ]
  },
  {
   "cell_type": "markdown",
   "metadata": {},
   "source": [
    "** Define projection direction and starting point **"
   ]
  },
  {
   "cell_type": "code",
   "execution_count": 24,
   "metadata": {
    "collapsed": true
   },
   "outputs": [],
   "source": [
    "hkl_projection = np.array([-1,-1,0])"
   ]
  },
  {
   "cell_type": "code",
   "execution_count": 25,
   "metadata": {
    "collapsed": false
   },
   "outputs": [
    {
     "data": {
      "text/plain": [
       "array([0, 0, 2])"
      ]
     },
     "execution_count": 25,
     "metadata": {},
     "output_type": "execute_result"
    }
   ],
   "source": [
    "hkl0 = np.array([0,0,2])\n",
    "hkl0"
   ]
  },
  {
   "cell_type": "markdown",
   "metadata": {},
   "source": [
    "** Define point of interest **"
   ]
  },
  {
   "cell_type": "code",
   "execution_count": 26,
   "metadata": {
    "collapsed": true
   },
   "outputs": [],
   "source": [
    "E = 5\n",
    "x = 0.5"
   ]
  },
  {
   "cell_type": "code",
   "execution_count": 27,
   "metadata": {
    "collapsed": true
   },
   "outputs": [],
   "source": [
    "hkl = hkl0 + hkl_projection*x"
   ]
  },
  {
   "cell_type": "code",
   "execution_count": 28,
   "metadata": {
    "collapsed": false
   },
   "outputs": [
    {
     "data": {
      "text/plain": [
       "array([-0.5, -0.5,  2. ])"
      ]
     },
     "execution_count": 28,
     "metadata": {},
     "output_type": "execute_result"
    }
   ],
   "source": [
    "hkl"
   ]
  },
  {
   "cell_type": "markdown",
   "metadata": {},
   "source": [
    "** Run simulation setup **"
   ]
  },
  {
   "cell_type": "code",
   "execution_count": 29,
   "metadata": {
    "collapsed": true
   },
   "outputs": [],
   "source": [
    "rm -rf test/"
   ]
  },
  {
   "cell_type": "code",
   "execution_count": 30,
   "metadata": {
    "collapsed": false
   },
   "outputs": [
    {
     "name": "stdout",
     "output_type": "stream",
     "text": [
      "15.1557796266 125.075700477\n",
      "Ei=15.1557796266, t0=125.075700477\n",
      "Computed:\n",
      "* psi=-32.386935884 degree\n",
      "* Q=[ 1.41078189 -1.79653325  0.        ]\n",
      "* hkl2Qmat=[[ 0.40784239  0.64298078 -0.76141953]\n",
      " [ 0.40784239  0.64298078  0.76141953]\n",
      " [ 0.90931214 -0.57677624  0.        ]]\n",
      "* ki=2.70446581426\n",
      "* vectors ki=[ 2.70446581  0.          0.        ], kf=[ 1.29368393  1.79653325  0.        ]\n",
      "These two numbers should be very close:\n",
      "5.0\n",
      "5.0\n",
      "  Ei=15.1557796266, Ef=10.1557796266\n",
      "* Ef=10.1557796266\n",
      "* pixel positon=[ 2.04525394  2.84023526  0.        ]\n",
      "* pixel_position=[ 2.04525394  2.84023526  0.        ]\n",
      "t_m2s=0.0214218792754, t_s2p=0.00251095696987, t_m2p=0.0239328362453\n"
     ]
    },
    {
     "name": "stderr",
     "output_type": "stream",
     "text": [
      "/SNS/software/miniconda2/envs/mcvine-unstable/share/mcvine/workflow/mcvine_workflow/singlextal/solve_psi.py:55: UserWarning: Traceback (most recent call last):\n",
      "  File \"/SNS/software/miniconda2/envs/mcvine-unstable/share/mcvine/workflow/mcvine_workflow/singlextal/solve_psi.py\", line 52, in solve\n",
      "    results.append(solver(res, min, max))\n",
      "  File \"/SNS/software/miniconda2/envs/mcvine-unstable/lib/python2.7/site-packages/scipy/optimize/zeros.py\", line 442, in brentq\n",
      "    r = _zeros._brentq(f,a,b,xtol,rtol,maxiter,args,full_output,disp)\n",
      "ValueError: f(a) and f(b) must have different signs\n",
      "\n",
      "  warnings.warn(tb.format_exc())\n"
     ]
    }
   ],
   "source": [
    "use_res_comps.setup(\n",
    "    'test',\n",
    "    sampleyml, beam, E, hkl, hkl_projection,\n",
    "    psi_axis, instrument, pixel)"
   ]
  },
  {
   "cell_type": "code",
   "execution_count": 31,
   "metadata": {
    "collapsed": false
   },
   "outputs": [
    {
     "name": "stdout",
     "output_type": "stream",
     "text": [
      "run.py  \u001b[0m\u001b[01;34msample\u001b[0m/\r\n"
     ]
    }
   ],
   "source": [
    "ls test"
   ]
  },
  {
   "cell_type": "code",
   "execution_count": 32,
   "metadata": {
    "collapsed": false
   },
   "outputs": [],
   "source": [
    "#! cat test/run.py"
   ]
  },
  {
   "cell_type": "code",
   "execution_count": 33,
   "metadata": {
    "collapsed": false
   },
   "outputs": [],
   "source": [
    "#! cat test/sample/AgBiSe2-scatterer.xml"
   ]
  },
  {
   "cell_type": "markdown",
   "metadata": {},
   "source": [
    "** Run simulation. This will take a couple minutes **"
   ]
  },
  {
   "cell_type": "code",
   "execution_count": 34,
   "metadata": {
    "collapsed": false
   },
   "outputs": [
    {
     "name": "stdout",
     "output_type": "stream",
     "text": [
      "weight:  1.0\n",
      "0-99999: ........../SNS/software/miniconda2/envs/mcvine-unstable/lib/python2.7/site-packages/mcni/SimulationContext.py:39: UserWarning: output directory was not set\n",
      "  warnings.warn(\"output directory was not set\")\n",
      "\n",
      "100000-199999: ..........\n",
      "200000-299999: ..........\n",
      "300000-399999: ..........\n",
      "400000-499999: ..........\n",
      "500000-599999: ..........\n",
      "Done.\n"
     ]
    }
   ],
   "source": [
    "!cd test && python run.py"
   ]
  },
  {
   "cell_type": "code",
   "execution_count": 35,
   "metadata": {
    "collapsed": false
   },
   "outputs": [],
   "source": [
    "# !cat test/log.run"
   ]
  },
  {
   "cell_type": "code",
   "execution_count": 36,
   "metadata": {
    "collapsed": false
   },
   "outputs": [
    {
     "name": "stdout",
     "output_type": "stream",
     "text": [
      "total 24672\r\n",
      "-rw-r--r-- 1 lj7 users    27194 Mar  6 23:51 res.h5\r\n",
      "-rw-r--r-- 1 lj7 users  3856080 Mar  6 23:51 probs.npy\r\n",
      "-rw-r--r-- 1 lj7 users  3856080 Mar  6 23:51 dEs.npy\r\n",
      "-rw-r--r-- 1 lj7 users  3856080 Mar  6 23:51 dxs.npy\r\n",
      "-rw-r--r-- 1 lj7 users 11568080 Mar  6 23:51 dhkls.npy\r\n",
      "-rw-r--r-- 1 lj7 users      986 Mar  6 23:46 run.py\r\n",
      "drwxr-xr-x 2 lj7 users       93 Mar  6 23:46 \u001b[0m\u001b[01;34msample\u001b[0m/\r\n"
     ]
    }
   ],
   "source": [
    "ls -tl test"
   ]
  },
  {
   "cell_type": "code",
   "execution_count": 38,
   "metadata": {
    "collapsed": false
   },
   "outputs": [
    {
     "name": "stdout",
     "output_type": "stream",
     "text": [
      "plot z in (0.0, 0.877375124728)\n"
     ]
    },
    {
     "data": {
      "image/png": "[encoded data removed]",
      "text/plain": [
       "<matplotlib.figure.Figure at 0x7f6340fc8f50>"
      ]
     },
     "metadata": {},
     "output_type": "display_data"
    }
   ],
   "source": [
    "H.plot(hh.load(\"test/res.h5\"))"
   ]
  },
  {
   "cell_type": "code",
   "execution_count": null,
   "metadata": {
    "collapsed": true
   },
   "outputs": [],
   "source": []
  }
 ],
 "metadata": {
  "kernelspec": {
   "display_name": "mcvine-unstable at jnrk-analysis",
   "language": "python",
   "name": "jnrk-analysis-mcvine-unstable"
  },
  "language_info": {
   "codemirror_mode": {
    "name": "ipython",
    "version": 2
   },
   "file_extension": ".py",
   "mimetype": "text/x-python",
   "name": "python",
   "nbconvert_exporter": "python",
   "pygments_lexer": "ipython2",
   "version": "2.7.12"
  }
 },
 "nbformat": 4,
 "nbformat_minor": 1
}
