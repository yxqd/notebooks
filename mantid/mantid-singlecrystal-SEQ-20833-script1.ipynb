{
 "cells": [
  {
   "cell_type": "code",
   "execution_count": 20,
   "metadata": {
    "collapsed": true
   },
   "outputs": [],
   "source": [
    "import os, numpy as np, matplotlib as mpl"
   ]
  },
  {
   "cell_type": "code",
   "execution_count": 1,
   "metadata": {
    "collapsed": true
   },
   "outputs": [],
   "source": [
    "import mantid"
   ]
  },
  {
   "cell_type": "code",
   "execution_count": 2,
   "metadata": {
    "collapsed": true
   },
   "outputs": [],
   "source": [
    "from mantid import simpleapi as msa"
   ]
  },
  {
   "cell_type": "markdown",
   "metadata": {},
   "source": [
    "# DGS reduction\n",
    "Make sure to not do beam normalization, SofPhiEIsDistribution=0, and no vanadium (UseProcessedDetVan=0)"
   ]
  },
  {
   "cell_type": "code",
   "execution_count": 5,
   "metadata": {},
   "outputs": [
    {
     "name": "stdout",
     "output_type": "stream",
     "text": [
      "\u001b[0m\u001b[01;34mData\u001b[0m/  \u001b[01;34mnexus\u001b[0m/  \u001b[01;34mshared\u001b[0m/\r\n"
     ]
    }
   ],
   "source": [
    "ls /SNS/SEQ/IPTS-20833/"
   ]
  },
  {
   "cell_type": "code",
   "execution_count": 7,
   "metadata": {},
   "outputs": [
    {
     "name": "stdout",
     "output_type": "stream",
     "text": [
      "/SNS/snfs1/instruments/SEQ/IPTS-20833/shared/red-07272018\n"
     ]
    }
   ],
   "source": [
    "workdir = '/SNS/SEQ/IPTS-20833/shared/red-07272018'\n",
    "!mkdir -p {workdir}\n",
    "%cd {workdir}"
   ]
  },
  {
   "cell_type": "markdown",
   "metadata": {},
   "source": [
    "Runs: 147504-147863"
   ]
  },
  {
   "cell_type": "markdown",
   "metadata": {},
   "source": [
    "Crystal orientation: 6.86, 6.86, 19.8   90 90 120\n",
    "u 100\n",
    "v -0.008 0.016 1"
   ]
  },
  {
   "cell_type": "code",
   "execution_count": 13,
   "metadata": {
    "collapsed": true
   },
   "outputs": [],
   "source": [
    "a=b=6.86\n",
    "c=19.8\n",
    "alpha = beta = 90.\n",
    "gamma = 120.\n",
    "u = [1,0,0]\n",
    "v = [-0.008, 0.016, 1]"
   ]
  },
  {
   "cell_type": "code",
   "execution_count": 14,
   "metadata": {
    "collapsed": true
   },
   "outputs": [],
   "source": [
    "Q1_projection = \"1,0,0\"\n",
    "Q2_projection = \"0,1,0\"\n",
    "Q3_projection = \"0,0,1\""
   ]
  },
  {
   "cell_type": "code",
   "execution_count": 17,
   "metadata": {
    "collapsed": true
   },
   "outputs": [],
   "source": [
    "emin = -0.5*25\n",
    "emax = 0.95*25"
   ]
  },
  {
   "cell_type": "code",
   "execution_count": 21,
   "metadata": {
    "collapsed": true
   },
   "outputs": [],
   "source": [
    "for run in range(147504, 147863+1):\n",
    "    fn = '/SNS/SEQ/IPTS-20833/nexus/SEQ_%s.nxs.h5' % run\n",
    "    data = msa.LoadEventNexus(fn)\n",
    "    monws = msa.LoadNexusMonitors(fn)\n",
    "    Ei, T0 = msa.GetEiT0atSNS(monws)\n",
    "    dgs,_=msa.DgsReduction(\n",
    "        SampleInputWorkspace=data,\n",
    "        IncidentEnergyGuess=Ei,\n",
    "        TimeZeroGuess=T0,\n",
    "        UseIncidentEnergyGuess=True,\n",
    "        SampleInputMonitorWorkspace=data,\n",
    "        IncidentBeamNormalisation='None',\n",
    "        SofPhiEIsDistribution='0')\n",
    "    dgs=msa.CropWorkspace(InputWorkspace=dgs, XMin = emin, XMax = emax)\n",
    "    msa.SetUB(dgs,a=a,b=b,c=c,alpha=alpha,beta=beta,gamma=gamma,u=u,v=v)\n",
    "    msa.SetGoniometer(dgs, Axis0=\"phi,0,1,0,1\")\n",
    "    minValues,maxValues=msa.ConvertToMDMinMaxLocal(InputWorkspace=dgs, \n",
    "                                               QDimensions='Q3D',\n",
    "                                               dEAnalysisMode='Direct',\n",
    "                                               Q3DFrames='HKL',\n",
    "                                               QConversionScales='HKL',\n",
    "                                               Uproj=Q1_projection,\n",
    "                                               Vproj=Q2_projection,\n",
    "                                               Wproj=Q3_projection)\n",
    "\n",
    "    mdpart=msa.ConvertToMD(dgs,\n",
    "                       QDimensions='Q3D',\n",
    "                       dEAnalysisMode='Direct',\n",
    "                       Q3DFrames=\"HKL\",\n",
    "                       QConversionScales=\"HKL\",\n",
    "                       MinValues=minValues,\n",
    "                       MaxValues=maxValues,\n",
    "                       UProj=Q1_projection,\n",
    "                       VProj=Q2_projection,\n",
    "                       WProj=Q3_projection)\n",
    "    msa.SaveMD(mdpart, \"%s/mde/mdpart-%s.nxs\" % (os.path.abspath('.'), run))"
   ]
  },
  {
   "cell_type": "code",
   "execution_count": 23,
   "metadata": {},
   "outputs": [
    {
     "name": "stdout",
     "output_type": "stream",
     "text": [
      "360\r\n"
     ]
    }
   ],
   "source": [
    "ls mde/*.nxs | wc -l"
   ]
  },
  {
   "cell_type": "code",
   "execution_count": null,
   "metadata": {
    "collapsed": true
   },
   "outputs": [],
   "source": []
  }
 ],
 "metadata": {
  "kernelspec": {
   "display_name": "python3-default at jnrk-sns-analysis",
   "language": "python",
   "name": "jnrk-sns-analysis-python3-default"
  },
  "language_info": {
   "codemirror_mode": {
    "name": "ipython",
    "version": 3
   },
   "file_extension": ".py",
   "mimetype": "text/x-python",
   "name": "python",
   "nbconvert_exporter": "python",
   "pygments_lexer": "ipython3",
   "version": "3.6.5"
  },
  "toc": {
   "base_numbering": 1,
   "nav_menu": {},
   "number_sections": true,
   "sideBar": true,
   "skip_h1_title": false,
   "title_cell": "Table of Contents",
   "title_sidebar": "Contents",
   "toc_cell": false,
   "toc_position": {},
   "toc_section_display": true,
   "toc_window_display": false
  }
 },
 "nbformat": 4,
 "nbformat_minor": 2
}
